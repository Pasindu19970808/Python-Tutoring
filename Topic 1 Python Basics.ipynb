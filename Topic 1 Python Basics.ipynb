{
 "cells": [
  {
   "cell_type": "code",
   "execution_count": 1,
   "metadata": {},
   "outputs": [
    {
     "data": {
      "text/html": [
       "\n",
       "<style>\n",
       "\n",
       "iframe#net {\n",
       "  \n",
       "  width: 800px;\n",
       "  height: 450px;\n",
       "  margin-left: -100px;\n",
       "  border: none;\n",
       "  margin-top: -58px;\n",
       "   align: left;\n",
       "  -webkit-transform:scale(0.85);\n",
       "  -moz-transform:scale(0.85);\n",
       " \n",
       " \n",
       "}\n",
       " \n",
       "td {\n",
       "vertical-align: top;\n",
       "}\n",
       "\n",
       "table {\n",
       "\n",
       "\tborder-collapse:collapse;\n",
       "\tborder-spacing:0;\n",
       "\tempty-cells:show;\n",
       "\tmargin-bottom:24px\n",
       "}\n",
       "\n",
       "div.box {\n",
       "  width: 30%;\n",
       "  border-left: 6px solid red; \n",
       "  background-color: lightgrey;\n",
       "}\n",
       "\n",
       "table caption {\n",
       "\tcolor:#000;\n",
       "\tfont:italic 85%/1 arial,sans-serif;\n",
       "\tpadding: 1em 0;\n",
       "\ttext-align: center !important;}\n",
       "\n",
       "table td, table th {\n",
       "\tfont-size:120%;\n",
       "\tmargin:0;\n",
       "\toverflow:visible;\n",
       "\tpadding: 8px 16px}\n",
       " \n",
       "\n",
       " table thead th {\n",
       "\tfont-weight:bold;\n",
       "\tborder-bottom:solid 2px #e1e4e5\n",
       "\t\n",
       "} \n",
       "\n",
       "\n",
       " table td {\n",
       "background-color:transparent;\n",
       "vertical-align:middle; \n",
       "border-bottom:1px solid #e1e4e5; \n",
       "border-left:1px solid #e1e4e5; \n",
       "text-align: left  !important;}\n",
       "\n",
       " table thead > tr  {\n",
       "font-size:140%;\n",
       "text-decoration: underline;\n",
       "}\n",
       "\n",
       "\n",
       "\n",
       " table td p {line-height:18px}\n",
       "\n",
       "table td:first-child, table th:first-child {\n",
       "border-left-width:0;\n",
       "}\n",
       " \n",
       " table td p:last-child {margin-bottom:0}\n",
       " \n",
       "table:not(.field-list) tr:nth-child(2n-1) td{background-color:#f3f6f6}\n",
       "  \n",
       " \n",
       " table tbody>tr:last-child td{border-bottom-width:0} \n",
       "\n",
       "div.warn {    \n",
       "    background-color: #fcf2f2;\n",
       "    border-color: #dFb5b4;\n",
       "    border-left: 5px solid #dfb5b4;\n",
       "    padding: 0.5em;\n",
       "    }\n",
       "  \n",
       " blockquote {\n",
       "  background: #f9f9f9;\n",
       "  border-left: 10px solid #ccc;\n",
       "  margin: 1.5em 10px;\n",
       "  padding: 0.5em 10px;\n",
       "  quotes: \"\\201C\"\"\\201D\"\"\\2018\"\"\\2019\";\n",
       "  font-family: Georgia, serif;\n",
       "  font-size: 0.7em;\n",
       "  font-style: italic;\n",
       "}\n",
       "blockquote:before {\n",
       "  color: #ccc;\n",
       "  content: open-quote;\n",
       "  font-size: 2em;\n",
       "  line-height: 0.1em;\n",
       "  margin-right: 0.25em;\n",
       "  vertical-align: -0.4em;\n",
       "}\n",
       "blockquote p {\n",
       "  display: inline;\n",
       "}\n",
       "\n",
       "blockquote:after {\n",
       "        content: close-quote;\n",
       "        color: #ccc;\n",
       "        font-size: 2em;\n",
       "        line-height: 0.1em;\n",
       "        margin-right: 0.25em;\n",
       "        vertical-align: -0.4em;\n",
       "    }\n",
       "\n",
       "\n",
       " \n",
       "kbd {\n",
       "  font-family: Consolas, \"Lucida Console\", monospace;\n",
       "  display: inline-block;\n",
       "  border-radius: 3px;\n",
       "  padding: 0px 4px;\n",
       "  box-shadow: 1px 1px 1px #777;\n",
       "  margin: 2px;\n",
       "  font-size: small;\n",
       "  vertical-align: text-bottom;\n",
       "  background: #eee;\n",
       "  font-weight: 500;\n",
       "  color: #555;\n",
       "  cursor: pointer;\n",
       "  font-variant: small-caps;\n",
       "  font-weight: 600;\n",
       "\n",
       "  /* This two work */\n",
       "  /* letter-spacing: 0.5px; */\n",
       "  letter-spacing: 1px;\n",
       "\n",
       "\n",
       "  /* Prevent selection */\n",
       "  -webkit-touch-callout: none;\n",
       "  -webkit-user-select: none;\n",
       "  -khtml-user-select: none;\n",
       "  -moz-user-select: none;\n",
       "  -ms-user-select: none;\n",
       "  user-select: none;\n",
       "}\n",
       "\n",
       "kbd:hover, kbd:hover * {\n",
       "  color: black;\n",
       "  /* box-shadow: 1px 1px 1px #333; */\n",
       "}\n",
       "kbd:active, kbd:active * {\n",
       "  color: black;\n",
       "  box-shadow: 1px 1px 0px #ddd inset;\n",
       "}\n",
       "\n",
       "kbd kbd {\n",
       "  padding: 0px;\n",
       "  margin: 0 1px;\n",
       "  box-shadow: 0px 0px 0px black;\n",
       "  vertical-align: baseline;\n",
       "  background: none;\n",
       "}\n",
       "\n",
       "kbd kbd:hover {\n",
       "  box-shadow: 0px 0px 0px black;\n",
       "}\n",
       "\n",
       "kbd:active kbd {\n",
       "  box-shadow: 0px 0px 0px black;\n",
       "  background: none;\n",
       "}\n",
       "\n",
       "/* Deep blue */\n",
       "kbd.deep-blue, .deep-blue kbd {\n",
       "  background: steelblue;\n",
       "  color: #eee;\n",
       "}\n",
       "\n",
       "kbd.deep-blue:hover, kbd.deep-blue:hover *, .deep-blue kbd:hover {\n",
       "  color: white;\n",
       "}\n",
       "\n",
       "/* Dark apple */\n",
       "kbd.dark-apple, .dark-apple kbd {\n",
       "  background: black;\n",
       "  color: #ddd;\n",
       "}\n",
       "\n",
       "kbd.dark-apple:hover, kbd.dark-apple:hover *, .dark-apple kbd:hover {\n",
       "  color: white;\n",
       "}\n",
       "\n",
       "/* Type writer */\n",
       "kbd.type-writer, .type-writer kbd {\n",
       "  border-radius: 10px;\n",
       "  background: #333;\n",
       "  color: white;\n",
       "}\n",
       " \n",
       "\n",
       "strong {\n",
       " color: royalblue;\n",
       " font-weight: bold;\n",
       "}\n",
       "\n",
       "strong em { \n",
       "  color: tomato;\n",
       "  font-weight: bold;\n",
       "}\n",
       "\n",
       "code {\n",
       " font-size: 0.9em !important;\n",
       " letter-spacing: -1px;\n",
       " word-spacing: -0.2em;\n",
       "}\n",
       "\n",
       "slides > slide.backdrop {\n",
       "  background: white;\n",
       "}\n",
       "\n",
       "h1, h2, h3,  h4, h5, h6 {\n",
       "  margin: 0 0 20px 0;\n",
       "  color: black;\n",
       "  font-family: \"News Cycle\", Impact, sans-serif;\n",
       "  line-height: 0.9em;\n",
       "  letter-spacing: 0.03em;\n",
       "  text-transform: none;\n",
       "  text-shadow: none; \n",
       "  margin-bottom: .6em; \n",
       "  font-size: 2.5em !important; \n",
       "  word-spacing: 0.1em;\n",
       "}\n",
       "\n",
       " \n",
       "h1, h2  {\n",
       "  text-shadow: 0px 0px 6px rgba(0, 0, 0, 0.2); \n",
       " \n",
       "  }\n",
       "  \n",
       "  \n",
       "p, li, ol, ul{\n",
       "   font-family: \"Gill Sans\", \"Gill Sans MT\", Calibri, sans-serif; \n",
       "   font-size: 21px;\n",
       "   margin-top: 0.6em; \n",
       "   margin-bottom: 0.6em; \n",
       "   line-height: 1.1;\n",
       "}\n",
       "\n",
       "\n",
       "pre.lang-python  {\n",
       "  background-color: #F8F8F8;\n",
       " font-size: 16px;\n",
       "}\n",
       "\n",
       "\n",
       "pre{\n",
       "font-family:'Source Code Pro', monospace;\n",
       "background:#EFEFEF;padding:5px 10px}\n",
       "\n",
       "pre i{\n",
       "display:inline-block;\n",
       "margin-right:1px;padding:0 4px;\n",
       "background:#d6d6d6}\n",
       "\n",
       "  \n",
       "\n",
       ".column {\n",
       "   position: relative;\n",
       "   width: 99%;\n",
       "}\n",
       "\n",
       ".column1 {\n",
       "\n",
       "   max-width: 44%;\n",
       "   position: fixed;\n",
       "   left: 2em;\n",
       "}\n",
       "\n",
       ".column2 {\n",
       "\n",
       "   max-width: 44%;\n",
       "   position: fixed;\n",
       "   right: 2em;\n",
       "}\n",
       " \n",
       ".column img {\n",
       "   max-width: 95%;\n",
       "   max-height: 95%;\n",
       "   height: auto;\n",
       "}\n",
       "\n",
       "\n",
       " \n",
       ".col2 {\n",
       "  columns: 2 200px;     /* number of columns and width in pixels*/\n",
       "   top: 0;\n",
       "   bottom: 0;\n",
       "    -webkit-columns: 2 200px; /* chrome, safari */\n",
       "    -moz-columns: 2 200px;    /* firefox */\n",
       "}\n",
       "\n",
       " \n",
       "</style>"
      ],
      "text/plain": [
       "<IPython.core.display.HTML object>"
      ]
     },
     "execution_count": 1,
     "metadata": {},
     "output_type": "execute_result"
    }
   ],
   "source": [
    "from IPython.core.display import HTML\n",
    "HTML(open(\"pynotes.css\" , \"r\").read())"
   ]
  },
  {
   "cell_type": "markdown",
   "metadata": {},
   "source": [
    "# Let's see what Python can do first\n",
    "\n",
    "An example of Chinese character recognition:\n",
    "\n",
    "\n",
    "\n",
    " <img src=\"https://raw.githubusercontent.com/justinjiajia/img/master/python/zen_ch.png\" width=\"250\" />\n",
    " \n",
    " \n",
    "A translation of an excerpt from the <a href=\"https://www.python.org/dev/peps/pep-0020/\"> Zen of Python</a>.\n",
    "\n",
    "In English, it means:\n",
    "\n",
    "> Beautiful is better than ugly.\n",
    "Explicit is better than implicit.\n",
    "Simple is better than complex.\n",
    "Complex is better than complicated.\n",
    "Flat is better than nested.\n",
    "Sparse is better than dense."
   ]
  },
  {
   "cell_type": "code",
   "execution_count": null,
   "metadata": {},
   "outputs": [],
   "source": [
    "# copyright material. You won't be able to run this chunk of code. Please just watch for now \n",
    "\n",
    "import requests\n",
    "from aip import AipOcr\n",
    "\n",
    "image = requests.get('https://res.pandateacher.com/python_classic.png').content\n",
    "\n",
    "APP_ID = '16149264'\n",
    "API_KEY = 'yxYg9r4OuAs4fYvfcl8tqCYd'\n",
    "SECRET_KEY = 'yWg3KMds2muFsWs7MBSSFcgMQl8Wng4s'\n",
    "client = AipOcr(APP_ID, API_KEY, SECRET_KEY)\n",
    "res = client.basicGeneral(image)\n",
    "\n",
    "if 'words_result' in res.keys():\n",
    "    for item in res['words_result']:\n",
    "        print(item['words'])\n",
    "else:\n",
    "    print(res)"
   ]
  },
  {
   "cell_type": "markdown",
   "metadata": {
    "colab_type": "text",
    "id": "8lGOtXRFPzth"
   },
   "source": [
    "\n",
    "\n",
    "At their base, programs written in Python are composed of **expressions**, which are \"phrases\" of code Python ***evaluates to produce values***. \n",
    "\n",
    "- Expressions often contains **operators**, a set of special symbols that carry out computations. \n",
    "\n",
    "---\n",
    "\n",
    "# Using Python as a Calculator\n",
    "\n",
    "\n",
    "\n",
    "\n",
    " \n",
    "\n",
    "The **arithmetic operators** `+`, `-`, `*`, `/`, and `**` perform addition, subtraction, multiplication, division, and exponentiation:"
   ]
  },
  {
   "cell_type": "code",
   "execution_count": 50,
   "metadata": {},
   "outputs": [
    {
     "data": {
      "text/plain": [
       "6.0"
      ]
     },
     "execution_count": 50,
     "metadata": {},
     "output_type": "execute_result"
    }
   ],
   "source": [
    "1.2 + 2 + 2.8"
   ]
  },
  {
   "cell_type": "code",
   "execution_count": null,
   "metadata": {
    "colab": {},
    "colab_type": "code",
    "id": "QsLURoqWQAzT"
   },
   "outputs": [],
   "source": [
    "5 * 2"
   ]
  },
  {
   "cell_type": "code",
   "execution_count": 51,
   "metadata": {},
   "outputs": [
    {
     "data": {
      "text/plain": [
       "25"
      ]
     },
     "execution_count": 51,
     "metadata": {},
     "output_type": "execute_result"
    }
   ],
   "source": [
    "5 ** 2  # 5 squared"
   ]
  },
  {
   "cell_type": "markdown",
   "metadata": {
    "colab_type": "text",
    "id": "_51XgM37MSOM"
   },
   "source": [
    "<div class=\"alert alert-info\">\n",
    " In computer science, a literal is a notation for representing a fixed value in source code.</div>"
   ]
  },
  {
   "cell_type": "markdown",
   "metadata": {
    "colab_type": "text",
    "id": "XCmg3g_rfYbW"
   },
   "source": [
    "Parentheses (`()`) can be used for grouping:"
   ]
  },
  {
   "cell_type": "code",
   "execution_count": null,
   "metadata": {
    "colab": {},
    "colab_type": "code",
    "id": "avNCWAiGP_Qq"
   },
   "outputs": [],
   "source": [
    "(15 - 10) * 2 / 5"
   ]
  },
  {
   "cell_type": "markdown",
   "metadata": {},
   "source": [
    "Some common **arithmetic operators** include:\n",
    "\n",
    "| Operator | Meaning |\n",
    "|----|---|\n",
    "| **  | Exponetiation |\n",
    "| *  | multiplication |\n",
    "| /  | division |\n",
    "| // | integer division |\n",
    "| %  | remainder |\n",
    "| +  | Addition |\n",
    "| -  | Subtraction |\n",
    "\n",
    "The order indicates the relative levels of precedence (ordered by descending priority)."
   ]
  },
  {
   "cell_type": "markdown",
   "metadata": {
    "colab_type": "text",
    "id": "wPt_dVQ6QVmq"
   },
   "source": [
    "The `//` operator performs **integer or floored division** that keeps only the integer part of the result, while the `%` operator calculates the remainder:"
   ]
  },
  {
   "cell_type": "code",
   "execution_count": 52,
   "metadata": {},
   "outputs": [
    {
     "data": {
      "text/plain": [
       "5.666666666666667"
      ]
     },
     "execution_count": 52,
     "metadata": {},
     "output_type": "execute_result"
    }
   ],
   "source": [
    "17 / 3   # always return a result with a fractional part"
   ]
  },
  {
   "cell_type": "code",
   "execution_count": 53,
   "metadata": {},
   "outputs": [
    {
     "data": {
      "text/plain": [
       "5"
      ]
     },
     "execution_count": 53,
     "metadata": {},
     "output_type": "execute_result"
    }
   ],
   "source": [
    "17 // 3  # discard the fractional part"
   ]
  },
  {
   "cell_type": "code",
   "execution_count": 54,
   "metadata": {},
   "outputs": [
    {
     "data": {
      "text/plain": [
       "2"
      ]
     },
     "execution_count": 54,
     "metadata": {},
     "output_type": "execute_result"
    }
   ],
   "source": [
    "17 % 3   # return the remainder of the division"
   ]
  },
  {
   "cell_type": "markdown",
   "metadata": {
    "colab_type": "text",
    "id": "Ykk2x7UuQxgK"
   },
   "source": [
    "---\n",
    "# Comparing Values\n",
    "\n",
    "**Comparison (relational) operators** are used to compare values on both sides of them. It returns either of the two **Boolean** values, `True` and `False`.\n",
    "\n"
   ]
  },
  {
   "cell_type": "code",
   "execution_count": 57,
   "metadata": {},
   "outputs": [
    {
     "data": {
      "text/plain": [
       "True"
      ]
     },
     "execution_count": 57,
     "metadata": {},
     "output_type": "execute_result"
    }
   ],
   "source": [
    "2 <= 5"
   ]
  },
  {
   "cell_type": "code",
   "execution_count": null,
   "metadata": {},
   "outputs": [],
   "source": [
    "# chained in the mathematically obvious way\n",
    "# it can only be written as 2 < 5 and 5 <= 5.0 in other languages\n",
    "2 < 5 <= 5.0  "
   ]
  },
  {
   "cell_type": "markdown",
   "metadata": {
    "colab_type": "text",
    "id": "KanNkLafVKso"
   },
   "source": [
    "The table summarizes comparision operators:\n",
    "\n",
    "| Operator | Meaning |\n",
    "|----|---|\n",
    "| == | Equal to - `True` if both operands are equal |\n",
    "| !=  | Not equal to - `True` if operands are not equal |\n",
    "| < | Less than - `True` if left operand is less than the right |\n",
    "| > | Greater than - `True` if left operand is greater than the right |\n",
    "| <=  | Less than or equal to - `True` if left operand is less than or equal to the right |\n",
    "| >=  | Greater than or equal to - `True` if left operand is greater than or equal to the right |\n",
    "\n"
   ]
  },
  {
   "cell_type": "markdown",
   "metadata": {
    "colab_type": "text",
    "id": "2vmnOtMUWmA0"
   },
   "source": [
    "----\n",
    "\n",
    "# Logical Operators\n",
    "\n",
    "**Logical (Boolean) operators** `and`, `or` and `not` perform Boolean logic upon two Boolean values and return a Boolean result (`True` or `False`).\n"
   ]
  },
  {
   "cell_type": "code",
   "execution_count": null,
   "metadata": {},
   "outputs": [],
   "source": [
    "not True               # only require one operand"
   ]
  },
  {
   "cell_type": "code",
   "execution_count": null,
   "metadata": {},
   "outputs": [],
   "source": [
    "True and False"
   ]
  },
  {
   "cell_type": "code",
   "execution_count": null,
   "metadata": {},
   "outputs": [],
   "source": [
    "False or True"
   ]
  },
  {
   "cell_type": "code",
   "execution_count": null,
   "metadata": {},
   "outputs": [],
   "source": [
    "2 < 5 and not False"
   ]
  },
  {
   "cell_type": "code",
   "execution_count": null,
   "metadata": {},
   "outputs": [],
   "source": [
    "2 < 5 and 5 < 5.0 or 5 < 1024"
   ]
  },
  {
   "cell_type": "markdown",
   "metadata": {
    "colab_type": "text",
    "id": "bz1ePYtCXu98"
   },
   "source": [
    "Logical operators in Python are summarized as follows. The order indicates the relative levels of precedence (ordered by descending priority):\n",
    "\n",
    "\n",
    "|Operator|Meaning|\n",
    "|:-- |:-- |\n",
    "|not|True if operand is false (complements the operand)|\n",
    "|and|True if both the operands are true|\n",
    "|or|True if either of the operands is true|\n"
   ]
  },
  {
   "cell_type": "markdown",
   "metadata": {
    "colab_type": "text",
    "id": "BacAGlCaZgIm"
   },
   "source": [
    "## Short-Circuit Evaluation"
   ]
  },
  {
   "cell_type": "code",
   "execution_count": null,
   "metadata": {
    "colab": {
     "base_uri": "https://localhost:8080/",
     "height": 162
    },
    "colab_type": "code",
    "id": "Dl8Dx369ZNmA",
    "outputId": "f83d41d4-030e-4ea3-ff60-cc2d6a6778ae"
   },
   "outputs": [
    {
     "ename": "ZeroDivisionError",
     "evalue": "division by zero",
     "output_type": "error",
     "traceback": [
      "\u001b[1;31m---------------------------------------------------------------------------\u001b[0m",
      "\u001b[1;31mZeroDivisionError\u001b[0m                         Traceback (most recent call last)",
      "\u001b[1;32m<ipython-input-14-bc757c3fda29>\u001b[0m in \u001b[0;36m<module>\u001b[1;34m\u001b[0m\n\u001b[1;32m----> 1\u001b[1;33m \u001b[1;36m1\u001b[0m \u001b[1;33m/\u001b[0m \u001b[1;36m0\u001b[0m\u001b[1;33m\u001b[0m\u001b[1;33m\u001b[0m\u001b[0m\n\u001b[0m",
      "\u001b[1;31mZeroDivisionError\u001b[0m: division by zero"
     ]
    }
   ],
   "source": [
    "1 / 0"
   ]
  },
  {
   "cell_type": "markdown",
   "metadata": {
    "colab_type": "text",
    "id": "MG592QNGZyj3"
   },
   "source": [
    "But when it is combined into a compound expression using `and` or `or`:"
   ]
  },
  {
   "cell_type": "code",
   "execution_count": null,
   "metadata": {},
   "outputs": [],
   "source": [
    "1024 < 5 and 1 / 0 "
   ]
  },
  {
   "cell_type": "code",
   "execution_count": null,
   "metadata": {},
   "outputs": [],
   "source": [
    "1024 >= 5 or 1 / 0"
   ]
  },
  {
   "cell_type": "markdown",
   "metadata": {
    "colab_type": "text",
    "id": "V96OIjvsZ_2s"
   },
   "source": [
    "It implies that Python does not bother to evaluate additional subexpressions when it is sufficient to determine the value of the whole expression.\n",
    "\n",
    "The operators and and or are called <font color='salmon'><b>***short-circuit***</b></font> or <font color='salmon'><b>***shortcut***</b></font> operators.\n",
    "\n",
    "1. `or` only evaluates the second argument if the first one is false.\n",
    "\n",
    "2. `and` only evaluates the second argument if the first one is true.\n"
   ]
  },
  {
   "cell_type": "markdown",
   "metadata": {
    "colab_type": "text",
    "id": "bWhrL51xcpFf"
   },
   "source": [
    "## Truthy and Falsy Values\n",
    "\n",
    "\n",
    "Expressions that output non-Boolean values can be evaluated in a Boolean expression as well and determined to be true or false:\n",
    "\n"
   ]
  },
  {
   "cell_type": "code",
   "execution_count": null,
   "metadata": {},
   "outputs": [],
   "source": [
    "1 and True        # 1 is interpreted as true"
   ]
  },
  {
   "cell_type": "code",
   "execution_count": null,
   "metadata": {},
   "outputs": [],
   "source": [
    "0 and False       # 0 is interpreted as false; shortcut evaluation also takes place"
   ]
  },
  {
   "cell_type": "code",
   "execution_count": null,
   "metadata": {},
   "outputs": [],
   "source": [
    "17 / 5 or False"
   ]
  },
  {
   "cell_type": "code",
   "execution_count": null,
   "metadata": {},
   "outputs": [],
   "source": [
    "not -0.0001"
   ]
  },
  {
   "cell_type": "markdown",
   "metadata": {
    "colab_type": "text",
    "id": "H-ZQ_xTjmwUT"
   },
   "source": [
    "Numbers are false if zero, and true otherwise. "
   ]
  },
  {
   "cell_type": "markdown",
   "metadata": {
    "colab_type": "text",
    "id": "MXNENMdEgh03"
   },
   "source": [
    "---\n",
    "# Objects and Their Types\n",
    "\n",
    " <img src=\"https://raw.githubusercontent.com/justinjiajia/img/master/python/memory.png\" width=\"250\" /> \n",
    "\n",
    "Everything in Python is an object, and every object has  an **identity**, a **value**, and a **type**.\n",
    "\n",
    "The built-in function `type()` returns an object's type:"
   ]
  },
  {
   "cell_type": "code",
   "execution_count": null,
   "metadata": {},
   "outputs": [],
   "source": [
    "type(True)"
   ]
  },
  {
   "cell_type": "code",
   "execution_count": null,
   "metadata": {},
   "outputs": [],
   "source": [
    "type(False)"
   ]
  },
  {
   "cell_type": "code",
   "execution_count": null,
   "metadata": {},
   "outputs": [],
   "source": [
    "type(5**2) "
   ]
  },
  {
   "cell_type": "code",
   "execution_count": null,
   "metadata": {},
   "outputs": [],
   "source": [
    "type(21231)"
   ]
  },
  {
   "cell_type": "code",
   "execution_count": null,
   "metadata": {},
   "outputs": [],
   "source": [
    "type(2.0)     # with a decimal point"
   ]
  },
  {
   "cell_type": "code",
   "execution_count": null,
   "metadata": {},
   "outputs": [],
   "source": [
    "type(3.8e15)  # with an exponent; base 10"
   ]
  },
  {
   "cell_type": "code",
   "execution_count": null,
   "metadata": {},
   "outputs": [],
   "source": [
    "15 / 5"
   ]
  },
  {
   "cell_type": "code",
   "execution_count": null,
   "metadata": {
    "colab": {},
    "colab_type": "code",
    "id": "CuADwWC0Mj3Z"
   },
   "outputs": [],
   "source": [
    "type(15 / 5)"
   ]
  },
  {
   "cell_type": "code",
   "execution_count": null,
   "metadata": {},
   "outputs": [],
   "source": [
    "type(17 // 3)"
   ]
  },
  {
   "cell_type": "code",
   "execution_count": null,
   "metadata": {},
   "outputs": [],
   "source": [
    "type(17 % 3)"
   ]
  },
  {
   "cell_type": "code",
   "execution_count": null,
   "metadata": {},
   "outputs": [],
   "source": [
    "type(17.2 % 3)"
   ]
  },
  {
   "cell_type": "markdown",
   "metadata": {
    "colab_type": "text",
    "id": "P3HvJKbIh3qI"
   },
   "source": [
    "\n",
    "\n",
    "\n",
    "\n",
    " \n",
    " In a computer's memory, everything is **bits**:\n",
    " \n",
    "  <img src=\"https://raw.githubusercontent.com/justinjiajia/img/master/python/code.jpg\" width=\"450\" /> \n",
    "  \n",
    "  \n",
    "What a type does is two things:\n",
    "\n",
    "- First, it tells a program, you should be reading these sequences in chunks of, let's say, 32 bits.\n",
    "\n",
    "- Second, it tells what a sequence of bits represent.\n",
    "   - Does `11101000 10110010 10010011` represent \"貓\" or 15250067?\n",
    "\n"
   ]
  },
  {
   "cell_type": "markdown",
   "metadata": {
    "colab_type": "text",
    "id": "5tYQ9MsV_Uxa"
   },
   "source": [
    "\n",
    "\n",
    "\n",
    "An object's  **type** determines:\n",
    "\n",
    "- A domain of possible values, e.g.:\n",
    "\n",
    "    - `True` and `False` have type `bool` (short for Boolean values);\n",
    "    - The integer numbers (e.g., `1`, `2`, `-34`, `1024`) have type `int`;\n",
    "    - The numbers with a decimal point or an exponent (or both) (e.g., `2.0`, `3.2`, `.3`, `3.8e15`) have type `float` (short for floating-point numbers).\n",
    "    \n",
    "- A set of possible operations that can be performed on these values (e.g., common integer arithmetic operations are `+`, `-`, `*`, and `/`).\n",
    "\n"
   ]
  },
  {
   "cell_type": "markdown",
   "metadata": {
    "colab_type": "text",
    "id": "ey2clgoBlfE5"
   },
   "source": [
    "---\n",
    "\n",
    "## Optional: Floating-Point Arithmetic Issues\n",
    "\n",
    "\n",
    "<img src=\"https://raw.githubusercontent.com/justinjiajia/img/master/python/Float_example.svg\" />"
   ]
  },
  {
   "cell_type": "markdown",
   "metadata": {
    "colab_type": "text",
    "id": "wp5Cg-hjly45"
   },
   "source": [
    "Floating-point numbers are represented in computers as base 2 (binary) fractions. E.g., despite in different notations, the decimal fraction 0.125 is identical the binary fraction 0.001, because\n",
    "\n",
    "$0.001 \\: (base\\:2) = 0 \\times 2^{-1} + 0 \\times 2^{-2} + 1 \\times 2^{-3} = 0.125 \\:(base\\:10)$\n",
    "\n",
    "As decimal numbers cannot accurately represent a number like $\\frac{1}{3}$, a binary floating-point format cannot accurately represent a number like 0.1, 0.2 or 0.3.\n",
    "\n",
    "E.g., in base 2, $\\frac{1}{10}$ is the infinitely repeating fraction:\n",
    "\n",
    "`0.0001100110011001100110011001100110011001100110011...`"
   ]
  },
  {
   "cell_type": "markdown",
   "metadata": {
    "colab_type": "text",
    "id": "PEMdrg3tmAYA"
   },
   "source": [
    "Calculation is performed with the rounded numbers, resulting in small   **rounding errors**."
   ]
  },
  {
   "cell_type": "code",
   "execution_count": null,
   "metadata": {},
   "outputs": [],
   "source": [
    "0.1 + 0.4 == 0.5"
   ]
  },
  {
   "cell_type": "code",
   "execution_count": null,
   "metadata": {},
   "outputs": [],
   "source": [
    "0.1 + 0.2 == 0.3"
   ]
  },
  {
   "cell_type": "markdown",
   "metadata": {
    "colab_type": "text",
    "id": "6IvwVp2AzfmM"
   },
   "source": [
    "---\n",
    "# Variables\n",
    "\n",
    "One of the most powerful features of a programming language is the ability to manipulate **variables**. In Python, a variable is a name that refers to an object.\n",
    "\n",
    "Using the equal sign (`=`), an assignment statement defines a variable by\n",
    "\n",
    "- Evaluating the expression on the right of `=` to construct a new or retrieve an existing object;\n",
    "\n",
    "- Binding a name on the left of `=` to the object."
   ]
  },
  {
   "cell_type": "code",
   "execution_count": 48,
   "metadata": {},
   "outputs": [],
   "source": [
    "width = 10"
   ]
  },
  {
   "cell_type": "markdown",
   "metadata": {
    "colab_type": "text",
    "id": "wLgxlKXn_9dn"
   },
   "source": [
    "\n",
    "<img src=\"https://raw.githubusercontent.com/justinjiajia/img/master/python/var1.png\" width=120 />\n",
    "\n"
   ]
  },
  {
   "cell_type": "code",
   "execution_count": 75,
   "metadata": {},
   "outputs": [],
   "source": [
    "height = 12"
   ]
  },
  {
   "cell_type": "markdown",
   "metadata": {
    "colab_type": "text",
    "id": "bF5DNkdIATfY"
   },
   "source": [
    "<img src=\"https://raw.githubusercontent.com/justinjiajia/img/master/python/var2.png\" width=120 />"
   ]
  },
  {
   "cell_type": "markdown",
   "metadata": {
    "colab_type": "text",
    "id": "AKut-oZOAnJP"
   },
   "source": [
    "When we enter a name in Python, it gives us back the object bound to it:"
   ]
  },
  {
   "cell_type": "code",
   "execution_count": 74,
   "metadata": {},
   "outputs": [
    {
     "data": {
      "text/plain": [
       "10"
      ]
     },
     "execution_count": 74,
     "metadata": {},
     "output_type": "execute_result"
    }
   ],
   "source": [
    "width"
   ]
  },
  {
   "cell_type": "code",
   "execution_count": 76,
   "metadata": {},
   "outputs": [
    {
     "data": {
      "text/plain": [
       "12"
      ]
     },
     "execution_count": 76,
     "metadata": {},
     "output_type": "execute_result"
    }
   ],
   "source": [
    "height"
   ]
  },
  {
   "cell_type": "code",
   "execution_count": 77,
   "metadata": {
    "colab": {},
    "colab_type": "code",
    "id": "MjR9TY7XA3cn"
   },
   "outputs": [],
   "source": [
    "area = width * height"
   ]
  },
  {
   "cell_type": "markdown",
   "metadata": {
    "colab_type": "text",
    "id": "tlLM4RJLBC9g"
   },
   "source": [
    "<img src=\"https://raw.githubusercontent.com/justinjiajia/img/master/python/expr1.png\" width=300/>"
   ]
  },
  {
   "cell_type": "code",
   "execution_count": 78,
   "metadata": {},
   "outputs": [
    {
     "data": {
      "text/plain": [
       "120"
      ]
     },
     "execution_count": 78,
     "metadata": {},
     "output_type": "execute_result"
    }
   ],
   "source": [
    "area"
   ]
  },
  {
   "cell_type": "code",
   "execution_count": 79,
   "metadata": {},
   "outputs": [],
   "source": [
    "width = width + 5 "
   ]
  },
  {
   "cell_type": "markdown",
   "metadata": {
    "colab_type": "text",
    "id": "irIEx66tBiM5"
   },
   "source": [
    "<img src=\"https://raw.githubusercontent.com/justinjiajia/img/master/python/expr2.png\" width=185></img>"
   ]
  },
  {
   "cell_type": "code",
   "execution_count": 80,
   "metadata": {},
   "outputs": [
    {
     "data": {
      "text/plain": [
       "15"
      ]
     },
     "execution_count": 80,
     "metadata": {},
     "output_type": "execute_result"
    }
   ],
   "source": [
    "width"
   ]
  },
  {
   "cell_type": "markdown",
   "metadata": {
    "colab_type": "text",
    "id": "On_EWQlKB8iD"
   },
   "source": [
    "---\n",
    "\n",
    "## Compound/Augmented Assignment Operators\n",
    "\n",
    "`width = width + 5` exemplifies a very common operation. Python provides a shorthand operator, `+=`, to express it more cleanly.\n"
   ]
  },
  {
   "cell_type": "code",
   "execution_count": null,
   "metadata": {},
   "outputs": [],
   "source": [
    "width += 5"
   ]
  },
  {
   "cell_type": "code",
   "execution_count": null,
   "metadata": {},
   "outputs": [],
   "source": [
    "width = width + 5"
   ]
  },
  {
   "cell_type": "code",
   "execution_count": null,
   "metadata": {
    "colab": {},
    "colab_type": "code",
    "id": "4L5qnWhITmeO"
   },
   "outputs": [],
   "source": [
    "width += 5\n",
    "width"
   ]
  },
  {
   "cell_type": "markdown",
   "metadata": {
    "colab_type": "text",
    "id": "0-4_9z7MTpob"
   },
   "source": [
    "Similar operators (**compound**/**augmented assignment operators**) include `-=`, `*=`,  `%=`, and so on:"
   ]
  },
  {
   "cell_type": "code",
   "execution_count": null,
   "metadata": {
    "colab": {},
    "colab_type": "code",
    "id": "gOXuHqraT8L1"
   },
   "outputs": [],
   "source": [
    "width /= 5; width"
   ]
  },
  {
   "cell_type": "markdown",
   "metadata": {
    "colab_type": "text",
    "id": "cbUTtUiiCrMD"
   },
   "source": [
    "Multiple names can be bound to the same object:"
   ]
  },
  {
   "cell_type": "code",
   "execution_count": 45,
   "metadata": {
    "colab": {},
    "colab_type": "code",
    "id": "iygcsJHUBrD1"
   },
   "outputs": [],
   "source": [
    "i = 5\n",
    "j = i"
   ]
  },
  {
   "cell_type": "markdown",
   "metadata": {
    "colab_type": "text",
    "id": "mwLhoijQ8c0e"
   },
   "source": [
    "\n",
    "<img src=\"https://raw.githubusercontent.com/justinjiajia/img/master/python/ij.png\" width=\"100\"/></img>"
   ]
  },
  {
   "cell_type": "markdown",
   "metadata": {
    "colab_type": "text",
    "id": "O7ONE_IvCyxZ"
   },
   "source": [
    "**<font color='steelblue' > Question </font>**: What is the value of `j` after evaluating `i += 7`?"
   ]
  },
  {
   "cell_type": "code",
   "execution_count": null,
   "metadata": {},
   "outputs": [],
   "source": [
    " "
   ]
  },
  {
   "cell_type": "code",
   "execution_count": 81,
   "metadata": {},
   "outputs": [],
   "source": [
    " "
   ]
  },
  {
   "cell_type": "markdown",
   "metadata": {
    "colab_type": "text",
    "id": "p3cs5dftIv8n"
   },
   "source": [
    "---\n",
    "\n",
    "## Naming Conventions\n",
    "\n",
    "Python has some rules to follow when forming a variable name:\n",
    "\n",
    "- Can contain both letters (uppercase or lowercase), digits (but cannot start with a number), and the underscore character (_).\n",
    "\n",
    "\n",
    "- Python's keywords (`if`, `else`, `for`, `in`, etc. as we'll see later) cannot be used as variable names, because the Python interpreter uses them to recognize the structure of the program."
   ]
  },
  {
   "cell_type": "code",
   "execution_count": 2,
   "metadata": {},
   "outputs": [
    {
     "ename": "SyntaxError",
     "evalue": "invalid syntax (<ipython-input-2-d2751225de96>, line 1)",
     "output_type": "error",
     "traceback": [
      "\u001b[1;36m  File \u001b[1;32m\"<ipython-input-2-d2751225de96>\"\u001b[1;36m, line \u001b[1;32m1\u001b[0m\n\u001b[1;33m    if = 'ISOM3400'\u001b[0m\n\u001b[1;37m       ^\u001b[0m\n\u001b[1;31mSyntaxError\u001b[0m\u001b[1;31m:\u001b[0m invalid syntax\n"
     ]
    }
   ],
   "source": [
    "if = 'ISOM3400'"
   ]
  },
  {
   "cell_type": "markdown",
   "metadata": {
    "colab_type": "text",
    "id": "i4CtL_zIJBGl"
   },
   "source": [
    "A good coding style requires a variable name to be  ***descriptive***  and  ***mnemonic***."
   ]
  },
  {
   "cell_type": "markdown",
   "metadata": {
    "colab_type": "text",
    "id": "M9I_J0oShEYH"
   },
   "source": [
    "----\n",
    "# Functions"
   ]
  },
  {
   "cell_type": "markdown",
   "metadata": {
    "colab_type": "text",
    "id": "Xro--X1T3eTI"
   },
   "source": [
    "> Programming = Data + Function"
   ]
  },
  {
   "cell_type": "markdown",
   "metadata": {
    "colab_type": "text",
    "id": "u6HfueVZjpKJ"
   },
   "source": [
    "A function is a machine which turns input objects (called the **arguments**) into an output object (called the **return value**), according to a definite rule (defined somewhere for this function).\n",
    "\n",
    "\n",
    "\n",
    "We can  draw an analogy of a programming function to a mathematical function. \n",
    "\n",
    "\n",
    "\n",
    "Consider $f(a,b)=a^2+b^2$:\n",
    "\n",
    "- A function definition usually associates a name (i.e., $f$) with a sequence of statements that performs a computation (i.e., $a^2+b^2$).\n",
    "\n",
    "- Once a function is defined, we can \"call\" it by name with necessary inputs provided (i.e., $f(3,5)$).\n",
    "\n",
    "- When a function is called or invoked, Python goes back and looks up its definition, executes the code inside the function definition (i.e., $3^2+5^2$), and return an output (i.e., $34$)."
   ]
  },
  {
   "cell_type": "markdown",
   "metadata": {
    "colab_type": "text",
    "id": "MZQ6tHCEkisI"
   },
   "source": [
    "Python provides a number of [built-in functions](https://docs.python.org/3/library/functions.html) that we can use without needs to provide their definitions as well as import an external module:"
   ]
  },
  {
   "cell_type": "code",
   "execution_count": 7,
   "metadata": {
    "colab": {},
    "colab_type": "code",
    "id": "cjNAbpeEkh5T"
   },
   "outputs": [
    {
     "data": {
      "text/plain": [
       "5.11"
      ]
     },
     "execution_count": 7,
     "metadata": {},
     "output_type": "execute_result"
    }
   ],
   "source": [
    "abs(-5.11)"
   ]
  },
  {
   "cell_type": "code",
   "execution_count": 45,
   "metadata": {},
   "outputs": [
    {
     "data": {
      "text/plain": [
       "4.56"
      ]
     },
     "execution_count": 45,
     "metadata": {},
     "output_type": "execute_result"
    }
   ],
   "source": [
    "round(4.55892, 2)"
   ]
  },
  {
   "cell_type": "code",
   "execution_count": null,
   "metadata": {
    "colab": {},
    "colab_type": "code",
    "id": "CSakjCYCkpQw"
   },
   "outputs": [],
   "source": [
    "max(1, 2, 3, 4, 5)"
   ]
  },
  {
   "cell_type": "code",
   "execution_count": null,
   "metadata": {
    "colab": {},
    "colab_type": "code",
    "id": "4DKmmVGZkrGr"
   },
   "outputs": [],
   "source": [
    "min(1, 2, 3, 4, 5)"
   ]
  },
  {
   "cell_type": "code",
   "execution_count": null,
   "metadata": {
    "colab": {},
    "colab_type": "code",
    "id": "f5T9vT-8ks6A"
   },
   "outputs": [],
   "source": [
    "pow(2, 3) # 2**3"
   ]
  },
  {
   "cell_type": "code",
   "execution_count": 9,
   "metadata": {},
   "outputs": [
    {
     "data": {
      "text/plain": [
       "(4, 1)"
      ]
     },
     "execution_count": 9,
     "metadata": {},
     "output_type": "execute_result"
    }
   ],
   "source": [
    "divmod(9, 2)"
   ]
  },
  {
   "cell_type": "markdown",
   "metadata": {
    "colab_type": "text",
    "id": "V2Rzriz9lTba"
   },
   "source": [
    "Typing a function's name without `()` echos \"the value\" or more precisely the  **string representation**  of the function:"
   ]
  },
  {
   "cell_type": "code",
   "execution_count": 10,
   "metadata": {
    "colab": {},
    "colab_type": "code",
    "id": "qBN9YyLJlT7p"
   },
   "outputs": [
    {
     "data": {
      "text/plain": [
       "<function max>"
      ]
     },
     "execution_count": 10,
     "metadata": {},
     "output_type": "execute_result"
    }
   ],
   "source": [
    "max"
   ]
  },
  {
   "cell_type": "markdown",
   "metadata": {
    "colab_type": "text",
    "id": "MGbmYUX6k6cy"
   },
   "source": [
    "If the usage of a function is unknown, we can call `help()` to print help for the function:"
   ]
  },
  {
   "cell_type": "code",
   "execution_count": null,
   "metadata": {
    "colab": {
     "base_uri": "https://localhost:8080/",
     "height": 202
    },
    "colab_type": "code",
    "id": "ToI27i89k53w",
    "outputId": "518d7698-0ada-48d0-db1b-843e5d114569"
   },
   "outputs": [
    {
     "name": "stdout",
     "output_type": "stream",
     "text": [
      "Help on built-in function max in module builtins:\n",
      "\n",
      "max(...)\n",
      "    max(iterable, *[, default=obj, key=func]) -> value\n",
      "    max(arg1, arg2, *args, *[, key=func]) -> value\n",
      "    \n",
      "    With a single iterable argument, return its biggest item. The\n",
      "    default keyword-only argument specifies an object to return if\n",
      "    the provided iterable is empty.\n",
      "    With two or more arguments, return the largest argument.\n",
      "\n"
     ]
    }
   ],
   "source": [
    "help(max)"
   ]
  },
  {
   "cell_type": "markdown",
   "metadata": {
    "colab_type": "text",
    "id": "QNvvdDDqiwVD"
   },
   "source": [
    "---\n",
    "# Strings\n",
    "\n",
    "Besides numbers and Booleans, Python can also manipulate strings, which are sequences of characters.\n",
    "\n",
    "Strings are constructed by enclosing string literals in single quotes (`'`) or double quotes (`\"`):"
   ]
  },
  {
   "cell_type": "code",
   "execution_count": 12,
   "metadata": {},
   "outputs": [
    {
     "data": {
      "text/plain": [
       "'Welcome to Python Programming'"
      ]
     },
     "execution_count": 12,
     "metadata": {},
     "output_type": "execute_result"
    }
   ],
   "source": [
    "'Welcome to Python Programming'"
   ]
  },
  {
   "cell_type": "code",
   "execution_count": 13,
   "metadata": {},
   "outputs": [
    {
     "data": {
      "text/plain": [
       "'Welcome to Python Programming'"
      ]
     },
     "execution_count": 13,
     "metadata": {},
     "output_type": "execute_result"
    }
   ],
   "source": [
    "\"Welcome to Python Programming\""
   ]
  },
  {
   "cell_type": "code",
   "execution_count": 14,
   "metadata": {},
   "outputs": [
    {
     "ename": "SyntaxError",
     "evalue": "EOL while scanning string literal (<ipython-input-14-377577e54e29>, line 1)",
     "output_type": "error",
     "traceback": [
      "\u001b[1;36m  File \u001b[1;32m\"<ipython-input-14-377577e54e29>\"\u001b[1;36m, line \u001b[1;32m1\u001b[0m\n\u001b[1;33m    \"Welcome to Python Programming'\u001b[0m\n\u001b[1;37m                                   ^\u001b[0m\n\u001b[1;31mSyntaxError\u001b[0m\u001b[1;31m:\u001b[0m EOL while scanning string literal\n"
     ]
    }
   ],
   "source": [
    "\"Welcome to Python Programming'"
   ]
  },
  {
   "cell_type": "markdown",
   "metadata": {
    "colab_type": "text",
    "id": "F1eHBZnWjbw-"
   },
   "source": [
    " Single quoted strings can contain double quotes, and vice versa"
   ]
  },
  {
   "cell_type": "code",
   "execution_count": null,
   "metadata": {
    "colab": {},
    "colab_type": "code",
    "id": "Ba1AIO3ijbBV"
   },
   "outputs": [],
   "source": [
    "\"Programming isn't hard.\""
   ]
  },
  {
   "cell_type": "code",
   "execution_count": null,
   "metadata": {
    "colab": {},
    "colab_type": "code",
    "id": "9H-jsam6jx62"
   },
   "outputs": [],
   "source": [
    "'\"Yes\", they said.'"
   ]
  },
  {
   "cell_type": "markdown",
   "metadata": {
    "colab_type": "text",
    "id": "c6pInT4pjLMw"
   },
   "source": [
    "What if we have to use single (double) quotes literally in a single(double)-quoted string? Escape their special behaviors with backslashes (`\\`):"
   ]
  },
  {
   "cell_type": "code",
   "execution_count": 72,
   "metadata": {
    "colab": {},
    "colab_type": "code",
    "id": "-AwV8aCilKaa"
   },
   "outputs": [
    {
     "name": "stdout",
     "output_type": "stream",
     "text": [
      "\"No, it isn't\", they said\n"
     ]
    }
   ],
   "source": [
    "print('\"No, it isn\\'t\", they said')"
   ]
  },
  {
   "cell_type": "code",
   "execution_count": 48,
   "metadata": {},
   "outputs": [
    {
     "ename": "SyntaxError",
     "evalue": "EOL while scanning string literal (<ipython-input-48-802ecafc2385>, line 1)",
     "output_type": "error",
     "traceback": [
      "\u001b[1;36m  File \u001b[1;32m\"<ipython-input-48-802ecafc2385>\"\u001b[1;36m, line \u001b[1;32m1\u001b[0m\n\u001b[1;33m    'Python Programming\u001b[0m\n\u001b[1;37m                        ^\u001b[0m\n\u001b[1;31mSyntaxError\u001b[0m\u001b[1;31m:\u001b[0m EOL while scanning string literal\n"
     ]
    }
   ],
   "source": [
    "'Python Programming \n",
    "for Business Analytics'"
   ]
  },
  {
   "cell_type": "markdown",
   "metadata": {
    "colab_type": "text",
    "id": "LpMpaBA_oE7M"
   },
   "source": [
    "When we press the <kbd class=\"\">Enter</kbd> key, a **newline character** (`\\n`) is generated to signify the end of a line. Typically, Python uses newlines to delineate statements. \n",
    "\n",
    "We can make a string literal span multiple lines by including a backslash character `\\` at the end of each line to escape the newline (`\\n`):\n"
   ]
  },
  {
   "cell_type": "code",
   "execution_count": 16,
   "metadata": {
    "colab": {},
    "colab_type": "code",
    "id": "J4GTuWvnJmFf"
   },
   "outputs": [
    {
     "data": {
      "text/plain": [
       "'Python Programming for Business Analytics'"
      ]
     },
     "execution_count": 16,
     "metadata": {},
     "output_type": "execute_result"
    }
   ],
   "source": [
    "'Python Programming \\\n",
    "for Business Analytics'"
   ]
  },
  {
   "cell_type": "markdown",
   "metadata": {
    "colab_type": "text",
    "id": "j5cdIus6oRVt"
   },
   "source": [
    "String literals inside triple quotes, `\"\"\"` or `'''`, can span multiple lines of text. Newlines (`\\n`) are automatically included in the string literal."
   ]
  },
  {
   "cell_type": "code",
   "execution_count": 49,
   "metadata": {},
   "outputs": [
    {
     "data": {
      "text/plain": [
       "'Python Programming\\nfor Business Analytics'"
      ]
     },
     "execution_count": 49,
     "metadata": {},
     "output_type": "execute_result"
    }
   ],
   "source": [
    "'''Python Programming\n",
    "for Business Analytics'''"
   ]
  },
  {
   "cell_type": "markdown",
   "metadata": {
    "colab_type": "text",
    "id": "F0xQ03GJozSo"
   },
   "source": [
    "`print()` is used to display the actual string represented by a string literal:"
   ]
  },
  {
   "cell_type": "code",
   "execution_count": null,
   "metadata": {},
   "outputs": [],
   "source": [
    "print('ISOM3400\\nPython Programming\\nfor Business Analytics')"
   ]
  },
  {
   "cell_type": "markdown",
   "metadata": {
    "colab_type": "text",
    "id": "3-m8yOGEkIrs"
   },
   "source": [
    "## Escape Sequences\n",
    "\n",
    "An **escape sequence** (of characters) can be used to denote a special character which cannot be typed easily on a keyboard or one which has been reserved for other purposes.\n",
    "\n",
    "Some common escape sequences include:\n",
    "\n",
    "|Sequence|Meaning|\n",
    "|:-- |:-- |\n",
    "|`\\\\`|literal backslash|\n",
    "|`\\'`|single quote|\n",
    "|`\\\"`|double quote|\n",
    "|`\\t`|tab|\n",
    "|`\\n`|newline|"
   ]
  },
  {
   "cell_type": "code",
   "execution_count": 19,
   "metadata": {},
   "outputs": [
    {
     "name": "stdout",
     "output_type": "stream",
     "text": [
      "python\tprogramming\n"
     ]
    }
   ],
   "source": [
    "print(\"python\\tprogramming\")"
   ]
  },
  {
   "cell_type": "markdown",
   "metadata": {
    "colab_type": "text",
    "id": "FEdpi9m0qKLV"
   },
   "source": [
    "**<font color='steelblue' > Question </font>**: How to print the following using escape sequences:\n",
    "\n",
    "`I don't think \"a\" is equal to \"A\" in 'Python'`"
   ]
  },
  {
   "cell_type": "code",
   "execution_count": null,
   "metadata": {},
   "outputs": [],
   "source": []
  },
  {
   "cell_type": "markdown",
   "metadata": {
    "colab_type": "text",
    "id": "UXt5nK-HGIZF"
   },
   "source": [
    "## Accepting User Inputs\n",
    "\n",
    "<img src=\"https://raw.githubusercontent.com/justinjiajia/img/master/python/hci.png\" width=400 />\n",
    "\n",
    "Programs often need to obtain data from the user, usually by way of input from the keyboard. The simplest way to accomplish this in Python is with `input()`.\n",
    "\n",
    "`input(prompt)` prompts for and returns input as a string. "
   ]
  },
  {
   "cell_type": "code",
   "execution_count": null,
   "metadata": {},
   "outputs": [],
   "source": [
    "input(\"What is your name?\")"
   ]
  },
  {
   "cell_type": "code",
   "execution_count": null,
   "metadata": {},
   "outputs": [],
   "source": [
    "input(\"What is your age?\")   "
   ]
  },
  {
   "cell_type": "markdown",
   "metadata": {},
   "source": [
    "We can assign what is returned into a variable, to be used later. "
   ]
  },
  {
   "cell_type": "code",
   "execution_count": null,
   "metadata": {},
   "outputs": [],
   "source": [
    "name = input(\"What is your name?\")\n",
    "age =  input(\"What is your age?\")      \n",
    "gender = input(\"What is your gender?\")"
   ]
  },
  {
   "cell_type": "markdown",
   "metadata": {
    "colab_type": "text",
    "id": "NP3gQO8siTNR"
   },
   "source": [
    "To display the contents of these variables, pass them as a comma-separated list of argument to `print()`. By default, `print()` separates the content of each argument by a single space and appends a newline to the end of the output:"
   ]
  },
  {
   "cell_type": "code",
   "execution_count": null,
   "metadata": {},
   "outputs": [],
   "source": [
    "print(name, 'is', gender, 'at', age, 'years old.')"
   ]
  },
  {
   "cell_type": "code",
   "execution_count": null,
   "metadata": {
    "colab": {
     "base_uri": "https://localhost:8080/",
     "height": 218
    },
    "colab_type": "code",
    "id": "i664F9yR4XG1",
    "outputId": "b4e080e7-a61c-4a1a-86c2-e96f31c73bbe"
   },
   "outputs": [
    {
     "name": "stdout",
     "output_type": "stream",
     "text": [
      "Help on built-in function print in module builtins:\n",
      "\n",
      "print(...)\n",
      "    print(value, ..., sep=' ', end='\\n', file=sys.stdout, flush=False)\n",
      "    \n",
      "    Prints the values to a stream, or to sys.stdout by default.\n",
      "    Optional keyword arguments:\n",
      "    file:  a file-like object (stream); defaults to the current sys.stdout.\n",
      "    sep:   string inserted between values, default a space.\n",
      "    end:   string appended after the last value, default a newline.\n",
      "    flush: whether to forcibly flush the stream.\n",
      "\n"
     ]
    }
   ],
   "source": [
    "help(print)"
   ]
  },
  {
   "cell_type": "code",
   "execution_count": null,
   "metadata": {},
   "outputs": [],
   "source": [
    "print(name, 'is', gender, sep='-', end='a')\n",
    "print('at', age, 'years old.', sep='-')"
   ]
  },
  {
   "cell_type": "markdown",
   "metadata": {
    "colab_type": "text",
    "id": "MzJ4RGl1lMwa"
   },
   "source": [
    "## String Operations\n",
    "\n",
    "In Python, strings have type `str`, which is a special kind of **sequence types** (later). String objects support several operations and built-in functions.\n",
    "\n",
    "- The operators `+` and `*` works with strings:"
   ]
  },
  {
   "cell_type": "code",
   "execution_count": 2,
   "metadata": {
    "colab": {},
    "colab_type": "code",
    "id": "v8RTOGqalwQW"
   },
   "outputs": [],
   "source": [
    "course = 'Python Programming'"
   ]
  },
  {
   "cell_type": "code",
   "execution_count": 27,
   "metadata": {
    "colab": {},
    "colab_type": "code",
    "id": "BKB0xDUultd2"
   },
   "outputs": [
    {
     "data": {
      "text/plain": [
       "'Python Programming for Business Analtytics'"
      ]
     },
     "execution_count": 27,
     "metadata": {},
     "output_type": "execute_result"
    }
   ],
   "source": [
    "course + ' for Business Analtytics'"
   ]
  },
  {
   "cell_type": "code",
   "execution_count": 59,
   "metadata": {
    "colab": {},
    "colab_type": "code",
    "id": "O80E3g01l0Pa"
   },
   "outputs": [
    {
     "data": {
      "text/plain": [
       "'Python ProgrammingPython ProgrammingPython Programming'"
      ]
     },
     "execution_count": 59,
     "metadata": {},
     "output_type": "execute_result"
    }
   ],
   "source": [
    "course * 3"
   ]
  },
  {
   "cell_type": "markdown",
   "metadata": {
    "colab_type": "text",
    "id": "pUWnWqHPl3ll"
   },
   "source": [
    "- `-` and `/`, however, are incompatible with the `str` type:"
   ]
  },
  {
   "cell_type": "code",
   "execution_count": 3,
   "metadata": {
    "colab": {
     "base_uri": "https://localhost:8080/",
     "height": 162
    },
    "colab_type": "code",
    "id": "q_e3MmS8l3Bb",
    "outputId": "67b19f52-dc81-4a06-eaee-5a872feb075d"
   },
   "outputs": [
    {
     "ename": "TypeError",
     "evalue": "unsupported operand type(s) for -: 'str' and 'str'",
     "output_type": "error",
     "traceback": [
      "\u001b[1;31m---------------------------------------------------------------------------\u001b[0m",
      "\u001b[1;31mTypeError\u001b[0m                                 Traceback (most recent call last)",
      "\u001b[1;32m<ipython-input-3-9f3c505dd770>\u001b[0m in \u001b[0;36m<module>\u001b[1;34m\u001b[0m\n\u001b[1;32m----> 1\u001b[1;33m \u001b[0mcourse\u001b[0m \u001b[1;33m-\u001b[0m \u001b[1;34m'Programming'\u001b[0m\u001b[1;33m\u001b[0m\u001b[1;33m\u001b[0m\u001b[0m\n\u001b[0m",
      "\u001b[1;31mTypeError\u001b[0m: unsupported operand type(s) for -: 'str' and 'str'"
     ]
    }
   ],
   "source": [
    "course - 'Programming'"
   ]
  },
  {
   "cell_type": "markdown",
   "metadata": {
    "colab_type": "text",
    "id": "Tth7Ic6ymM1y"
   },
   "source": [
    "- The  **membership operators** `in` and `not in` take two strings and return `True` if the first appears as a substring in the second:"
   ]
  },
  {
   "cell_type": "code",
   "execution_count": null,
   "metadata": {},
   "outputs": [],
   "source": [
    "'nan' in 'banana'"
   ]
  },
  {
   "cell_type": "code",
   "execution_count": null,
   "metadata": {},
   "outputs": [],
   "source": [
    "'p' not in 'Python Programming'"
   ]
  },
  {
   "cell_type": "markdown",
   "metadata": {
    "colab_type": "text",
    "id": "T2IBxjwtmx48"
   },
   "source": [
    "\n",
    "-  The **comparison operators** (e.g., `==`, `>`, `<=`) compare strings ***lexigraphically***, the way in which strings are ordered based on the **alphabetical order** of their component characters:\n",
    "\n",
    "   - In alphabetical ordering, digits come before letters and capital letters come before lowercase letters.\n",
    "     - i.e., digits (as characters) < uppercase letters < lowercase letters.\n",
    "   - Compare the leftmost characters first, and generate `True` or `False` if their values differ, or continue until a difference is observed."
   ]
  },
  {
   "cell_type": "code",
   "execution_count": 61,
   "metadata": {
    "colab": {},
    "colab_type": "code",
    "id": "E-VLsEzgmvbc"
   },
   "outputs": [
    {
     "data": {
      "text/plain": [
       "False"
      ]
     },
     "execution_count": 61,
     "metadata": {},
     "output_type": "execute_result"
    }
   ],
   "source": [
    "'Python Programming' == 'python programming'"
   ]
  },
  {
   "cell_type": "code",
   "execution_count": 62,
   "metadata": {
    "colab": {},
    "colab_type": "code",
    "id": "Up93Axsuo_Pi"
   },
   "outputs": [
    {
     "data": {
      "text/plain": [
       "True"
      ]
     },
     "execution_count": 62,
     "metadata": {},
     "output_type": "execute_result"
    }
   ],
   "source": [
    "'Python Programming' < 'python programming'"
   ]
  },
  {
   "cell_type": "code",
   "execution_count": 63,
   "metadata": {
    "colab": {},
    "colab_type": "code",
    "id": "KXD159w4pCht"
   },
   "outputs": [
    {
     "data": {
      "text/plain": [
       "False"
      ]
     },
     "execution_count": 63,
     "metadata": {},
     "output_type": "execute_result"
    }
   ],
   "source": [
    "'python programming' < 'python cookbook'"
   ]
  },
  {
   "cell_type": "code",
   "execution_count": 32,
   "metadata": {
    "colab": {},
    "colab_type": "code",
    "id": "chPFfcJKByV_"
   },
   "outputs": [
    {
     "data": {
      "text/plain": [
       "True"
      ]
     },
     "execution_count": 32,
     "metadata": {},
     "output_type": "execute_result"
    }
   ],
   "source": [
    "'9999' < 'A'"
   ]
  },
  {
   "cell_type": "markdown",
   "metadata": {
    "colab_type": "text",
    "id": "MM1HpZt5pIw8"
   },
   "source": [
    "- `len()` returns the number of characters in a string:"
   ]
  },
  {
   "cell_type": "code",
   "execution_count": 34,
   "metadata": {},
   "outputs": [
    {
     "data": {
      "text/plain": [
       "'Python Programming'"
      ]
     },
     "execution_count": 34,
     "metadata": {},
     "output_type": "execute_result"
    }
   ],
   "source": [
    "course"
   ]
  },
  {
   "cell_type": "code",
   "execution_count": null,
   "metadata": {},
   "outputs": [],
   "source": [
    "len(course)"
   ]
  },
  {
   "cell_type": "code",
   "execution_count": null,
   "metadata": {
    "colab": {
     "base_uri": "https://localhost:8080/",
     "height": 162
    },
    "colab_type": "code",
    "id": "CfSuSowBpPre",
    "outputId": "e3ef9c4e-e04e-45d2-c4e9-a8925f04ec21"
   },
   "outputs": [
    {
     "ename": "TypeError",
     "evalue": "ignored",
     "output_type": "error",
     "traceback": [
      "\u001b[0;31m---------------------------------------------------------------------------\u001b[0m",
      "\u001b[0;31mTypeError\u001b[0m                                 Traceback (most recent call last)",
      "\u001b[0;32m<ipython-input-13-14e6b72253cd>\u001b[0m in \u001b[0;36m<module>\u001b[0;34m()\u001b[0m\n\u001b[0;32m----> 1\u001b[0;31m \u001b[0mlen\u001b[0m\u001b[0;34m(\u001b[0m\u001b[0;36m1024\u001b[0m\u001b[0;34m)\u001b[0m\u001b[0;34m\u001b[0m\u001b[0;34m\u001b[0m\u001b[0m\n\u001b[0m",
      "\u001b[0;31mTypeError\u001b[0m: object of type 'int' has no len()"
     ]
    }
   ],
   "source": [
    "len(1024)"
   ]
  },
  {
   "cell_type": "markdown",
   "metadata": {
    "colab_type": "text",
    "id": "0DV0Hf6HrG_m"
   },
   "source": [
    "## String Indexing\n",
    "\n",
    "A string is a sequence of characters, and is reducible to the component characters.\n",
    "\n",
    "The characters in a string are indexed by integers (representing positions in the sequence), and can be individually accessed by using the indexing operator (`[]` that encloses an integer).\n",
    "\n",
    "The index set contains the integers 0, 1, …, and `len()-1` (**0-based indexing**).\n"
   ]
  },
  {
   "cell_type": "markdown",
   "metadata": {
    "colab_type": "text",
    "id": "t1sYWRLgA8VZ"
   },
   "source": [
    "<img src=\"https://raw.githubusercontent.com/justinjiajia/img/master/python/indexing.PNG\" width=600></img>"
   ]
  },
  {
   "cell_type": "code",
   "execution_count": null,
   "metadata": {},
   "outputs": [],
   "source": [
    "course[2]"
   ]
  },
  {
   "cell_type": "code",
   "execution_count": null,
   "metadata": {},
   "outputs": [],
   "source": [
    "'Hello'[1]"
   ]
  },
  {
   "cell_type": "markdown",
   "metadata": {
    "colab_type": "text",
    "id": "diwyoAAKCxL6"
   },
   "source": [
    "Strings can also be  <font color=\"salmon\">***back indexed***</font> using negative integers. Negative indexing counts backward from the end of a sequence and starts from `-1`.\n",
    "- i.e., `-1` refers to the last character, `-2` the second-to-last character, and so on"
   ]
  },
  {
   "cell_type": "code",
   "execution_count": null,
   "metadata": {
    "colab": {},
    "colab_type": "code",
    "id": "6Lz681B9CozH"
   },
   "outputs": [],
   "source": [
    "course[- 3 * 6]"
   ]
  },
  {
   "cell_type": "markdown",
   "metadata": {
    "colab_type": "text",
    "id": "ndtCWb1sQMGI"
   },
   "source": [
    "Out of range indexing will incur an error:"
   ]
  },
  {
   "cell_type": "code",
   "execution_count": null,
   "metadata": {
    "colab": {
     "base_uri": "https://localhost:8080/",
     "height": 162
    },
    "colab_type": "code",
    "id": "lTu2bU9QQb-n",
    "outputId": "1eceec60-8d9b-4703-d6a2-dfd9fdef5bd8"
   },
   "outputs": [
    {
     "ename": "IndexError",
     "evalue": "ignored",
     "output_type": "error",
     "traceback": [
      "\u001b[0;31m---------------------------------------------------------------------------\u001b[0m",
      "\u001b[0;31mIndexError\u001b[0m                                Traceback (most recent call last)",
      "\u001b[0;32m<ipython-input-23-dbd31bb88304>\u001b[0m in \u001b[0;36m<module>\u001b[0;34m()\u001b[0m\n\u001b[0;32m----> 1\u001b[0;31m \u001b[0mcourse\u001b[0m\u001b[0;34m[\u001b[0m\u001b[0;36m18\u001b[0m\u001b[0;34m]\u001b[0m\u001b[0;34m\u001b[0m\u001b[0;34m\u001b[0m\u001b[0m\n\u001b[0m",
      "\u001b[0;31mIndexError\u001b[0m: string index out of range"
     ]
    }
   ],
   "source": [
    "course[18]"
   ]
  },
  {
   "cell_type": "markdown",
   "metadata": {
    "colab_type": "text",
    "id": "5fE62rTfO9Jt"
   },
   "source": [
    "---\n",
    "\n",
    "## String Slicing\n",
    "\n",
    "Slicing is an operation that extracts a segment of a string (called a slice).\n",
    "\n",
    "The slicing operator `[i:j]` returns the part of the sequence from the element indexed by `i` to the element indexed by `j`, including the first but excluding the last:"
   ]
  },
  {
   "cell_type": "code",
   "execution_count": 36,
   "metadata": {},
   "outputs": [
    {
     "data": {
      "text/plain": [
       "'Python Programming'"
      ]
     },
     "execution_count": 36,
     "metadata": {},
     "output_type": "execute_result"
    }
   ],
   "source": [
    "course"
   ]
  },
  {
   "cell_type": "code",
   "execution_count": null,
   "metadata": {},
   "outputs": [],
   "source": [
    "course[0:6]"
   ]
  },
  {
   "cell_type": "code",
   "execution_count": null,
   "metadata": {
    "colab": {},
    "colab_type": "code",
    "id": "47o8_yyjUca6"
   },
   "outputs": [],
   "source": [
    "course[-18:-12]"
   ]
  },
  {
   "cell_type": "code",
   "execution_count": null,
   "metadata": {},
   "outputs": [],
   "source": [
    "course[0:-12]"
   ]
  },
  {
   "cell_type": "markdown",
   "metadata": {
    "colab_type": "text",
    "id": "SFsh-4VFV0Rj"
   },
   "source": [
    "If the 1st argument is omitted, the slice starts at the beginning of the string; if the 2nd argument is omitted, the slice goes to the end of the string:"
   ]
  },
  {
   "cell_type": "code",
   "execution_count": null,
   "metadata": {},
   "outputs": [],
   "source": [
    "course[-11:]"
   ]
  },
  {
   "cell_type": "code",
   "execution_count": null,
   "metadata": {},
   "outputs": [],
   "source": [
    "course[:-12]"
   ]
  },
  {
   "cell_type": "markdown",
   "metadata": {
    "colab_type": "text",
    "id": "moEM01K1WHCE"
   },
   "source": [
    "---\n",
    "\n",
    "## Optional: Extended Slicing\n",
    "\n",
    "Strings support extended slicing with a third step argument supplied in the operator `[]` as in `[i:j:k]`. \n",
    "\n",
    "\n",
    "`[i:j:k]` first extracts the element indexed by $i$,  and counts either forward or backward (depending on the sign of $k$) with step size $|k|$ to find the second element. This search repeats until it goes beyond the element indexed by $j-1$."
   ]
  },
  {
   "cell_type": "code",
   "execution_count": null,
   "metadata": {
    "colab": {},
    "colab_type": "code",
    "id": "AKoFqx4UWWVS"
   },
   "outputs": [],
   "source": [
    "course[-11:18:2] "
   ]
  },
  {
   "cell_type": "code",
   "execution_count": null,
   "metadata": {
    "colab": {},
    "colab_type": "code",
    "id": "GDcbwosBW-Cr"
   },
   "outputs": [],
   "source": [
    "# Because the step size is negative, the character referred to by \n",
    "# the 1st argument should succeed that referred to by the 2nd \n",
    "course[17:0:-1] "
   ]
  },
  {
   "cell_type": "code",
   "execution_count": null,
   "metadata": {
    "colab": {},
    "colab_type": "code",
    "id": "iwX9D3htd01N"
   },
   "outputs": [],
   "source": [
    "course[-13::-2]"
   ]
  },
  {
   "cell_type": "code",
   "execution_count": null,
   "metadata": {
    "colab": {},
    "colab_type": "code",
    "id": "8xiWyJNWfIpN"
   },
   "outputs": [],
   "source": [
    "course[::-3]"
   ]
  },
  {
   "cell_type": "markdown",
   "metadata": {
    "colab_type": "text",
    "id": "uvVMv0Mwe3sc"
   },
   "source": [
    "---\n",
    "\n",
    "## Strings are Immutable\n",
    "\n",
    "Strings in Python is  <font color=\"salmon\">***immutable***</font>. That is, the value of string objects cannot change:"
   ]
  },
  {
   "cell_type": "code",
   "execution_count": null,
   "metadata": {
    "colab": {
     "base_uri": "https://localhost:8080/",
     "height": 162
    },
    "colab_type": "code",
    "id": "BD3Abf4xhtM4",
    "outputId": "386afd6c-a60e-452a-d5d9-a38032e29c24"
   },
   "outputs": [
    {
     "ename": "TypeError",
     "evalue": "ignored",
     "output_type": "error",
     "traceback": [
      "\u001b[0;31m---------------------------------------------------------------------------\u001b[0m",
      "\u001b[0;31mTypeError\u001b[0m                                 Traceback (most recent call last)",
      "\u001b[0;32m<ipython-input-8-c18cc7006df3>\u001b[0m in \u001b[0;36m<module>\u001b[0;34m()\u001b[0m\n\u001b[0;32m----> 1\u001b[0;31m \u001b[0mcourse\u001b[0m\u001b[0;34m[\u001b[0m\u001b[0;36m7\u001b[0m\u001b[0;34m]\u001b[0m \u001b[0;34m=\u001b[0m \u001b[0;34m'p'\u001b[0m  \u001b[0;31m# Modifying characters isn't allowed.\u001b[0m\u001b[0;34m\u001b[0m\u001b[0;34m\u001b[0m\u001b[0m\n\u001b[0m",
      "\u001b[0;31mTypeError\u001b[0m: 'str' object does not support item assignment"
     ]
    }
   ],
   "source": [
    "course[7] = 'p'  # Modifying characters isn't allowed."
   ]
  },
  {
   "cell_type": "markdown",
   "metadata": {
    "colab_type": "text",
    "id": "Rj09Me6XhvyW"
   },
   "source": [
    "However, this does not mean that we can't change the value of a variable (more precisely, the object that a name refers to). We can assign the variable a new string:"
   ]
  },
  {
   "cell_type": "code",
   "execution_count": null,
   "metadata": {
    "colab": {},
    "colab_type": "code",
    "id": "xuucYPjOh_ZG"
   },
   "outputs": [],
   "source": [
    "course = 'ISOM 3400'"
   ]
  },
  {
   "cell_type": "markdown",
   "metadata": {
    "colab_type": "text",
    "id": "zXE6tyWoh90n"
   },
   "source": [
    "<img src=\"https://raw.githubusercontent.com/justinjiajia/img/master/python/course.png\" width=700></img>\n",
    "\n",
    "An object's **mutability** is determined by its type. Numbers and Booleans are also immutable (we will see some mutable data types later)."
   ]
  },
  {
   "cell_type": "markdown",
   "metadata": {
    "colab_type": "text",
    "id": "e7hSEzRM1xBw"
   },
   "source": [
    "## String Formatting\n",
    "\n",
    "\n",
    "`print() ` supports output formatting that is rudimentary at best.  In many cases, we'll need more precise control over the appearance of data destined for display. \n",
    "\n",
    "Python provides several ways to format output string data.  "
   ]
  },
  {
   "cell_type": "code",
   "execution_count": 2,
   "metadata": {
    "colab": {},
    "colab_type": "code",
    "id": "WhDJ3QT9yqBh"
   },
   "outputs": [],
   "source": [
    "shares = 3.2; stock = 'Apple'; price = 443.05"
   ]
  },
  {
   "cell_type": "code",
   "execution_count": null,
   "metadata": {},
   "outputs": [],
   "source": [
    "'purchase %d shares of %s at $ %.0f per share' % (shares, stock, price)"
   ]
  },
  {
   "cell_type": "code",
   "execution_count": null,
   "metadata": {
    "colab": {},
    "colab_type": "code",
    "id": "W2pmGLPW7DRe"
   },
   "outputs": [],
   "source": [
    "'purchase {} shares of {} at $ {:.1f} per share'.format(shares, stock, price)"
   ]
  },
  {
   "cell_type": "markdown",
   "metadata": {
    "colab_type": "text",
    "id": "u0m6hhSg7YU7"
   },
   "source": [
    "### \"Old Style\": The `%` Operator\n",
    "\n",
    "Using `%`, known as the **string formatting**/**interpolation operator**, with a string lets us do simple positional formatting easily. \n",
    "\n",
    "It takes the  **conversion specifiers** (starting with `%`) on the left and the values on the right, producing a formatted string:"
   ]
  },
  {
   "cell_type": "markdown",
   "metadata": {
    "colab_type": "text",
    "id": "7xZkTDYU4v-h"
   },
   "source": [
    "<img src=\"https://raw.githubusercontent.com/justinjiajia/img/master/python/interpolation.PNG\" width=550/>\n",
    "\n",
    "\n",
    "\n",
    "\n",
    "- In addition to representing the string interpolation operation, the `%` character also denotes the conversion specifiers, e.g., `%d`, `%s`, and `%.0f`, and the replacement fields in a format string.\n",
    "- Each value is converted to a string value with the specified format and inserted into the format string in place of the corresponding replacement field (matched by position)."
   ]
  },
  {
   "cell_type": "markdown",
   "metadata": {
    "colab_type": "text",
    "id": "QaC72Tn46WXl"
   },
   "source": [
    "---\n",
    "\n",
    "#### Optional: Conversion Specifiers\n"
   ]
  },
  {
   "cell_type": "markdown",
   "metadata": {
    "colab_type": "text",
    "id": "tLvJZgEE6YKM"
   },
   "source": [
    "A conversion specifier contains 2 (% and a letter specifying conversion type; required) or more (optional) characters (allowing for more fine-grained control over how values are printed) to determine how values are formatted when they’re inserted:\n",
    "\n",
    "The constructs of a conversion specifier is structured as follows:\n",
    "\n",
    "`%[<flags>][<width>][.<precision>]<type>`\n",
    "\n",
    "\n",
    "|Component|Meaning|Possible Values|\n",
    "|:-- |:-- |:--|\n",
    "|`%`|Introduces the conversion specifier|\n",
    "|`<type>`|Indicates the type of conversion to be performed|`d` for decimal integers <br>`f` for floating point numbers <br>`e` for exponential numbers <br> `s` for strings\n",
    "|`.<precision>`|Determines the length and precision of floating point, exponential,  <br>or string outputs|\n",
    "|`<width>`|Specifies the minimum width of the formatted result|\n",
    "|`<flags>`|Indicates one or more flags that exert finer control over formatting|`0` for padding of values<br>`-` for justification of values\n",
    "\n",
    "\n",
    "<br>\n",
    "\n",
    "<div class=\"alert alert-info\">More details on format specifications can be found <a href=\"https://docs.python.org/3/library/stdtypes.html#printf-style-string-formatting\">here</a>.</div>\n",
    "\n"
   ]
  },
  {
   "cell_type": "code",
   "execution_count": null,
   "metadata": {
    "colab": {},
    "colab_type": "code",
    "id": "yfazLbxRC6UU"
   },
   "outputs": [],
   "source": [
    "'purchase %d shares of %s at $ %f per share' % (shares, stock, price)  # The default precision of 'f' is 6."
   ]
  },
  {
   "cell_type": "code",
   "execution_count": null,
   "metadata": {
    "colab": {},
    "colab_type": "code",
    "id": "SD1hR-pSJmHA"
   },
   "outputs": [],
   "source": [
    "'purchase %06d shares of %.3s at $ %.0f per share' % (shares, stock, price)"
   ]
  },
  {
   "cell_type": "code",
   "execution_count": null,
   "metadata": {
    "colab": {},
    "colab_type": "code",
    "id": "43W_wADzJmHC"
   },
   "outputs": [],
   "source": [
    "'purchase %-6d shares of %-10s at $ %.2e per share' % (shares, stock, price)"
   ]
  },
  {
   "cell_type": "markdown",
   "metadata": {
    "colab_type": "text",
    "id": "lK2w-VQABHbZ"
   },
   "source": [
    "To insert a literal `%` character into the output, specify two consecutive `%` characters in the format string:"
   ]
  },
  {
   "cell_type": "code",
   "execution_count": 3,
   "metadata": {
    "colab": {},
    "colab_type": "code",
    "id": "QdAMo1B9HHhI"
   },
   "outputs": [
    {
     "data": {
      "text/plain": [
       "\"Google's stock is trading 18% off of 52-week highs\""
      ]
     },
     "execution_count": 3,
     "metadata": {},
     "output_type": "execute_result"
    }
   ],
   "source": [
    "\"%s's stock is trading %.0f%% off of %d-week highs\" % ('Google', 0.1845 * 100, 52.5)"
   ]
  },
  {
   "cell_type": "markdown",
   "metadata": {
    "colab_type": "text",
    "id": "Amq06mGJIxHy"
   },
   "source": [
    "---\n",
    "\n",
    "### \"New Style\": `str.format()`"
   ]
  },
  {
   "cell_type": "markdown",
   "metadata": {
    "colab_type": "text",
    "id": "FjyCEtsxU92r"
   },
   "source": [
    " This \"new style\" string formatting gets rid of the `%` operator special syntax and makes the syntax for string formatting more regular. Formatting is now handled by calling `.format()` on a string object.\n",
    " \n",
    "We can do simple positional formatting, just like we could with \"old style\" formatting, with replacement fields denoted by `{}`:"
   ]
  },
  {
   "cell_type": "code",
   "execution_count": null,
   "metadata": {
    "colab": {},
    "colab_type": "code",
    "id": "xeYfahm4Iwdb"
   },
   "outputs": [],
   "source": [
    "'purchase {} shares of {} at $ {} per share'.format(shares, stock, price)"
   ]
  },
  {
   "cell_type": "markdown",
   "metadata": {
    "colab_type": "text",
    "id": "MbhsALN3WJDa"
   },
   "source": [
    "The syntax allows for rearranging the order of display (and interpolating values into multiple places) by referring to the positions of the arguments (base-0 indexing):"
   ]
  },
  {
   "cell_type": "code",
   "execution_count": null,
   "metadata": {
    "colab": {},
    "colab_type": "code",
    "id": "0D1owWVKWIXq"
   },
   "outputs": [],
   "source": [
    "'purchase {2} shares of {0} at $ {1} per share'.format('Google', 203.83, 11.4)"
   ]
  },
  {
   "cell_type": "code",
   "execution_count": null,
   "metadata": {
    "colab": {},
    "colab_type": "code",
    "id": "sa1b5XRZdDmr"
   },
   "outputs": [],
   "source": [
    "'{1}    {0:.1f}    {1}    {0:.0f}'.format(price, stock)"
   ]
  },
  {
   "cell_type": "markdown",
   "metadata": {
    "colab_type": "text",
    "id": "53y_8cFmVY4c"
   },
   "source": [
    "We can also refer to the value substitutions by name and use them in any order:"
   ]
  },
  {
   "cell_type": "code",
   "execution_count": null,
   "metadata": {
    "colab": {},
    "colab_type": "code",
    "id": "_7Gawa7PJOqO"
   },
   "outputs": [],
   "source": [
    "'purchase {shares} shares of {stock} at $ {price} per share'.format(stock='Google', price=203.83, shares=11.4)"
   ]
  },
  {
   "cell_type": "markdown",
   "metadata": {
    "colab_type": "text",
    "id": "lYmP0xZza9xy"
   },
   "source": [
    "---\n",
    "\n",
    "#### Optional: Format Specifications\n",
    "\n",
    "The new style of string formatting also allows us to specify how individual values are presented in the format string. The structure of a format specification is shown as follows:\n",
    "\n",
    "\n",
    "` [[<fill>]<align>][<sign>][#][0][<width>][<grouping_option>][.<precision>][<type>]`\n",
    "\n",
    "```\n",
    "fill            :  <any character>\n",
    "align           :  \"<\" | \">\" | \"=\" | \"^\"\n",
    "sign            :  \"+\" | \"-\" | \" \"\n",
    "width           :  digit+\n",
    "grouping_option :  \"_\" | \",\"\n",
    "precision       :  digit+\n",
    "type            :  \"b\" | \"c\" | \"d\" | \"e\" | \"E\" | \"f\" | \"F\" | \"g\" | \"G\" | \"n\" | \"o\" | \"s\" | \"x\" | \"X\" | \"%\"\n",
    "```\n",
    "\n",
    "\n",
    "A format specficiation is introduced by a colon `:` that optionally follows the name or position of the argument to be assigned to the replacement field:"
   ]
  },
  {
   "cell_type": "code",
   "execution_count": null,
   "metadata": {
    "colab": {},
    "colab_type": "code",
    "id": "syLyVOpLf40K"
   },
   "outputs": [],
   "source": [
    "'purchase {2:.0f} shares of {0:_^12} at $ {1:+} per share'.format('Google', 203.83, 11.4)"
   ]
  },
  {
   "cell_type": "code",
   "execution_count": null,
   "metadata": {},
   "outputs": [],
   "source": [
    "\"{:e<12}'s stock is trading {:.1%} off of {:.0f}-week highs\".format('Google', 0.1845, 52.5)"
   ]
  },
  {
   "cell_type": "markdown",
   "metadata": {
    "colab_type": "text",
    "id": "qmT_lGX9JOH_"
   },
   "source": [
    "<div class=\"alert alert-info\">More details on the new-style string formatting syntax can be found <a href=\"https://docs.python.org/3/library/string.html#format-string-syntax\">here</a>.</div>"
   ]
  },
  {
   "cell_type": "markdown",
   "metadata": {
    "colab_type": "text",
    "id": "-y3szpkbksKJ"
   },
   "source": [
    "The eligible presentation types are dependent on the type of the value to format. Contrary to the old stype of string formatting, there's no conversion from one type to another: "
   ]
  },
  {
   "cell_type": "code",
   "execution_count": null,
   "metadata": {
    "colab": {},
    "colab_type": "code",
    "id": "HaWN1FGPlgcF"
   },
   "outputs": [],
   "source": [
    "\"{:e<12}'s stock is trading {:s} off of {:d}-week highs\".format('Google', 0.1845, 52.5)"
   ]
  },
  {
   "cell_type": "markdown",
   "metadata": {
    "colab_type": "text",
    "id": "j2ss7sSGxdhb"
   },
   "source": [
    "If we want to present a floating point number as an integer,   `int()` should be used to convert the floating point number to an integer before formatting."
   ]
  },
  {
   "cell_type": "markdown",
   "metadata": {
    "colab_type": "text",
    "id": "qtIERvN0VEYy"
   },
   "source": [
    "---\n",
    "# Methods\n",
    "\n",
    "A method is an <font color=\"salmon\">***object-oriented***</font> programming term, and refers to a function that is attached to and act upon a specific object (thereby considered an **attribute** of the object).\n",
    "\n",
    "Like functions, methods are triggered with a call expression. \n",
    "\n",
    "A method call requires the **attribute reference** notation, i.e., a dot (`.`) between the invocation target and the method name:"
   ]
  },
  {
   "cell_type": "code",
   "execution_count": 4,
   "metadata": {
    "colab": {},
    "colab_type": "code",
    "id": "8bL385TVWXkS"
   },
   "outputs": [],
   "source": [
    "course = 'Python Programming'"
   ]
  },
  {
   "cell_type": "code",
   "execution_count": null,
   "metadata": {},
   "outputs": [],
   "source": [
    "course.lower()  # produce a new string"
   ]
  },
  {
   "cell_type": "code",
   "execution_count": null,
   "metadata": {},
   "outputs": [],
   "source": [
    "(12.4).is_integer()     # E.g., 12.3 is not"
   ]
  },
  {
   "cell_type": "markdown",
   "metadata": {
    "colab_type": "text",
    "id": "_A1EVluSYfRd"
   },
   "source": [
    "Again, typing a method's name without adding `()` echos the string representation of the method:"
   ]
  },
  {
   "cell_type": "code",
   "execution_count": 6,
   "metadata": {
    "colab": {},
    "colab_type": "code",
    "id": "FndDveaeYj33"
   },
   "outputs": [
    {
     "data": {
      "text/plain": [
       "<function str.lower()>"
      ]
     },
     "execution_count": 6,
     "metadata": {},
     "output_type": "execute_result"
    }
   ],
   "source": [
    "course.lower"
   ]
  },
  {
   "cell_type": "markdown",
   "metadata": {
    "colab_type": "text",
    "id": "F5-PW7ZapFJj"
   },
   "source": [
    "\n",
    " \n",
    " \n",
    " As a rule of thumb, Python's toolset is  <font color=\"salmon\">***layered***</font>:\n",
    "\n",
    "- Generic operations that span multiple types show up as built-in functions or expressions (e.g., `len(x)`,  `x[0]`);\n",
    "\n",
    "- Type-specific operations are implemented as method calls."
   ]
  },
  {
   "cell_type": "markdown",
   "metadata": {
    "colab_type": "text",
    "id": "zbBoEpy5W0bo"
   },
   "source": [
    "---\n",
    "\n",
    "## Examples of Built-in String Methods\n",
    "\n",
    "Here present some commonly used string methods in Python:\n",
    "- `str.find(sub[, start[, end]])` searches the target string for a given substring and returns index of the first occurrence of `sub` in `str` (at or after index `start` and before index `end`):"
   ]
  },
  {
   "cell_type": "code",
   "execution_count": 33,
   "metadata": {},
   "outputs": [
    {
     "data": {
      "text/plain": [
       "'ISOM 3400ISOM 3400'"
      ]
     },
     "execution_count": 33,
     "metadata": {},
     "output_type": "execute_result"
    }
   ],
   "source": [
    "'ISOM 3400' * 2"
   ]
  },
  {
   "cell_type": "code",
   "execution_count": 34,
   "metadata": {},
   "outputs": [
    {
     "data": {
      "text/plain": [
       "9"
      ]
     },
     "execution_count": 34,
     "metadata": {},
     "output_type": "execute_result"
    }
   ],
   "source": [
    "('ISOM 3400' * 2).find('ISOM', 3)"
   ]
  },
  {
   "cell_type": "code",
   "execution_count": 35,
   "metadata": {},
   "outputs": [
    {
     "data": {
      "text/plain": [
       "-1"
      ]
     },
     "execution_count": 35,
     "metadata": {},
     "output_type": "execute_result"
    }
   ],
   "source": [
    "('ISOM 3400' * 2).find('ISOM', 0, 3)"
   ]
  },
  {
   "cell_type": "markdown",
   "metadata": {
    "colab_type": "text",
    "id": "TTYgrmPkXU_-"
   },
   "source": [
    "- `str.count(sub[, start[, end]])` returns the total number of ***non-overlapping*** occurrences of `sub` in `str`:"
   ]
  },
  {
   "cell_type": "code",
   "execution_count": null,
   "metadata": {
    "colab": {},
    "colab_type": "code",
    "id": "e8E3ZZmGXgA-"
   },
   "outputs": [],
   "source": [
    "('ISOM 3400' * 2).count('ISOM', 2)"
   ]
  },
  {
   "cell_type": "code",
   "execution_count": null,
   "metadata": {
    "colab": {},
    "colab_type": "code",
    "id": "1Se8onstXiDe"
   },
   "outputs": [],
   "source": [
    "'abababa'.count('aba')"
   ]
  },
  {
   "cell_type": "markdown",
   "metadata": {
    "colab_type": "text",
    "id": "WBHyDQt9XoJD"
   },
   "source": [
    "---\n",
    "\n",
    "## Getting Help on Methods\n",
    "\n",
    "We can use the built-in function `dir(object)` to retrieve a list of all the attributes (including methods, which are **function attributes**) available for any object passed to it:"
   ]
  },
  {
   "cell_type": "code",
   "execution_count": null,
   "metadata": {
    "colab": {
     "base_uri": "https://localhost:8080/",
     "height": 1000
    },
    "colab_type": "code",
    "id": "g-Qrmd_zYE8N",
    "outputId": "caf81f3c-21ee-4899-d830-6775bb88f9c4"
   },
   "outputs": [
    {
     "data": {
      "text/plain": [
       "['__add__',\n",
       " '__class__',\n",
       " '__contains__',\n",
       " '__delattr__',\n",
       " '__dir__',\n",
       " '__doc__',\n",
       " '__eq__',\n",
       " '__format__',\n",
       " '__ge__',\n",
       " '__getattribute__',\n",
       " '__getitem__',\n",
       " '__getnewargs__',\n",
       " '__gt__',\n",
       " '__hash__',\n",
       " '__init__',\n",
       " '__init_subclass__',\n",
       " '__iter__',\n",
       " '__le__',\n",
       " '__len__',\n",
       " '__lt__',\n",
       " '__mod__',\n",
       " '__mul__',\n",
       " '__ne__',\n",
       " '__new__',\n",
       " '__reduce__',\n",
       " '__reduce_ex__',\n",
       " '__repr__',\n",
       " '__rmod__',\n",
       " '__rmul__',\n",
       " '__setattr__',\n",
       " '__sizeof__',\n",
       " '__str__',\n",
       " '__subclasshook__',\n",
       " 'capitalize',\n",
       " 'casefold',\n",
       " 'center',\n",
       " 'count',\n",
       " 'encode',\n",
       " 'endswith',\n",
       " 'expandtabs',\n",
       " 'find',\n",
       " 'format',\n",
       " 'format_map',\n",
       " 'index',\n",
       " 'isalnum',\n",
       " 'isalpha',\n",
       " 'isdecimal',\n",
       " 'isdigit',\n",
       " 'isidentifier',\n",
       " 'islower',\n",
       " 'isnumeric',\n",
       " 'isprintable',\n",
       " 'isspace',\n",
       " 'istitle',\n",
       " 'isupper',\n",
       " 'join',\n",
       " 'ljust',\n",
       " 'lower',\n",
       " 'lstrip',\n",
       " 'maketrans',\n",
       " 'partition',\n",
       " 'replace',\n",
       " 'rfind',\n",
       " 'rindex',\n",
       " 'rjust',\n",
       " 'rpartition',\n",
       " 'rsplit',\n",
       " 'rstrip',\n",
       " 'split',\n",
       " 'splitlines',\n",
       " 'startswith',\n",
       " 'strip',\n",
       " 'swapcase',\n",
       " 'title',\n",
       " 'translate',\n",
       " 'upper',\n",
       " 'zfill']"
      ]
     },
     "execution_count": 76,
     "metadata": {
      "tags": []
     },
     "output_type": "execute_result"
    }
   ],
   "source": [
    "dir(course)"
   ]
  },
  {
   "cell_type": "markdown",
   "metadata": {
    "colab_type": "text",
    "id": "Z6FSGhkpYQBh"
   },
   "source": [
    "To learn about each method, we can pass them to the `help()` function:"
   ]
  },
  {
   "cell_type": "code",
   "execution_count": null,
   "metadata": {
    "colab": {
     "base_uri": "https://localhost:8080/",
     "height": 202
    },
    "colab_type": "code",
    "id": "-E5dE4XYYPVK",
    "outputId": "71aabbc5-44f3-451f-8417-41c646dca868"
   },
   "outputs": [
    {
     "name": "stdout",
     "output_type": "stream",
     "text": [
      "Help on built-in function split:\n",
      "\n",
      "split(...) method of builtins.str instance\n",
      "    S.split(sep=None, maxsplit=-1) -> list of strings\n",
      "    \n",
      "    Return a list of the words in S, using sep as the\n",
      "    delimiter string.  If maxsplit is given, at most maxsplit\n",
      "    splits are done. If sep is not specified or is None, any\n",
      "    whitespace string is a separator and empty strings are\n",
      "    removed from the result.\n",
      "\n"
     ]
    }
   ],
   "source": [
    "help(course.split)"
   ]
  },
  {
   "cell_type": "markdown",
   "metadata": {
    "colab_type": "text",
    "id": "LSWX-FAl26Tf"
   },
   "source": [
    "---\n",
    "\n",
    "## Explicit Type Conversion\n",
    "\n",
    "Built-in functions like `str()`,  `int()`, `bool()`, and `float()` will try to convert anything to their respective types:"
   ]
  },
  {
   "cell_type": "code",
   "execution_count": null,
   "metadata": {},
   "outputs": [],
   "source": [
    "int(5.834)"
   ]
  },
  {
   "cell_type": "code",
   "execution_count": null,
   "metadata": {},
   "outputs": [],
   "source": [
    "int('1024')"
   ]
  },
  {
   "cell_type": "code",
   "execution_count": null,
   "metadata": {},
   "outputs": [],
   "source": [
    "int(\"3\") + 4 "
   ]
  },
  {
   "cell_type": "code",
   "execution_count": null,
   "metadata": {},
   "outputs": [],
   "source": [
    "'3.' + str(4)"
   ]
  },
  {
   "cell_type": "code",
   "execution_count": null,
   "metadata": {},
   "outputs": [],
   "source": [
    "float('3.%d' % 4)"
   ]
  },
  {
   "cell_type": "code",
   "execution_count": null,
   "metadata": {},
   "outputs": [],
   "source": [
    "int(float(\"3.4\"))"
   ]
  },
  {
   "cell_type": "code",
   "execution_count": null,
   "metadata": {},
   "outputs": [],
   "source": [
    "bool(0)"
   ]
  },
  {
   "cell_type": "code",
   "execution_count": null,
   "metadata": {},
   "outputs": [],
   "source": [
    "bool(3.4)"
   ]
  },
  {
   "cell_type": "code",
   "execution_count": null,
   "metadata": {},
   "outputs": [],
   "source": [
    "bool(\"\")           # An empty string is falsy"
   ]
  },
  {
   "cell_type": "code",
   "execution_count": null,
   "metadata": {},
   "outputs": [],
   "source": [
    "bool(\"False\")      # A non-empty string counts as True"
   ]
  },
  {
   "cell_type": "code",
   "execution_count": null,
   "metadata": {
    "colab": {
     "base_uri": "https://localhost:8080/",
     "height": 162
    },
    "colab_type": "code",
    "id": "Xb3oDNHE4CF3",
    "outputId": "14a49821-744a-4fd5-8960-5083d1fde781"
   },
   "outputs": [
    {
     "ename": "ValueError",
     "evalue": "ignored",
     "output_type": "error",
     "traceback": [
      "\u001b[0;31m---------------------------------------------------------------------------\u001b[0m",
      "\u001b[0;31mValueError\u001b[0m                                Traceback (most recent call last)",
      "\u001b[0;32m<ipython-input-66-35a09d6249bc>\u001b[0m in \u001b[0;36m<module>\u001b[0;34m()\u001b[0m\n\u001b[0;32m----> 1\u001b[0;31m \u001b[0mint\u001b[0m\u001b[0;34m(\u001b[0m\u001b[0;34m'I have $3.8 in my pocket'\u001b[0m\u001b[0;34m)\u001b[0m  \u001b[0;31m# nonsensical conversion\u001b[0m\u001b[0;34m\u001b[0m\u001b[0;34m\u001b[0m\u001b[0m\n\u001b[0m",
      "\u001b[0;31mValueError\u001b[0m: invalid literal for int() with base 10: 'I have $3.8 in my pocket'"
     ]
    }
   ],
   "source": [
    "int('I have $3.8 in my pocket')  # nonsensical conversion"
   ]
  },
  {
   "cell_type": "markdown",
   "metadata": {
    "colab_type": "text",
    "id": "9xq3jrsO99g9"
   },
   "source": [
    "---\n",
    "\n",
    "# Appendix: Operator Precedence\n",
    "\n",
    "Python evaluates expressions from left to right. The following table summarizes the **operator precedence** for all the operators we have seen so far, from highest precedence to lowest precedence:\n",
    "\n",
    "\n",
    "\n",
    "|Operator|Meaning|\n",
    "|:-- |:-- |\n",
    "|`()`|Grouping|\n",
    "|`x[i], x[i:j:k], x(...), x.attr`|Indexing, slicing, call, attribute reference|\n",
    "|`**`|Exponentiation|\n",
    "|`+x, -x`|identity, negatition|\n",
    "|`*, /, //, %`|Multiplication (repetition), division, integer division, remainder (format)|\n",
    "|`+, -`|Addition (concatenation), substraction|\n",
    "|`<, <=, >, >=, ==, !=, in, not in, is, is not`|Comparisons, including membership tests and identity tests|\n",
    "|`not`|Logical negation|\n",
    "|`and`|Logical AND|\n",
    "|`or`|Logical OR|"
   ]
  }
 ],
 "metadata": {
  "colab": {
   "collapsed_sections": [],
   "name": "Topic 1 Python Basics.ipynb",
   "provenance": []
  },
  "kernelspec": {
   "display_name": "Python 3",
   "language": "python",
   "name": "python3"
  },
  "language_info": {
   "codemirror_mode": {
    "name": "ipython",
    "version": 3
   },
   "file_extension": ".py",
   "mimetype": "text/x-python",
   "name": "python",
   "nbconvert_exporter": "python",
   "pygments_lexer": "ipython3",
   "version": "3.8.3"
  }
 },
 "nbformat": 4,
 "nbformat_minor": 1
}
