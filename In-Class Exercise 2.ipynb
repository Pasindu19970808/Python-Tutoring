{
 "cells": [
  {
   "cell_type": "markdown",
   "metadata": {
    "colab_type": "text",
    "id": "buh8GAO7FdP_"
   },
   "source": [
    "# Exercise on Dictionaries and Control Structures\n"
   ]
  },
  {
   "cell_type": "markdown",
   "metadata": {
    "colab_type": "text",
    "id": "lLEIDcjy8D3R"
   },
   "source": [
    "## Section 1: Warm-up Questions\n",
    "\n",
    "Each multiple choice has a **SINGLE** correct answer unless explicitly stated otherwise. Put **x** inside **[ ]** to mark your choice."
   ]
  },
  {
   "cell_type": "markdown",
   "metadata": {},
   "source": [
    "**Question 1**\n",
    "\n",
    " Given \n",
    "\n",
    "```python\n",
    "a = {'first': 'third', 'second': {0: False, 1: True}, 'third': [True, False, 0], 0: {0, 1, 2}}\n",
    "```\n",
    "\n",
    "Which of the following will output `0`?\n",
    "\n",
    "\n",
    "- [ ] A. `a[0]`\n",
    "- [ ] B. `a[a['first']][2]`\n",
    "- [ ] C. `a['second'][0]`\n",
    "- [ ] D. `a[0][0]`"
   ]
  },
  {
   "cell_type": "markdown",
   "metadata": {
    "colab_type": "text",
    "id": "utLx9BcK6ojE"
   },
   "source": [
    "\n",
    "**Question 2**\n",
    "\n",
    "What's printed when `x = 0` and `y = 5`?\n",
    "\n",
    "```python\n",
    "x = float(input(\"Enter a number for x: \"))\n",
    "y = float(input(\"Enter a number for y: \"))\n",
    "if x == y:\n",
    "    if y != 0:\n",
    "        print(\"x / y is\", x/y)\n",
    "elif x < y:\n",
    "    print(\"x is smaller\")\n",
    "else:\n",
    "    print(\"y is smaller\")\n",
    "```\n",
    "\n",
    "- [ ] `x is smaller`\n",
    "- [ ] `y is smaller`\n",
    "- [ ] `x / y is 0.0`\n",
    "- [ ] `x / y is 0`\n",
    "\n"
   ]
  },
  {
   "cell_type": "markdown",
   "metadata": {
    "colab_type": "text",
    "id": "D1d_VnbS7Hkm"
   },
   "source": [
    "**Question 3**\n",
    "\n",
    "What is printed when the below code is run?\n",
    "\n",
    "```python\n",
    "sounds = {'sound1': 'meow', 'sound2': 'woof', 'sound3': 'quack'}\n",
    "\n",
    "if 'meow' in sounds: \n",
    "    print('meow1', end='\\t') \n",
    "if 'woof' in sounds.values(): \n",
    "    print('woof', end='\\t') \n",
    "elif 'meow' in sounds.values():   \n",
    "    print('meow2', end='\\t') \n",
    "else: print('quack', end='\\t')\n",
    "```\n",
    "\n",
    "- [ ] `meow1    woof    meow2`\n",
    "- [ ] `woof    meow2`\n",
    "- [ ] `woof`\n",
    "- [ ] `meow1`\n",
    "\n",
    "\n"
   ]
  },
  {
   "cell_type": "markdown",
   "metadata": {
    "colab_type": "text",
    "id": "UJ4kT4mH7A7I"
   },
   "source": [
    "**Question 4**\n",
    "\n",
    "What is printed when the below code is run?\n",
    "\n",
    "```python\n",
    "mysum = 0\n",
    "for i in range(5, 11, 2):\n",
    "    mysum += i\n",
    "    if mysum == 5:\n",
    "        break\n",
    "        mysum += 1\n",
    "print(mysum)\n",
    "```\n",
    " \n",
    "- [ ] 5\n",
    "- [ ] 6\n",
    "- [ ] 21\n",
    "- [ ] 24\n",
    "\n",
    " "
   ]
  },
  {
   "cell_type": "markdown",
   "metadata": {},
   "source": [
    "**Question 5**\n",
    "\n",
    "Suppose we have two variables defined as follows:\n",
    "\n",
    "```python\n",
    "a = {1: 'one', 2: 'two', 3: 'three'}\n",
    "b = 'python'\n",
    "```\n",
    "\n",
    "What will be the output of `list(zip(a, b))`?\n",
    "\n",
    "- [ ] An error message due to unmatched lengths\n",
    "- [ ] `[('one', 'python'), ('two', 'python'), ('three', 'python')]`\n",
    "- [ ] `[(1, 'p'), (2, 'y'), (3, 't')]`\n",
    "- [ ] `[('one', 'p'), ('two', 'y'), ('three', 't')]`\n"
   ]
  },
  {
   "cell_type": "markdown",
   "metadata": {},
   "source": [
    "**Question 6**\n",
    "\n",
    "\n",
    "Consider a nested dictionary representing gradebooks of different ISOM courses:\n",
    "\n",
    "```python\n",
    "gradebooks = {'business analytics': {'Alice': 95, 'Troy': 92}, \n",
    "              'Python programming': {'James': 89, 'Charles': 100, 'Bryn': 69, 'Alice': 100}, \n",
    "              'R programming': {'Troy': 93, 'James': 100, 'Charles': 88}}\n",
    "```\n",
    "\n",
    "- Create a dictionary with each entry representing a course and the maximum score for that course. The result should look like (the order of entries may vary with respect to the Python version you use):\n",
    "\n",
    "```python\n",
    "{'business analytics': 95, 'Python programming': 100, 'R programming': 100}\n",
    "```\n",
    "\n",
    "- Find the maximum score (i.e., 100) among all the students from all the courses \n",
    "\n",
    "\n",
    "- Use a dictionary comprehension to create a dictionary with each entry representing a course and all students receiving the maximum score for that course. The result should be\n",
    "```python\n",
    "{'business analytics': ['Alice'], 'Python programming': ['Charles', 'Alice'], 'R programming': ['James']}\n",
    "```"
   ]
  },
  {
   "cell_type": "code",
   "execution_count": 2,
   "metadata": {},
   "outputs": [],
   "source": [
    "gradebooks = {'business analytics': {'Alice': 95, 'Troy': 92}, \n",
    "              'Python programming': {'James': 89, 'Charles': 100, 'Bryn': 69, 'Alice': 100}, \n",
    "              'R programming': {'Troy': 93, 'James': 100, 'Charles': 88}}\n",
    "\n",
    "\n",
    "# Write your code below\n",
    "\n",
    "\n",
    "\n",
    "\n"
   ]
  },
  {
   "cell_type": "markdown",
   "metadata": {
    "colab_type": "text",
    "id": "SEk7SnrK7wGH"
   },
   "source": [
    "---\n",
    "\n",
    "\n",
    "\n",
    "## Section 2\n",
    "\n",
    "\n",
    "For each question below, please write the corresponding code and then run the code to show the output. "
   ]
  },
  {
   "cell_type": "markdown",
   "metadata": {
    "colab_type": "text",
    "id": "bXFCetDwFZfs"
   },
   "source": [
    "**Question 1**\n",
    "\n",
    "Given an arbitrary list of numbers, e.g., `[6, 2, 3, 4, 6, 7, 9, 0, 12, 4, 6, 3, 6, 2, 7, 89, 4]`:\n",
    "\n",
    "Use a `for` loop to calculate the mean of numbers in `x`. Built-in functions such as `len()` and `sum()` are not allowed to use.\n",
    "\n",
    "- Hint: use 2 accumulator variables, one for tallying the sum and the other for counting the number."
   ]
  },
  {
   "cell_type": "code",
   "execution_count": 1,
   "metadata": {
    "colab": {
     "base_uri": "https://localhost:8080/",
     "height": 35
    },
    "colab_type": "code",
    "executionInfo": {
     "elapsed": 609,
     "status": "ok",
     "timestamp": 1570196980975,
     "user": {
      "displayName": "Jia Jia",
      "photoUrl": "https://lh3.googleusercontent.com/a-/AAuE7mDmMGOrgBsXPA9SAmja5GwsLrWIE2dOBXsuhOBkQQ=s64",
      "userId": "00290786141877693274"
     },
     "user_tz": -480
    },
    "id": "a-y7yrWBBvMY",
    "outputId": "7e6b5244-e12a-4d18-e638-907e7771209a"
   },
   "outputs": [],
   "source": [
    "# Write your code below\n",
    "\n",
    " "
   ]
  },
  {
   "cell_type": "markdown",
   "metadata": {
    "colab_type": "text",
    "id": "AOJ0STkoF90j"
   },
   "source": [
    "**Question 2**\n",
    "\n",
    "Given an arbitrary list of numbers, e.g., `[95, 92, 89, 100, 71, 67, 59, 82, 75, 29]`:\n",
    "\n",
    "- Write code to find the largest score that is below 90 with the use of a sorting function or method;\n"
   ]
  },
  {
   "cell_type": "code",
   "execution_count": 2,
   "metadata": {
    "colab": {
     "base_uri": "https://localhost:8080/",
     "height": 35
    },
    "colab_type": "code",
    "executionInfo": {
     "elapsed": 1397,
     "status": "ok",
     "timestamp": 1570196231845,
     "user": {
      "displayName": "Jia Jia",
      "photoUrl": "https://lh3.googleusercontent.com/a-/AAuE7mDmMGOrgBsXPA9SAmja5GwsLrWIE2dOBXsuhOBkQQ=s64",
      "userId": "00290786141877693274"
     },
     "user_tz": -480
    },
    "id": "KrfQ6hO87vYs",
    "outputId": "bfddb673-19a1-4ce7-f3c2-2f9643eaecb0"
   },
   "outputs": [],
   "source": [
    "# Assume there always exist some scores that are below 90\n",
    "# so you don't have to test the reach of the bound of the sorted list if you use a while loop implementation\n",
    "\n",
    "# Write your code below\n",
    "\n",
    "\n"
   ]
  },
  {
   "cell_type": "markdown",
   "metadata": {
    "colab_type": "text",
    "id": "BAOshiR096N9"
   },
   "source": [
    "- Write code to find the largest score that is below 90 without the use of a sorting function or method.\n",
    "\n",
    "Hint: use a variable to hold the maximum among numbers having been traversed."
   ]
  },
  {
   "cell_type": "code",
   "execution_count": 3,
   "metadata": {
    "colab": {},
    "colab_type": "code",
    "id": "2ZQX8pen7iIP"
   },
   "outputs": [],
   "source": [
    "# Write your code below\n",
    "\n",
    "\n",
    "\n"
   ]
  },
  {
   "cell_type": "markdown",
   "metadata": {},
   "source": [
    "**Question 3**\n",
    "\n",
    "Assume you are creating a map for a game scene, and you plan to use a dictionary to store the coordinates of the items on the screen, for example, at coordinate (1, 3) there is a tree; at coordinate (4, 8) there is a bird, etc. Name the dictionary `dicmap`, and print `dicmap` out as follows: \n",
    "\n",
    "```python\n",
    "{(4, 8): 'Bird', (2, 2): 'Pond', (6, 2): 'Dog', (9, 3): 'Frog', (7, 1): 'Dog', (8, 4): 'Cat', (1, 3): 'Tree' }\n",
    "```\n",
    "\n",
    "- Find out what item is at coordinate (2, 2).\n",
    "- Replace the item at coordinate (8, 4) with `'Dog'`.\n",
    "- Find out how many dogs there are on the map.\n",
    "- Find out the coordinate of the 2nd `'Dog'` in the dictionary. \n",
    "\n",
    "  - hint: first use a list comprehension to select all coordinates where a dog is located.\n"
   ]
  },
  {
   "cell_type": "code",
   "execution_count": 6,
   "metadata": {},
   "outputs": [],
   "source": [
    "dicmap = {(4, 8): 'Bird', (2, 2): 'Pond', (6, 2): 'Dog', (9, 3): 'Frog', (7, 1): 'Dog', (8, 4): 'Cat', (1, 3): 'Tree' }\n",
    "\n",
    "# Write your code below\n",
    "\n",
    "\n"
   ]
  },
  {
   "cell_type": "markdown",
   "metadata": {
    "colab_type": "text",
    "id": "W4iJsabYZyDG"
   },
   "source": [
    "**Question 4**\n",
    "\n",
    "Given a sentence: \n",
    "\n",
    "```python\n",
    "s = \"python is a high-level language for general-purpose programming\"\n",
    "```\n",
    "- Use a comprehension to find the index numbers of all `'a'`s. This problem presents a common data analysis task with textual data. Hint: `enumerate()`.\n",
    "\n",
    "- Break the sentence into words using the space character as a delimiter and store the resultant list of words in a Python list. The list should look like:\n",
    "```python\n",
    "['python', 'is', 'a', 'high-level', 'language', 'for', 'general-purpose', 'programming']\n",
    "```\n",
    "- Use `enumerate()` to create a list of tuples, `idx_words`, with each tuple's 1st element tracking the index number of its word. `idx_words` should look like the following:\n",
    "```python\n",
    "[(0, 'python'), (1, 'is'), (2, 'a'), (3, 'high-level'), (4, 'language'), (5, 'for'), (6, 'general-purpose'), (7, 'programming')]\n",
    "```\n",
    "\n",
    "    \n"
   ]
  },
  {
   "cell_type": "code",
   "execution_count": 8,
   "metadata": {
    "colab": {
     "base_uri": "https://localhost:8080/",
     "height": 35
    },
    "colab_type": "code",
    "executionInfo": {
     "elapsed": 1499,
     "status": "ok",
     "timestamp": 1570786952677,
     "user": {
      "displayName": "Jia Jia",
      "photoUrl": "https://lh3.googleusercontent.com/a-/AAuE7mAozFraI3NB9HHzdxaCViZRaD0a97i1ZwAyQ0S8Ncs=s64",
      "userId": "00290786141877693274"
     },
     "user_tz": -480
    },
    "id": "L4oFr_xvbO3p",
    "outputId": "1067dd23-e981-4f89-ba8d-1a847cd68773"
   },
   "outputs": [],
   "source": [
    "# Write your code below\n",
    "\n",
    "\n",
    "\n"
   ]
  },
  {
   "cell_type": "markdown",
   "metadata": {
    "colab_type": "text",
    "id": "nT4_V6j-LjEd"
   },
   "source": [
    "**Question 5**\n",
    "\n",
    "Given\n",
    "```python\n",
    "list1 = [1, 2, 3, 4, 5] \n",
    "```\n",
    "Write either a `for` loop or `while` loop to create a new list, named `pair_list`, to include all the combinations of 2 elements from `list1`, i.e., `[[1, 2], [1, 3], [1, 4], [1, 5], [2, 3], [2, 4], [2, 5], [3, 4], [3, 5], [4, 5]]`.\n",
    " \n",
    "Once you get `pair_list`, run `print(*pair_list)`, and compare the printout with the content of `pair_list`. What do you find?\n",
    " \n",
    "Hint: use nested loops:\n",
    "\n",
    " 1. the outer loop steps through list items.\n",
    " \n",
    " 2. at each iteration of the outer loop, the inner loop iterates over the subsequence following the current item of the outer loop.\n",
    " \n",
    " 3. the major difficulty arises from constructing the sequence to be iterated over every time when the inner loop is triggered. At the 1st iteration of the outer loop, the sequence to be iterated over for the inner loop is `[2, 3, 4, 5]`; at the 2nd iteration, it is `[3, 4, 5]`; and so on.\n",
    " \n",
    " 4. if you attempt to implement the task with a for loop, think about using `enumerate()` to generate the index of the current item being processed by the outer iteration, and use it in slicing to construct the iterable used by the inner loop.\n",
    " \n",
    " 5. if you attempt to implement the task with a while loop, you need 2 counter variables, one used as the index for the outer loop and the other for the inner loop. \n"
   ]
  },
  {
   "cell_type": "code",
   "execution_count": 0,
   "metadata": {
    "colab": {},
    "colab_type": "code",
    "id": "05riXcKq2TDN"
   },
   "outputs": [],
   "source": [
    "# Write your code below\n",
    "\n",
    "\n",
    "\n"
   ]
  },
  {
   "cell_type": "markdown",
   "metadata": {},
   "source": [
    "\n",
    "---\n",
    "\n",
    "**Question 6**\n",
    "\n",
    "Assume that a firm uses a nested dictionary to maintain the information on annual sales made from various sales strategies for 2018, 2019, and 2020. \n",
    "\n",
    "```python\n",
    "sales_3_years = {'2018': {\"Radio Sales\": 5000, \"TV Sales\": 26000, \"Direct-Mail Sales\": 1000, \"Telephone Sales\": 26000},\n",
    "         '2019': {\"TV Sales\": 26000, \"Online Sales\": 37000, \"Telephone Sales\": 9000, \"Radio Sales\": 3000},\n",
    "         '2020': {\"Telephone Sales\": 8000, \"TV Sales\": 19000, \"Online Sales\": 107000}\n",
    "        }\n",
    "```\n",
    "\n",
    "\n",
    " \n",
    "\n",
    "- Write a comprehension to output the annual sales made from all sales strategies for each year. Your output should look like the following (Hint: use `sum()` on the return value of `.values()`):\n",
    "\n",
    "```\n",
    "{'2018': 58000, '2019': 75000, '2020': 134000}\n",
    "```\n",
    "\n",
    "- Write a comprehension to figure out which strategy creates the highest sales for each year. Your output should look like the following:\n",
    "\n",
    "```\n",
    "{'2018': ['TV Sales', 'Telephone Sales'], '2019': ['Online Sales'], '2020': ['Online Sales']}\n",
    "```\n",
    "\n",
    "- Write a (possibly nested) for loop to answer: How many distinct strategies have been used? What are the total sales made from them for the 3 consecutive years? Store your result in a dictionary that looks like the following (the order in which entries are listed can be different):\n",
    "\n",
    "```\n",
    "{'Radio Sales': 8000, 'TV Sales': 71000, 'Direct-Mail Sales': 1000, 'Telephone Sales': 43000, 'Online Sales': 144000}\n",
    "```\n"
   ]
  },
  {
   "cell_type": "code",
   "execution_count": 1,
   "metadata": {},
   "outputs": [],
   "source": [
    "sales_3_years = {'2018': {\"Radio Sales\": 5000, \"TV Sales\": 26000, \"Direct-Mail Sales\": 1000, \"Telephone Sales\": 26000},\n",
    "         '2019': {\"TV Sales\": 26000, \"Online Sales\": 37000, \"Telephone Sales\": 9000, \"Radio Sales\": 3000},\n",
    "         '2020': {\"Telephone Sales\": 8000, \"TV Sales\": 19000, \"Online Sales\": 107000}\n",
    "        }\n",
    "\n",
    "\n",
    "# Write your code below\n",
    "\n",
    "\n",
    "\n",
    "\n"
   ]
  }
 ],
 "metadata": {
  "colab": {
   "collapsed_sections": [],
   "machine_shape": "hm",
   "name": "3 Solutions to Control Structures Exercise.ipynb",
   "provenance": []
  },
  "kernelspec": {
   "display_name": "Python 3",
   "language": "python",
   "name": "python3"
  },
  "language_info": {
   "codemirror_mode": {
    "name": "ipython",
    "version": 3
   },
   "file_extension": ".py",
   "mimetype": "text/x-python",
   "name": "python",
   "nbconvert_exporter": "python",
   "pygments_lexer": "ipython3",
   "version": "3.8.3"
  }
 },
 "nbformat": 4,
 "nbformat_minor": 1
}
