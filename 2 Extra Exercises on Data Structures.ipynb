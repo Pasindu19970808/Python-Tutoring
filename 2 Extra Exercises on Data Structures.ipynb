{
 "cells": [
  {
   "cell_type": "markdown",
   "metadata": {
    "colab_type": "text",
    "id": "5EbjHlte3uJV"
   },
   "source": [
    "## Extra Exercies on Data Structures\n",
    "\n",
    "For each question below, please write the corresponding code, and then run the code to show the output."
   ]
  },
  {
   "cell_type": "markdown",
   "metadata": {},
   "source": [
    "1) Between (1) and 1, which is a valid tuple display to create a tuple of element 1?"
   ]
  },
  {
   "cell_type": "markdown",
   "metadata": {
    "colab_type": "text",
    "id": "3MDTAvBErzw7"
   },
   "source": [
    "2) Run the following code snippet and briefly explain why the value of `course_tuple` changes?\n",
    "\n",
    "```python\n",
    "a = ['python']\n",
    "course_tuple = (a, ['business', 'analytics'])\n",
    "a[:] = ['programming']\n",
    "course_tuple\n",
    "```\n"
   ]
  },
  {
   "cell_type": "markdown",
   "metadata": {
    "colab_type": "text",
    "id": "c7CdCSfWhu16"
   },
   "source": [
    "3) Create a tuple `tp` with two lists inside: `[1, 2, 3], [4, 5, 6]`. Write code to extract element 5 out of the tuple. "
   ]
  },
  {
   "cell_type": "markdown",
   "metadata": {
    "colab_type": "text",
    "id": "oEPhcl5Wh220"
   },
   "source": [
    "4) Try to replace 5 with 6. Print the updated tuple `tp`. "
   ]
  },
  {
   "cell_type": "markdown",
   "metadata": {
    "colab_type": "text",
    "id": "OjwUnGGmiB3l"
   },
   "source": [
    "5) Create a list `ls` with two tuples inside: `(1, 2, 3), (4, 5, 6)`. Write code to extract element 5 out of the list. Then try to replace 5 with 6. What results do you get? Briefly explain the result."
   ]
  },
  {
   "cell_type": "markdown",
   "metadata": {
    "colab_type": "text",
    "id": "HMMmFTY0iXtU"
   },
   "source": [
    "6) Given a sentence: `\"Python is a high-level language for general-purpose programming\"`, create a tuple `tp2` and a list `ls2` with each character in the sentence as an element. \n",
    "\n",
    "Print `tp2` and `ls2`. The output should look like: \n",
    "\n",
    "```python\n",
    "('P', 'y', 't', 'h', 'o', 'n', ' ', 'i', 's', ' ', 'a', ' ', 'h', 'i', 'g', 'h', '-', 'l', 'e', 'v', 'e', 'l', ' ', 'l', 'a', 'n', 'g', 'u', 'a', 'g', 'e', ' ', 'f', 'o', 'r', ' ', 'g', 'e', 'n', 'e', 'r', 'a', 'l', '-', 'p', 'u', 'r', 'p', 'o', 's', 'e', ' ', 'p', 'r', 'o', 'g', 'r', 'a', 'm', 'm', 'i', 'n', 'g')\n",
    "```\n",
    "```python\n",
    "['P', 'y', 't', 'h', 'o', 'n', ' ', 'i', 's', ' ', 'a', ' ', 'h', 'i', 'g', 'h', '-', 'l', 'e', 'v', 'e', 'l', ' ', 'l', 'a', 'n', 'g', 'u', 'a', 'g', 'e', ' ', 'f', 'o', 'r', ' ', 'g', 'e', 'n', 'e', 'r', 'a', 'l', '-', 'p', 'u', 'r', 'p', 'o', 's', 'e', ' ', 'p', 'r', 'o', 'g', 'r', 'a', 'm', 'm', 'i', 'n', 'g']\n",
    "```\n",
    "Also print the length of `tp2` and `ls2`, which shall be 63 for each."
   ]
  },
  {
   "cell_type": "markdown",
   "metadata": {
    "colab_type": "text",
    "id": "crrAZR58kXL-"
   },
   "source": [
    "7) How many hyphens are there in `tp2`? The answer should be 2."
   ]
  },
  {
   "cell_type": "markdown",
   "metadata": {
    "colab_type": "text",
    "id": "xAQURNQHlAAI"
   },
   "source": [
    "8) How many spaces (i.e., `' '`) are there in `ls2`? The answer should be 7."
   ]
  },
  {
   "cell_type": "markdown",
   "metadata": {},
   "source": [
    "9) Can you find the index for the 2nd `'a'` in `tp2`? The answer is 24."
   ]
  },
  {
   "cell_type": "markdown",
   "metadata": {
    "colab_type": "text",
    "id": "JwELf23albe6"
   },
   "source": [
    "10) Use a list comprehension to find out how many elements in `ls2` are greater than `\"A\"`? The answer should be 54."
   ]
  },
  {
   "cell_type": "markdown",
   "metadata": {
    "colab_type": "text",
    "id": "v4hbkFCHmUAl"
   },
   "source": [
    "11) Create a new string with all spaces and hypens being removed from `\"Python is a high-level language for general-purpose programming\"`. \n",
    "\n",
    "The result should look like\n",
    "``` python\n",
    "'Pythonisahighlevellanguageforgeneralpurposeprogramming'\n",
    "```\n",
    "\n",
    "(hint: use a list comprehension to create a new list with these two characters eliminated and pass the new list to the `join()` method. See `help(''.join)`)"
   ]
  },
  {
   "cell_type": "markdown",
   "metadata": {
    "colab_type": "text",
    "id": "aCh4wQBm3uJe"
   },
   "source": [
    "12) Use a list comprehension to create a new list called `slist` that contains the square of all even numbers in `[0, 1, 2, 3, 4, 5, 6, 7, 8, 9, 10]`. "
   ]
  },
  {
   "cell_type": "markdown",
   "metadata": {
    "colab_type": "text",
    "id": "CHpTuXzQ3uJo"
   },
   "source": [
    "13) Use a list comprehenstion to show only elements in `slist` that contains number 4. The result should be `[4, 64]`"
   ]
  },
  {
   "cell_type": "markdown",
   "metadata": {
    "colab_type": "text",
    "id": "u_mUfdXb3uJs"
   },
   "source": [
    "14) Find out how many elements in `slist` are divisable by 8. The result should be `3`"
   ]
  },
  {
   "cell_type": "markdown",
   "metadata": {
    "colab_type": "text",
    "id": "CDJaiGnE3uJw"
   },
   "source": [
    "15) Create a string `st_sports` that looks like this: \n",
    "\n",
    "```python\n",
    "'soccer tennis badminton swimming'\n",
    "```\n",
    "Then create a list `ls_sports` from `st_sports` with each sport as an element in the list.\n",
    "\n",
    "Print `ls_sports`. The result should look like: \n",
    "\n",
    "```python\n",
    "['soccer', 'tennis', 'badminton', 'swimming']\n",
    "```\n",
    "\n",
    "(hint: `help(str.split)`)"
   ]
  },
  {
   "cell_type": "markdown",
   "metadata": {
    "colab_type": "text",
    "id": "vfRB2RSI3uJz"
   },
   "source": [
    "16) Based on `ls_sports`, create a new nested list `sports` that looks like the following:\n",
    "\n",
    "```python\n",
    "[[1, 2, 3, 4], ['soccer', 'tennis', 'badminton', 'swimming']]\n",
    "```"
   ]
  },
  {
   "cell_type": "markdown",
   "metadata": {
    "colab_type": "text",
    "id": "ZQuWwK6E3uJ5"
   },
   "source": [
    "17) Create a new nested list called `sports_rev` by switching the order the two sublists in `sports`, and then sorting each sublist in descending order. \n",
    "\n",
    "Print `sports_rev` and the result should be: \n",
    "\n",
    "```python\n",
    "[['tennis', 'swimming', 'soccer', 'badminton'], [4, 3, 2, 1]]\n",
    "```\n"
   ]
  },
  {
   "cell_type": "markdown",
   "metadata": {
    "colab_type": "text",
    "id": "tZ22pHyG3uJ8"
   },
   "source": [
    "18) Use the `remove()` method to remove `4` and `'swimming'` from `sports`, then print the updated `sports` list, which should look like: \n",
    "\n",
    "```python\n",
    "[[1, 2, 3], ['soccer', 'tennis', 'badminton']]\n",
    "```"
   ]
  },
  {
   "cell_type": "markdown",
   "metadata": {
    "colab_type": "text",
    "id": "kGJrN2hj3uJ_"
   },
   "source": [
    "19) Can you add number 4 and 'swimming' back to sports by using the `extend()` method? Print `sports` to confirm. "
   ]
  },
  {
   "cell_type": "markdown",
   "metadata": {
    "colab_type": "text",
    "id": "sE0NTfnY3uKC"
   },
   "source": [
    "20) Create `lista` that contains `['1', '3', '5']`. Print the sum of the numeric values of the elements, which should be 9. "
   ]
  },
  {
   "cell_type": "markdown",
   "metadata": {
    "colab_type": "text",
    "id": "b6NE5wJj3uKF"
   },
   "source": [
    "21) Create `listb` that contains `['2', '4', '6']`. Concatenate `lista` and `listb`, which should look like \n",
    "\n",
    "`['1', '3', '5', '2', '4', '6']`"
   ]
  },
  {
   "cell_type": "markdown",
   "metadata": {
    "colab_type": "text",
    "id": "BKZIfHwB3uKN"
   },
   "source": [
    "22) Redefine lista as `['1', '2', '3', '4', '5', '6']`. Add a sublist `['7', '8', '9']` to `lista`, so it becomes `['1', '2', '3', '4', '5', '6', ['7','8','9']]`. And then pop the sublist out and assign it to `listc`. Print `lista` and `listc`. "
   ]
  },
  {
   "cell_type": "markdown",
   "metadata": {
    "colab_type": "text",
    "id": "6CSvRhIN3uKS"
   },
   "source": [
    "23) Combine `lista` and `listc` and print them in reverse order such that it looks like: \n",
    "\n",
    "```python\n",
    "['9', '8', '7', '6', '5', '4', '3', '2', '1']\n",
    "```"
   ]
  },
  {
   "cell_type": "markdown",
   "metadata": {
    "colab_type": "text",
    "id": "HdBA3ntr3uKd"
   },
   "source": [
    "24) Define a list `xtree` as\n",
    "```python\n",
    "['*****', '***', '*******', '*********', '*']\n",
    "```\n",
    "Try to use it to print a christmas tree as below:\n",
    "\n",
    "         *          \n",
    "        ***         \n",
    "       *****        \n",
    "      *******       \n",
    "     *********  \n",
    "\n",
    "Steps: \n",
    "\n",
    "1. sort `xtree` from one star to nine stars; \n",
    "\n",
    "2. use a list comprehension to regenerate a list with added spaces around each element and center the element to the middle of 20 characters each. Hint: \n",
    " - `help(''.center)` or\n",
    " - use the new-style string formatting. The format specifier to use is `{: ^20}`.\n",
    " \n",
    "\n",
    "3. use print function to print the result of 3, and in fact step 3 and 4 shall be done in one step. \n",
    "\n",
    "\n",
    "     \n",
    "Additional information on how to print a list without square brackets, commas, and print each list item on a new line. Try the following three print functions, and you will see the difference. Select the appropriate one for your Christmas tree. \n",
    "\n",
    "```python\n",
    "print([1, 2, 3])\n",
    "print(*[1, 2, 3])\n",
    "print(*[1, 2, 3], sep=\"\\n\")\n",
    "```"
   ]
  },
  {
   "cell_type": "markdown",
   "metadata": {
    "colab_type": "text",
    "id": "R4ZPflQkogxf"
   },
   "source": [
    "25) Create two sets `seta` and `setb` from `[1, 2, 4, 'a', 'b', 4, 1]` and `[2, 4, 2, 3, 'b', 'c']`."
   ]
  },
  {
   "cell_type": "markdown",
   "metadata": {
    "colab_type": "text",
    "id": "1A-Qcss6qRuq"
   },
   "source": [
    "26) Create a dictionary `course` based on the following list with all duplicates being removed:\n",
    "\n",
    "```python\n",
    "[('ISOM3210', 'Information Systems Analysis and Design'), \n",
    " ('ISOM3210', 'Information Systems Analysis and Design'), \n",
    " ('ISOM3210', 'Information Systems Analysis and Design'), \n",
    " ('ISOM3230', 'Business Applications Programming'), \n",
    " ('ISOM3260', 'Database Design and Administration'), \n",
    " ('ISOM3260', 'Database Design and Administration'), \n",
    " ('ISOM3320', 'Internet Applications Development'), \n",
    " ('ISOM3320', 'Internet Applications Development'), \n",
    " ('ISOM3360', 'Data Mining for Business Analytics'),\n",
    " ('ISOM3370', 'Big Data Technologies'), \n",
    " ('ISOM3390', 'R for Business Programming'),\n",
    " ('ISOM3400', 'Python Programming for Business Analytics')]\n",
    "```"
   ]
  },
  {
   "cell_type": "markdown",
   "metadata": {
    "colab_type": "text",
    "id": "Q0-OvJMAwaCZ"
   },
   "source": [
    "27) Based on `course`, create a dictionary `prog_course` with all courses whose title contains `'Programming'`. Printing `prog_course` should return: \n",
    "\n",
    "```python\n",
    "{'ISOM3230': 'Business Applications Programming',\n",
    " 'ISOM3390': 'R for Business Programming',\n",
    " 'ISOM3400': 'Python Programming for Business Analytics'}\n",
    "```"
   ]
  },
  {
   "cell_type": "markdown",
   "metadata": {
    "colab_type": "text",
    "id": "G8TNOL8_yLYw"
   },
   "source": [
    "28) Present the content of `prog_course` as follows:\n",
    "\n",
    "```\n",
    "-----------------------------------------------------------------\n",
    "|  ISOM3230  |  Business Applications Programming               |\n",
    "-----------------------------------------------------------------\n",
    "|  ISOM3390  |  R for Business Programming                      |\n",
    "-----------------------------------------------------------------\n",
    "|  ISOM3400  |  Python Programming for Business Analytics       |\n",
    "-----------------------------------------------------------------\n",
    "```\n",
    "\n",
    "Hint: Use the following string in a comprehension\n",
    "\n",
    "```python\n",
    "'|  {:<10}|  {:<48}|'.format(code, title) + '\\n'  + '-' * 65\n",
    "```\n"
   ]
  },
  {
   "cell_type": "code",
   "execution_count": null,
   "metadata": {},
   "outputs": [],
   "source": []
  }
 ],
 "metadata": {
  "colab": {
   "collapsed_sections": [],
   "name": "Extra Exercises on Data Structures.ipynb",
   "provenance": []
  },
  "kernelspec": {
   "display_name": "Python 3",
   "language": "python",
   "name": "python3"
  },
  "language_info": {
   "codemirror_mode": {
    "name": "ipython",
    "version": 3
   },
   "file_extension": ".py",
   "mimetype": "text/x-python",
   "name": "python",
   "nbconvert_exporter": "python",
   "pygments_lexer": "ipython3",
   "version": "3.8.3"
  }
 },
 "nbformat": 4,
 "nbformat_minor": 1
}
