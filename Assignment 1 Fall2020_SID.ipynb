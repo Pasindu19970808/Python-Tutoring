{
 "cells": [
  {
   "cell_type": "markdown",
   "metadata": {
    "id": "Vq4oHro1mb7r"
   },
   "source": [
    "# Assignment 1 (100 pts)\n",
    "\n",
    "## Due Date & Time: 6-Nov-2020 (09:00 HKT)\n",
    "\n",
    "\n",
    "\n",
    "If you find some of the questions difficult, please try this: write up your logic of how to get the desired results step by step in natural language, be as detailed as you can, and then express your logic with Python code.\n",
    "\n",
    "- [ ] *Honor Pledge: I certify that this assignment is my own work, based on my personal study and/or research, and that I have not copied in part or whole or otherwise plagiarised the work of other students and/or persons.*"
   ]
  },
  {
   "cell_type": "markdown",
   "metadata": {},
   "source": [
    "##  Question 1. Finding Prime Numbers  (10 pts)\n",
    "\n",
    "*Prime number* is a natural number greater than 1 that cannot be formed by multiplying two smaller natural numbers. i.e. the factors of a prime number $p$ are 1 and $p$ itself. To check whether a number $n$ is a prime number, you may use the following Python code:\n",
    "\n",
    "```python\n",
    "n % m != 0\n",
    "```\n",
    "where $1 < m < n$.\n",
    "\n",
    "If `n % m != 0` is `True` for all numbers `m`, then `n` is a prime number.\n",
    "\n",
    "Define a variable `number` that holds an inital integer (e.g., `number = 24`). Write a (nested) loop that finds the first prime number greater than this initial integer.\n",
    "\n",
    "<font color='red'>*Hint: the upper bound of the search set is unknown so that we cannot define an iterable for a `for` loop.* </font>\n"
   ]
  },
  {
   "cell_type": "code",
   "execution_count": null,
   "metadata": {},
   "outputs": [],
   "source": [
    "# write your code below\n",
    "\n",
    "\n"
   ]
  },
  {
   "cell_type": "markdown",
   "metadata": {
    "id": "ckmVTinE4TSf"
   },
   "source": [
    "---\n",
    "\n",
    "## Question 2. A `while` Loop Implementation of `divmod()`  (15 pts)\n",
    "\n",
    "Many programming languages implement a function called `divmod()` (short for division and modulo), which returns both the quotient and the remainder when dividing two **positive** numbers using floor division.\n",
    "\n",
    "The relationship among the 4 numbers can be described by the following formula:\n",
    "\n",
    "\\begin{align}\n",
    "dividend & = quotient \\times divisor + remainder\n",
    "\\end{align}\n",
    "\n",
    "Write a custom function `divmod` which expects two arguments used as the dividend and divisor.\n",
    "The computation carried out by the function body needs to be implemented with a `while` loop. It returns the corresponding quotient and remainder without using `/`, `*`, `//`, `%`, and `divmod()`.\n",
    "\n",
    "<font color='red'>*Hint:*</font>\n",
    "    \n",
    "- <font color='red'>*1. Division is repeated subtraction of equal numbers.*</font>\n",
    "\n",
    "- <font color='red'>*2. You only need to consider the case where both numbers are positive.*</font>"
   ]
  },
  {
   "cell_type": "code",
   "execution_count": 1,
   "metadata": {
    "colab": {
     "base_uri": "https://localhost:8080/",
     "height": 69
    },
    "id": "HLx3tPDERxCV",
    "outputId": "9b5be7e3-d390-462c-bddb-4f331dc6590e"
   },
   "outputs": [],
   "source": [
    "# write your code below\n",
    "\n",
    "\n",
    "\n"
   ]
  },
  {
   "cell_type": "markdown",
   "metadata": {
    "id": "WYzwGndb4uzN"
   },
   "source": [
    "---\n",
    "\n",
    "## Question 3. Matrix Construction (20 pts)\n",
    "\n",
    "\n",
    "In mathematics, a matrix is a 2-dimensional (tabular) array of numbers or symbols arranged in rows and columns. The following is the notation of a 3 by 2 matrix (3 rows and 2 columns) containing the numbers from 1 to 6:\n",
    "\n",
    "\\begin{align}\n",
    "\\\\\n",
    "matrixA & =\n",
    " \\begin{pmatrix}\n",
    "  1 & 2  \\\\\n",
    "  3 & 4  \\\\\n",
    "  5 & 6 \\\\\n",
    " \\end{pmatrix}\n",
    "\\end{align}\n",
    "\n",
    "In Python, we can represent this 2-dimensional array with the nested list\n",
    "\n",
    "```python\n",
    "matrixA = [[1, 2], [3, 4], [5, 6]]\n",
    "```\n",
    "where the number of first-level elements represent the number of rows and the number of second-level elements represent the number of columns.\n",
    "\n",
    " \n",
    "1. Write a function `create_matrix` that takes a sequence of integers and two additional numbers that specify the shape of the matrix (i.e., the number of rows and columns, respectively) to create a nested list representing the matrix filled by these integers row-wise.\n",
    "  \n",
    "  For example, calling `create_matrix(*range(4, 19), rows=3, cols=5)` returns a nested list representing the following 3 (rows) by 5 (columns) matrix:\n",
    "\\begin{align}\n",
    "\\\\\n",
    " \\begin{pmatrix}\n",
    "  4 & 5 & 6 & 7 & 8 \\\\\n",
    "  9 & 10 & 11 & 12 & 13  \\\\\n",
    "  14 & 15 & 16 & 17 & 18 \\\\\n",
    " \\end{pmatrix}\n",
    "\\end{align}    \n",
    "  If the number of integers is larger than $m × n$, ignore the excess items. For example, calling  `create_matrix(*range(4, 19), rows=3, cols=2)` creates the following matrix:\n",
    "\\begin{align}\n",
    "\\\\\n",
    "\\begin{pmatrix}\n",
    "4 & 5  \\\\\n",
    "6 & 7   \\\\\n",
    "8&  9\\\\\n",
    "\\end{pmatrix}\n",
    "\\end{align}    \n",
    "  On the contrary, use `0`s to fill in the empty cells. For example,\n",
    "calling `create_matrix(2, 3, 14, 15, rows=3, cols=2)` creates the following matrix:\n",
    "\\begin{align}\n",
    "\\\\\n",
    "\\begin{pmatrix}\n",
    "2 & 3   \\\\\n",
    "14 & 15    \\\\\n",
    "0 & 0 \n",
    "\\end{pmatrix}\n",
    "\\end{align}   \n",
    "<font color='red'>*Hint: You may refer to Question 2.4 of the 3rd in-class exercise for an idea of writing the needed loop.*</font>"
   ]
  },
  {
   "cell_type": "code",
   "execution_count": 2,
   "metadata": {
    "colab": {
     "base_uri": "https://localhost:8080/",
     "height": 69
    },
    "id": "iW6yZpWhRQKA",
    "outputId": "569c9f31-d911-49fa-c52e-c9e6a94ef5fd"
   },
   "outputs": [],
   "source": [
    "# write your code below\n",
    "\n",
    "\n",
    "\n",
    "\n"
   ]
  },
  {
   "cell_type": "markdown",
   "metadata": {
    "id": "bAGu3y4u41TM"
   },
   "source": [
    "2. Assign a name `matrixB` to the output of calling `create_matrix(*range(4, 19), rows=3, cols=5)`. Use a list comprehension (in a single line) with `zip()` to calculate the column means of `matrixB`. The expected result is:\n",
    "`[9.0, 10.0, 11.0, 12.0, 13.0]`.\n",
    "\n",
    "<br><font color='red'>*Hint: use `zip()` toghter with ` * ` to pack elements along individual columns.*</font>\n"
   ]
  },
  {
   "cell_type": "code",
   "execution_count": 3,
   "metadata": {
    "id": "TJhZE1LyTYFL"
   },
   "outputs": [],
   "source": [
    "# write your code (a single line) below\n",
    "\n",
    "\n",
    "\n"
   ]
  },
  {
   "cell_type": "markdown",
   "metadata": {
    "id": "v_qVT604owXX"
   },
   "source": [
    "---\n",
    "\n",
    "\n",
    "## Question 4. Data Assignment (10 pts)\n",
    "\n",
    "This problem presents a common data analysis task that assigns data into differet groups based on the grouping defined by a list of integers. \n",
    "\n",
    "Suppose we have a list of students:\n",
    "\n",
    "```python\n",
    "students = ['Tom', 'Kitty', 'Jessie', 'Chester', 'Curie', 'Darwing', 'Nancy', 'Sue', 'Peter', 'Andrew', 'Karren', 'Charles', 'Nikhil', 'Justin', 'Astha']\n",
    "```\n",
    "\n",
    "We are going to assign them into 3 groups. The group identity of each student is specified by the integer at the same index position in a list named `assignment`:\n",
    "\n",
    "```python\n",
    "assignment = [2, 3, 3, 1, 3, 2, 3, 1, 1, 1, 2, 1, 3, 2, 2]\n",
    "```\n",
    "\n",
    "This list represents a grouping rule that assigns `'Tom'` to group 2, `'Kitty'` to group 3, `'Jessie'` to group 3, and so on.\n",
    "\n",
    "Write a comprehension (in a single line) to produce a dictionary whose values are each a list that contains all students assigned to the corresponding group.\n",
    "\n",
    "The expected output is \n",
    "\n",
    "```python \n",
    "{'Group 1': ['Chester', 'Sue', 'Peter', 'Andrew', 'Charles'],\n",
    " 'Group 2': ['Tom', 'Darwing', 'Karren', 'Justin', 'Astha'],\n",
    " 'Group 3': ['Kitty', 'Jessie', 'Curie', 'Nancy', 'Nikhil']}\n",
    "```\n",
    "<font color='red'>*Hint:*</font>\n",
    "- <font color='red'>*`zip()` can help us pair up elements at the same index positions from the two lists.*</font>\n",
    "\n",
    "- <font color='red'>*Each value is an output of a list comprehension with filtering (so the `if` part is needed). The filtering only keeps the students assigned to the current group (e.g., `Group 1`).*</font>\n",
    "\n",
    "- <font color='red'>*The keys, i.e., `'Group 1'`, `'Group 2'`, and `'Group 3'`, can be composed by string formatting with the group identity incrementally increasing across iterations.*</font>\n",
    "\n",
    "\n"
   ]
  },
  {
   "cell_type": "code",
   "execution_count": null,
   "metadata": {
    "id": "goIkxwkit2Dd"
   },
   "outputs": [],
   "source": [
    "students = ['Tom', 'Kitty', 'Jessie', 'Chester', 'Curie', 'Darwing', 'Nancy', \n",
    "            'Sue', 'Peter', 'Andrew', 'Karren',  'Charles', 'Nikhil', 'Justin', 'Astha']\n",
    "assignment = [2, 3, 3, 1, 3, 2, 3, 1, 1, 1, 2, 1, 3, 2, 2]\n",
    "\n",
    "# write your code (a single line) below\n",
    "\n",
    "\n"
   ]
  },
  {
   "cell_type": "markdown",
   "metadata": {
    "id": "e3D5qxoFoQIP"
   },
   "source": [
    "---\n",
    "\n",
    "## Question 5. Sorting Nested Data (15 pts)\n",
    "\n",
    "\n",
    "Suppose we use a Python dictionary to store gradebooks of multiple courses.\n",
    "\n",
    "```python\n",
    "\n",
    "gradebooks = {'Course 1': [['Troy', 92], ['Alice', 95]], \n",
    "              'Course 2': [['James', 89], ['Charles', 100], ['Bryn', 59]],\n",
    "              'Course 3': [['Jack', 74], ['Karren', 97], ['Astha', 92], ['Nancy', 96]]}\n",
    "```              \n",
    "Use the builtin `sorted` function with appropriate programming constructs (e.g., `lambda`s, comprehensions, etc.) to complete the following tasks:\n",
    "\n",
    "- Write a single line of code to create a new list named `gradebooks_a`, with students of each course being sorted by score in descending order. The expected result is:\n",
    "```python\n",
    "[[['Alice', 95], ['Troy', 92]],\n",
    "   [['Charles', 100], ['James', 89], ['Bryn', 59]],\n",
    "   [['Karren', 97], ['Nancy', 96], ['Astha', 92], ['Jack', 74]]]\n",
    "```\n",
    "<font color=\"red\">*Hint: You may refer to Question 1.3 of the 3rd in-class exercise for an idea of sorting nested data.*</font>"
   ]
  },
  {
   "cell_type": "code",
   "execution_count": 4,
   "metadata": {
    "colab": {
     "base_uri": "https://localhost:8080/",
     "height": 69
    },
    "id": "Afbhi3sYoRkk",
    "outputId": "d11204fe-b757-4b66-b513-d46ecfd42ca4"
   },
   "outputs": [],
   "source": [
    "gradebooks = {'Course 1': [['Troy', 92], ['Alice', 95]], \n",
    "              'Course 2': [['James', 89], ['Charles', 100], ['Bryn', 59]],\n",
    "              'Course 3': [['Jack', 74], ['Karren', 97], ['Astha', 92], ['Nancy', 96]]}\n",
    "\n",
    "# write your code (a single line) below\n",
    "\n",
    "\n",
    "\n"
   ]
  },
  {
   "cell_type": "markdown",
   "metadata": {
    "id": "wY84YRMrTm1L"
   },
   "source": [
    "- Based on `gradebooks_a`, write a single line of code to create a list named `gradebooks_b`, with courses being sorted by number of scores above 90. The expected result is:\n",
    "```python\n",
    "[[['Charles', 100], ['James', 89], ['Bryn', 59]],                # only 1 score above 90\n",
    "   [['Alice', 95], ['Troy', 92]],                                  # 2 scores above 90\n",
    "   [['Karren', 97], ['Nancy', 96], ['Astha', 92], ['Jack', 74]]]   # 3 score above 90\n",
    "``` \n",
    "<font color=\"red\">*Hint: You may refer to Question 1.3 of the 3rd in-class exercise for an idea of sorting nested data.*</font>"
   ]
  },
  {
   "cell_type": "code",
   "execution_count": 5,
   "metadata": {
    "id": "brFM_EAUToVQ"
   },
   "outputs": [],
   "source": [
    "# write your code (a single line) below\n",
    "\n"
   ]
  },
  {
   "cell_type": "markdown",
   "metadata": {
    "id": "EuVWs-NWJw41"
   },
   "source": [
    "\n",
    "---\n",
    "\n",
    "## Question 6. Word Prediction (30 pts)\n",
    "\n",
    "Tablets and smartphones rely on a virtual keyboard. But typing on a virtual keyboard is much slower than a physical keyboard and error prone. The solution is to suggest options for the next word as you type text and allow for the insertion of the next word into the text stream by tapping a suggested word. \n",
    "\n",
    "A simple implementation of the word suggestion feature relies on creating a data structure that stores information about what words are likely to follow a given word. This data structure is typically created by processing a collection of text documents (a.k.a. a corpus).\n",
    "\n",
    "Suppose the corpus we are using is a tiny one consisting of the following string:\n",
    "\n",
    "```python\n",
    "wordstring = 'it was the best of times it was the worst of times it was the age of wisdom it was the age of foolishness'\n",
    "```\n",
    "\n",
    "- Implement a function `get_pair_freq` that computes the frequencies of pairs of consecutive words in a given string (e.g., `wordstring` is taken as the argument). The output of calling `get_pair_freq(wordstring)` should be a dictionary where keys are pairs of words and values are the number of occurrences of each pair. The expected output is:\n",
    "```python\n",
    "{('it', 'was'): 4, ('was', 'the'): 4, ('the', 'best'): 1, ('best', 'of'): 1, ('of', 'times'): 2, ('times', 'it'): 2, ('the', 'worst'): 1, ('worst', 'of'): 1, ('the', 'age'): 2, ('age', 'of'): 2, ('of', 'wisdom'): 1, ('wisdom', 'it'): 1, ('of', 'foolishness'): 1}\n",
    "```\n",
    "<font color='red'>*Hint: Recall the use of the `split` method of a string object and the way of dictionary updates.*</font>\n"
   ]
  },
  {
   "cell_type": "code",
   "execution_count": 6,
   "metadata": {
    "colab": {
     "base_uri": "https://localhost:8080/",
     "height": 55
    },
    "id": "YnPOkTURmzOw",
    "outputId": "a0610aa2-e8cb-45d4-daa7-0e9d6aa93832"
   },
   "outputs": [],
   "source": [
    "wordstring = 'it was the best of times it was the worst of times \\\n",
    "it was the age of wisdom it was the age of foolishness'\n",
    "\n",
    "# write your code below\n",
    "\n",
    "\n",
    "\n",
    "\n"
   ]
  },
  {
   "cell_type": "markdown",
   "metadata": {
    "id": "Ua91RTEjUF2m"
   },
   "source": [
    "\n",
    "- Process the dictionary above to output a new dictionary that stores information about what words are likely to follow each preceding word. The expected output is \n",
    "```python\n",
    "{'it': [('was', 4)], 'was': [('the', 4)], 'the': [('best', 1), ('worst', 1), ('age', 2)], 'best': [('of', 1)], 'of': [('times', 2), ('wisdom', 1), ('foolishness', 1)], 'times': [('it', 2)], 'worst': [('of', 1)], 'age': [('of', 2)], 'wisdom': [('it', 1)]}\n",
    "```\n",
    "where the values are each a list of tuples representing how often a word follows the given key.\n",
    "<br><font color='red'>*Hint: You can update dictionary entries in much the same way as you did for the question above. But now the values are lists themselves, requiring the use of some list method to update them.*</font>\n"
   ]
  },
  {
   "cell_type": "code",
   "execution_count": 7,
   "metadata": {
    "colab": {
     "base_uri": "https://localhost:8080/",
     "height": 55
    },
    "id": "xrsFhZ9pUKri",
    "outputId": "45174742-850f-49c8-fa3d-885a760d93e8"
   },
   "outputs": [],
   "source": [
    "# write your code below\n",
    "\n",
    "\n",
    "\n"
   ]
  },
  {
   "cell_type": "markdown",
   "metadata": {
    "id": "OsfRmKw4UJUG"
   },
   "source": [
    "- Sort the successive word(s) in each value by frequency (the 2nd element of innermost tuples) in a dictionary comprehension (a single line) so that for a given word input from the virtual keyboard, we can quickly generate a list of suggested words in descending order by frequency using dictionary indexing. The expected output is \n",
    "```python\n",
    "{'it': ['was'], 'was': ['the'], 'the': ['age', 'best', 'worst'], 'best': ['of'], 'of': ['times', 'wisdom', 'foolishness'], 'times': ['it'], 'worst': ['of'], 'age': ['of'], 'wisdom': ['it']}\n",
    "```\n",
    "<font color=\"red\">*Hint:\n",
    "Each value is an output of a list comprehension, which processes a sorted list of (word, frequency) tuples.*</font>"
   ]
  },
  {
   "cell_type": "code",
   "execution_count": 8,
   "metadata": {
    "id": "ka2HsHrsULmV"
   },
   "outputs": [],
   "source": [
    "# write your code (a single line) below\n",
    "\n",
    "\n"
   ]
  }
 ],
 "metadata": {
  "colab": {
   "collapsed_sections": [],
   "name": "solution assignment 1 Fall2019.ipynb",
   "provenance": []
  },
  "kernelspec": {
   "display_name": "Python 3",
   "language": "python",
   "name": "python3"
  },
  "language_info": {
   "codemirror_mode": {
    "name": "ipython",
    "version": 3
   },
   "file_extension": ".py",
   "mimetype": "text/x-python",
   "name": "python",
   "nbconvert_exporter": "python",
   "pygments_lexer": "ipython3",
   "version": "3.8.3"
  }
 },
 "nbformat": 4,
 "nbformat_minor": 1
}
