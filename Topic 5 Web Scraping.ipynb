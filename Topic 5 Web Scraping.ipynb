{
 "cells": [
  {
   "cell_type": "markdown",
   "metadata": {},
   "source": [
    "# Trump's Lies"
   ]
  },
  {
   "cell_type": "code",
   "execution_count": 19,
   "metadata": {
    "scrolled": false
   },
   "outputs": [
    {
     "data": {
      "text/html": [
       "<center><iframe src=\"https://www.nytimes.com/interactive/2017/06/23/opinion/trumps-lies.html\" width=\"960\" height=\"400\">\n",
       "</iframe> </center>\n"
      ],
      "text/plain": [
       "<IPython.core.display.HTML object>"
      ]
     },
     "metadata": {},
     "output_type": "display_data"
    }
   ],
   "source": [
    "%%html\n",
    "<center><iframe src=\"https://www.nytimes.com/interactive/2017/06/23/opinion/trumps-lies.html\" width=\"960\" height=\"400\">\n",
    "</iframe> </center>"
   ]
  },
  {
   "cell_type": "markdown",
   "metadata": {},
   "source": [
    "\n",
    "---\n",
    "\n",
    "\n",
    "# Web Scraping\n",
    "\n",
    "\n",
    "Using the Python programming language, it is possible to \"scrape\" data from the web in a quick and efficient manner.\n",
    "\n",
    "**Web Scraping** commonly refers to the practice of writing an automated program\n",
    "that queries a web server, requests data (usually in the form of HTML and other files\n",
    "that compose web pages), and then parses that data to extract needed information.\n",
    "\n",
    "\n",
    "\n",
    "Web scraping is a valuable tool in the data scientist's skill set.\n",
    "\n",
    "<span style=\"margin-right: 10%;  margin-left: 20%;\">[BeautifulSoup](https://www.crummy.com/software/BeautifulSoup/)</span>\n",
    "<span style=\"margin-right: 10%;  margin-left: 15%;\">[Selenium](https://www.selenium.dev)</span>\n",
    "\n",
    "<p>\n",
    "\n",
    "<img src=\"https://www.crummy.com/software/BeautifulSoup/10.1.jpg\" style=\"float: left; margin-bottom: 1.5em; margin-top: 1.5em; margin-right: 10%;  margin-left: 15%; \" width=220/>\n",
    " <img src=\"https://www.selenium.dev/images/selenium_logo_large.png\" style=\"float: left; margin-top: 7.5em;\" width=280/>\n",
    "\n"
   ]
  },
  {
   "cell_type": "markdown",
   "metadata": {},
   "source": [
    "---\n",
    "\n",
    "\n",
    "# A Detour to Python Modules\n",
    "\n",
    "Most of the functionalities in Python are provided by **modules** (in the **standard library** or many third-party packages), which typically correspond to Python program files that define functionalities we want to import to use.\n",
    "\n",
    "We can use <a href=\"https://docs.python.org/3.7/reference/simple_stmts.html#grammar-token-import-stmt\" > the `import` statement</a> to read in a whole module or package:"
   ]
  },
  {
   "cell_type": "code",
   "execution_count": 22,
   "metadata": {},
   "outputs": [],
   "source": [
    "import random"
   ]
  },
  {
   "cell_type": "markdown",
   "metadata": {},
   "source": [
    "The first time a module or a package is imported, Python creates a module object:"
   ]
  },
  {
   "cell_type": "code",
   "execution_count": 16,
   "metadata": {},
   "outputs": [
    {
     "data": {
      "text/plain": [
       "<module 'random' from 'C:\\\\ProgramData\\\\Anaconda3\\\\lib\\\\random.py'>"
      ]
     },
     "execution_count": 16,
     "metadata": {},
     "output_type": "execute_result"
    }
   ],
   "source": [
    "random"
   ]
  },
  {
   "cell_type": "markdown",
   "metadata": {},
   "source": [
    "Using `dir()`, we can find the name `random` imported to the current namespace:\n"
   ]
  },
  {
   "cell_type": "code",
   "execution_count": 2,
   "metadata": {},
   "outputs": [
    {
     "name": "stdout",
     "output_type": "stream",
     "text": [
      "['In', 'Out', '_', '__', '___', '__builtin__', '__builtins__', '__doc__', '__loader__', '__name__', '__package__', '__spec__', '_dh', '_i', '_i1', '_i2', '_ih', '_ii', '_iii', '_oh', 'exit', 'get_ipython', 'quit', 'random']\n"
     ]
    }
   ],
   "source": [
    "print(dir())"
   ]
  },
  {
   "cell_type": "markdown",
   "metadata": {},
   "source": [
    "Like classes and instances, modules are also self-contained namespace objects:"
   ]
  },
  {
   "cell_type": "code",
   "execution_count": 6,
   "metadata": {},
   "outputs": [
    {
     "name": "stdout",
     "output_type": "stream",
     "text": [
      "['BPF', 'LOG4', 'NV_MAGICCONST', 'RECIP_BPF', 'Random', 'SG_MAGICCONST', 'SystemRandom', 'TWOPI', '_Sequence', '_Set', '__all__', '__builtins__', '__cached__', '__doc__', '__file__', '__loader__', '__name__', '__package__', '__spec__', '_accumulate', '_acos', '_bisect', '_ceil', '_cos', '_e', '_exp', '_inst', '_log', '_os', '_pi', '_random', '_repeat', '_sha512', '_sin', '_sqrt', '_test', '_test_generator', '_urandom', '_warn', 'betavariate', 'choice', 'choices', 'expovariate', 'gammavariate', 'gauss', 'getrandbits', 'getstate', 'lognormvariate', 'normalvariate', 'paretovariate', 'randint', 'random', 'randrange', 'sample', 'seed', 'setstate', 'shuffle', 'triangular', 'uniform', 'vonmisesvariate', 'weibullvariate']\n"
     ]
    }
   ],
   "source": [
    "print(dir(random))"
   ]
  },
  {
   "cell_type": "markdown",
   "metadata": {},
   "source": [
    "All its functionalities are now available for use. But we need to use the dot notation (a.k.a. attribute reference notation) to refer to an individual functionality:"
   ]
  },
  {
   "cell_type": "code",
   "execution_count": 12,
   "metadata": {},
   "outputs": [
    {
     "data": {
      "text/plain": [
       "'C:\\\\ProgramData\\\\Anaconda3\\\\lib\\\\random.py'"
      ]
     },
     "execution_count": 12,
     "metadata": {},
     "output_type": "execute_result"
    }
   ],
   "source": [
    "random.__file__           # give the location where the module was found in the file system"
   ]
  },
  {
   "cell_type": "code",
   "execution_count": 9,
   "metadata": {},
   "outputs": [
    {
     "data": {
      "text/plain": [
       "9"
      ]
     },
     "execution_count": 9,
     "metadata": {},
     "output_type": "execute_result"
    }
   ],
   "source": [
    "random.randint(0, 10)     # return a random integer in range [a, b], including both end points; help(random.randint)"
   ]
  },
  {
   "cell_type": "markdown",
   "metadata": {},
   "source": [
    "\n",
    "\n",
    "Alternatively, we can import only a few selected functionalities from a module by explicitly listing them with the `from` form:"
   ]
  },
  {
   "cell_type": "code",
   "execution_count": 3,
   "metadata": {},
   "outputs": [],
   "source": [
    "from random import randint, sample"
   ]
  },
  {
   "cell_type": "code",
   "execution_count": 4,
   "metadata": {},
   "outputs": [
    {
     "name": "stdout",
     "output_type": "stream",
     "text": [
      "['In', 'Out', '_', '__', '___', '__builtin__', '__builtins__', '__doc__', '__loader__', '__name__', '__package__', '__spec__', '_dh', '_i', '_i1', '_i2', '_i3', '_i4', '_ih', '_ii', '_iii', '_oh', 'exit', 'get_ipython', 'quit', 'randint', 'random', 'sample']\n"
     ]
    }
   ],
   "source": [
    "print(dir())"
   ]
  },
  {
   "cell_type": "markdown",
   "metadata": {},
   "source": [
    "Then we don't need to use the prefix every time we use the imported names:"
   ]
  },
  {
   "cell_type": "code",
   "execution_count": 16,
   "metadata": {},
   "outputs": [
    {
     "data": {
      "text/plain": [
       "8"
      ]
     },
     "execution_count": 16,
     "metadata": {},
     "output_type": "execute_result"
    }
   ],
   "source": [
    "randint(0, 10)"
   ]
  },
  {
   "cell_type": "code",
   "execution_count": 17,
   "metadata": {},
   "outputs": [
    {
     "data": {
      "text/plain": [
       "[37, 6, 84, 82, 96, 73, 78, 38, 19, 51, 88, 35, 12, 94, 55, 47, 65, 58, 36, 60]"
      ]
     },
     "execution_count": 17,
     "metadata": {},
     "output_type": "execute_result"
    }
   ],
   "source": [
    "sample(range(100), 20)     #  help(sample)"
   ]
  },
  {
   "cell_type": "markdown",
   "metadata": {},
   "source": [
    "We can use the command below to check the installed packages:"
   ]
  },
  {
   "cell_type": "code",
   "execution_count": null,
   "metadata": {
    "scrolled": true
   },
   "outputs": [],
   "source": [
    "!pip freeze     # packages are listed in a case-insensitive sorted order"
   ]
  },
  {
   "cell_type": "markdown",
   "metadata": {},
   "source": [
    "<div class=\"alert alert-info\">Any command that works at system command-line tools can be used in Jypyter notebook by prefixing it with the ! character.</div>\n",
    "\n"
   ]
  },
  {
   "cell_type": "markdown",
   "metadata": {},
   "source": [
    "---\n",
    "\n",
    "\n",
    "# HTML\n",
    "\n",
    "<br>\n",
    "\n",
    "[**HyperText Markup Language**](https://developer.mozilla.org/en-US/docs/Web/HTML) (HTML for short) is a markup language for describing web documents.\n",
    "\n",
    "\n",
    "---"
   ]
  },
  {
   "cell_type": "markdown",
   "metadata": {
    "cell_style": "split"
   },
   "source": [
    " ```html\n",
    "<html>\n",
    "<head><title>Sample HTML Page</title></head>\n",
    "  \n",
    "<body>\n",
    "<h1>This is a heading.</h1>\n",
    "<p>This is a typical paragraph.</p>\n",
    "<p class = \"notThisOne\"> This is a paragraph of the \"notThisOne\" class. </p>\n",
    "<p id = \"thisOne\"> \n",
    "But I only want this <a href = \"sample.html\">paragraph</a>.\n",
    "</p>\n",
    "</body>\n",
    "  \n",
    "</html>\n",
    "```\n"
   ]
  },
  {
   "cell_type": "markdown",
   "metadata": {
    "cell_style": "split"
   },
   "source": [
    "<html>\n",
    "<head><title>Sample HTML Page</title></head>\n",
    "  \n",
    "<body>\n",
    "<h1>This is a heading.</h1>\n",
    "<p>This is a typical paragraph.</p>\n",
    "<p class = \"notThisOne\"> This is a paragraph of the \"notThisOne\" class. </p>\n",
    "<p id = \"thisOne\"> \n",
    "But I only want this <a href = \"sample.html\"> paragraph</a>. </p>\n",
    "</body>\n",
    "  \n",
    "</html>\n"
   ]
  },
  {
   "cell_type": "markdown",
   "metadata": {},
   "source": [
    "---\n",
    "\n",
    "HTML elements are written with a start tag, an end tag, and with the content in between: `<tagname>content</tagname>`.\n",
    "\n",
    "- `<h1>`, `<h2>`,..., `<h6>`: largest heading, second largest heading, etc.\n",
    "- `<p>`: paragraphs\n",
    "- `<ul>` or `<ol>`: unordered or ordered bulleted list\n",
    "- `<li>`: individual List item\n",
    "- `<div>`: division or section\n",
    "- `<table>`: table\n",
    "- `<img>`: image\n",
    "- `<a>`: anchor\n",
    "- and many others ...\n",
    "\n",
    "\n",
    "The tags typically contain the textual content we wish to scrape and may include attributes. \n",
    "\n",
    "\n",
    "```html\n",
    "<tag attribute1=\"value1\" attribute2=\"value2\">content</tag>\n",
    "```\n",
    "\n",
    "\n",
    "These textual components form a hierarchy tree, where the top-level `<html>` tag contains the `<head>` and `<body`> tags, which further contain other textl contents and tags, and so on:\n",
    "\n",
    "\n"
   ]
  },
  {
   "cell_type": "markdown",
   "metadata": {
    "cell_style": "split"
   },
   "source": [
    "<img src=\"https://raw.githubusercontent.com/justinjiajia/img/master/python/html_nodes.PNG\" width=300/>"
   ]
  },
  {
   "cell_type": "markdown",
   "metadata": {
    "cell_style": "split"
   },
   "source": [
    " ```html\n",
    "<html>\n",
    "<head><title>Sample HTML Page</title></head>\n",
    "  \n",
    "<body>\n",
    "<h1>This is a heading.</h1>\n",
    "<p>This is a typical paragraph.</p>\n",
    "<p class = \"notThisOne\"> This is a paragraph of the \"notThisOne\" class. </p>\n",
    "<p id = \"thisOne\"> \n",
    "But I only want this <a href = \"sample.html\"> paragraph</a>. </p>\n",
    "</body>\n",
    "  \n",
    "</html>\n",
    "```"
   ]
  },
  {
   "cell_type": "markdown",
   "metadata": {},
   "source": [
    "---\n",
    "\n",
    "\n",
    "# Beautiful Soup\n",
    "\n",
    "\n",
    "\n",
    "<img src=\"https://www.crummy.com/software/BeautifulSoup/10.1.jpg\"  width=220/>\n",
    "\n",
    ">Beautiful Soup, so rich and green,<br>\n",
    "&nbsp;&nbsp;Waiting in a hot tureen!<br>\n",
    "&nbsp;&nbsp;Who for such dainties would not stoop?<br>\n",
    "&nbsp;&nbsp;Soup of the evening, beautiful Soup!\n",
    "\n",
    "\n",
    "\n",
    "\n",
    "\n",
    "\n",
    "<br>\n",
    "\n",
    "[BeautifulSoup](https://www.crummy.com/software/BeautifulSoup/) is a Python library for pulling data out of HTML and XML files. \n",
    "\n",
    "BeautifulSoup helps format and organize the messy web (**tag soup**) by fixing bad HTML and presenting us with easily traversable Python objects representing XML structures.\n"
   ]
  },
  {
   "cell_type": "code",
   "execution_count": 8,
   "metadata": {},
   "outputs": [],
   "source": [
    "from bs4 import BeautifulSoup"
   ]
  },
  {
   "cell_type": "markdown",
   "metadata": {},
   "source": [
    "The most commonly used object in the BeautifulSoup library is the `BeautifulSoup` object. \n",
    "\n",
    "Let's pass a string of HTML source code into the `BeautifulSoup` constructor to \"***make the soup***\":\n",
    "\n"
   ]
  },
  {
   "cell_type": "code",
   "execution_count": 33,
   "metadata": {},
   "outputs": [],
   "source": [
    "html_sample_code = '<html><head><link href=\"example.css\" rel=\"stylesheet\" type=\"text/css\"><title> \\\n",
    "Sample HTML Page</title></head><body><h1>This is a heading.</h1><p>This is a typical paragraph. \\\n",
    "</p><p class = \"notThisOne\">This is a paragraph of the \"notThisOne\" class.</p><p id = \"thisOne\"> \\\n",
    "But I only want this <a href = \"sample.html\">paragraph</a>.</p></body></html>'\n",
    "\n",
    "\n",
    "\n",
    "bs_sample = BeautifulSoup(html_sample_code, 'html.parser')     # pass it into the BeautifulSoup constructor"
   ]
  },
  {
   "cell_type": "markdown",
   "metadata": {},
   "source": [
    "\n",
    "- The 1st argument is the HTML text the object is based on, and the 2nd specifies the parser that we want BeautifulSoup to use in order to create a `BeautifulSoup` object.\n",
    "\n",
    " "
   ]
  },
  {
   "cell_type": "code",
   "execution_count": 34,
   "metadata": {},
   "outputs": [
    {
     "data": {
      "text/plain": [
       "<html><head><link href=\"example.css\" rel=\"stylesheet\" type=\"text/css\"/><title> Sample HTML Page</title></head><body><h1>This is a heading.</h1><p>This is a typical paragraph. </p><p class=\"notThisOne\">This is a paragraph of the \"notThisOne\" class.</p><p id=\"thisOne\"> But I only want this <a href=\"sample.html\">paragraph</a>.</p></body></html>"
      ]
     },
     "execution_count": 34,
     "metadata": {},
     "output_type": "execute_result"
    }
   ],
   "source": [
    "bs_sample"
   ]
  },
  {
   "cell_type": "code",
   "execution_count": 109,
   "metadata": {},
   "outputs": [
    {
     "data": {
      "text/plain": [
       "bs4.BeautifulSoup"
      ]
     },
     "execution_count": 109,
     "metadata": {},
     "output_type": "execute_result"
    }
   ],
   "source": [
    "type(bs_sample)"
   ]
  },
  {
   "cell_type": "markdown",
   "metadata": {},
   "source": [
    "A `BeautifulSoup` object represents the parsed document as a whole, and for most purposes, can be viewed as a `Tag` object, which contains strings and other tags as its children.\n",
    "\n",
    "We can use the `prettify()` method to format the HTML source code so as to visualize its structure:\n"
   ]
  },
  {
   "cell_type": "code",
   "execution_count": 35,
   "metadata": {},
   "outputs": [
    {
     "name": "stdout",
     "output_type": "stream",
     "text": [
      "<html>\n",
      " <head>\n",
      "  <link href=\"example.css\" rel=\"stylesheet\" type=\"text/css\"/>\n",
      "  <title>\n",
      "   Sample HTML Page\n",
      "  </title>\n",
      " </head>\n",
      " <body>\n",
      "  <h1>\n",
      "   This is a heading.\n",
      "  </h1>\n",
      "  <p>\n",
      "   This is a typical paragraph.\n",
      "  </p>\n",
      "  <p class=\"notThisOne\">\n",
      "   This is a paragraph of the \"notThisOne\" class.\n",
      "  </p>\n",
      "  <p id=\"thisOne\">\n",
      "   But I only want this\n",
      "   <a href=\"sample.html\">\n",
      "    paragraph\n",
      "   </a>\n",
      "   .\n",
      "  </p>\n",
      " </body>\n",
      "</html>\n"
     ]
    }
   ],
   "source": [
    "print(bs_sample.prettify())             "
   ]
  },
  {
   "cell_type": "markdown",
   "metadata": {},
   "source": [
    "\n",
    "`BeautifulSoup` provides a lot of different attributes for navigating and iterating over a tag's children. Among them, the simplest way to navigate a tag is to say the name of the child we want:"
   ]
  },
  {
   "cell_type": "code",
   "execution_count": 26,
   "metadata": {},
   "outputs": [
    {
     "data": {
      "text/plain": [
       "<body><h1>This is a heading.</h1><p>This is a typical paragraph. </p><p class=\"notThisOne\">This is a paragraph of the \"notThisOne\" class.</p><p id=\"thisOne\"> But I only want this <a href=\"sample.html\">paragraph</a>.</p></body>"
      ]
     },
     "execution_count": 26,
     "metadata": {},
     "output_type": "execute_result"
    }
   ],
   "source": [
    "bs_sample.html.body        # the <body> tag is beneath the <html> tag"
   ]
  },
  {
   "cell_type": "code",
   "execution_count": 68,
   "metadata": {},
   "outputs": [
    {
     "data": {
      "text/plain": [
       "<body><h1>This is a heading.</h1><p>This is a typical paragraph. </p><p class=\"notThisOne\">This is a paragraph of the \"notThisOne\" class.</p><p id=\"thisOne\"> But I only want this <a href=\"sample.html\">paragraph</a>.</p></body>"
      ]
     },
     "execution_count": 68,
     "metadata": {},
     "output_type": "execute_result"
    }
   ],
   "source": [
    "bs_sample.body             # we can also call the <body> tag directly as long as there's no ambiguity"
   ]
  },
  {
   "cell_type": "code",
   "execution_count": 69,
   "metadata": {},
   "outputs": [
    {
     "data": {
      "text/plain": [
       "<h1>This is a heading.</h1>"
      ]
     },
     "execution_count": 69,
     "metadata": {},
     "output_type": "execute_result"
    }
   ],
   "source": [
    "# the <h1> tag is nested two layers deep into the BeautifulSoup object structure (html → body → h1)\n",
    "bs_sample.html.body.h1     # equivalently, bs_sample.body.h1 or bs_sample.h1 "
   ]
  },
  {
   "cell_type": "code",
   "execution_count": 10,
   "metadata": {},
   "outputs": [
    {
     "data": {
      "text/plain": [
       "<p>This is a typical paragraph. </p>"
      ]
     },
     "execution_count": 10,
     "metadata": {},
     "output_type": "execute_result"
    }
   ],
   "source": [
    "bs_sample.p"
   ]
  },
  {
   "cell_type": "markdown",
   "metadata": {},
   "source": [
    "A tag's children are available in a list called `.contents`:"
   ]
  },
  {
   "cell_type": "code",
   "execution_count": 70,
   "metadata": {},
   "outputs": [
    {
     "data": {
      "text/plain": [
       "[<head><link href=\"example.css\" rel=\"stylesheet\" type=\"text/css\"/><title> Sample HTML Page</title></head>,\n",
       " <body><h1>This is a heading.</h1><p>This is a typical paragraph. </p><p class=\"notThisOne\">This is a paragraph of the \"notThisOne\" class.</p><p id=\"thisOne\"> But I only want this <a href=\"sample.html\">paragraph</a>.</p></body>]"
      ]
     },
     "execution_count": 70,
     "metadata": {},
     "output_type": "execute_result"
    }
   ],
   "source": [
    "bs_sample.html.contents"
   ]
  },
  {
   "cell_type": "code",
   "execution_count": 168,
   "metadata": {},
   "outputs": [
    {
     "data": {
      "text/plain": [
       "[<h1>This is a heading.</h1>,\n",
       " <p>This is a typical paragraph. </p>,\n",
       " <p class=\"notThisOne\">This is a paragraph of the \"notThisOne\" class.</p>,\n",
       " <p id=\"thisOne\"> But I only want this <a href=\"sample.html\">paragraph</a>.</p>]"
      ]
     },
     "execution_count": 168,
     "metadata": {},
     "output_type": "execute_result"
    }
   ],
   "source": [
    "bs_sample.body.contents"
   ]
  },
  {
   "cell_type": "markdown",
   "metadata": {},
   "source": [
    "Alternatively, we can iterate over a tag's children using `.children`:"
   ]
  },
  {
   "cell_type": "code",
   "execution_count": 72,
   "metadata": {},
   "outputs": [
    {
     "name": "stdout",
     "output_type": "stream",
     "text": [
      "<h1>This is a heading.</h1>\n",
      "<p>This is a typical paragraph. </p>\n",
      "<p class=\"notThisOne\">This is a paragraph of the \"notThisOne\" class.</p>\n",
      "<p id=\"thisOne\"> But I only want this <a href=\"sample.html\">paragraph</a>.</p>\n"
     ]
    }
   ],
   "source": [
    "for child in bs_sample.html.body.children:\n",
    "    print(child)"
   ]
  },
  {
   "cell_type": "markdown",
   "metadata": {},
   "source": [
    "If a tag has only one child, which is a string (of a special kind), this string can be accessed with `.string`:"
   ]
  },
  {
   "cell_type": "code",
   "execution_count": 74,
   "metadata": {},
   "outputs": [
    {
     "data": {
      "text/plain": [
       "['This is a heading.']"
      ]
     },
     "execution_count": 74,
     "metadata": {},
     "output_type": "execute_result"
    }
   ],
   "source": [
    "bs_sample.h1.contents"
   ]
  },
  {
   "cell_type": "code",
   "execution_count": 76,
   "metadata": {},
   "outputs": [
    {
     "data": {
      "text/plain": [
       "'This is a heading.'"
      ]
     },
     "execution_count": 76,
     "metadata": {},
     "output_type": "execute_result"
    }
   ],
   "source": [
    "bs_sample.h1.string        # we may need str() to convert it to a regular string "
   ]
  },
  {
   "cell_type": "markdown",
   "metadata": {},
   "source": [
    "<div class=\"alert alert-info\"> Tag.string operates recursively. If tag A contains a single tag B and nothing else, then A.string is the same as B.string. </div>"
   ]
  },
  {
   "cell_type": "markdown",
   "metadata": {},
   "source": [
    "If we only want the human-readable text inside a document or tag, we can use the `get_text()` method, which returns all the text in a document or beneath a tag, as a single regular string:"
   ]
  },
  {
   "cell_type": "code",
   "execution_count": 93,
   "metadata": {},
   "outputs": [
    {
     "data": {
      "text/plain": [
       "'This is a heading.This is a typical paragraph. This is a paragraph of the \"notThisOne\" class. But I only want this paragraph.'"
      ]
     },
     "execution_count": 93,
     "metadata": {},
     "output_type": "execute_result"
    }
   ],
   "source": [
    "bs_sample.body.get_text()"
   ]
  },
  {
   "cell_type": "code",
   "execution_count": 94,
   "metadata": {},
   "outputs": [
    {
     "data": {
      "text/plain": [
       "'This is a heading.'"
      ]
     },
     "execution_count": 94,
     "metadata": {},
     "output_type": "execute_result"
    }
   ],
   "source": [
    "bs_sample.h1.get_text()"
   ]
  },
  {
   "cell_type": "markdown",
   "metadata": {},
   "source": [
    "We can access a tag's attributes with `.attrs`:"
   ]
  },
  {
   "cell_type": "code",
   "execution_count": 28,
   "metadata": {},
   "outputs": [
    {
     "data": {
      "text/plain": [
       "{'href': 'example.css', 'rel': ['stylesheet'], 'type': 'text/css'}"
      ]
     },
     "execution_count": 28,
     "metadata": {},
     "output_type": "execute_result"
    }
   ],
   "source": [
    "bs_sample.link.attrs    "
   ]
  },
  {
   "cell_type": "code",
   "execution_count": 37,
   "metadata": {},
   "outputs": [
    {
     "data": {
      "text/plain": [
       "<p>This is a typical paragraph.</p>"
      ]
     },
     "execution_count": 37,
     "metadata": {},
     "output_type": "execute_result"
    }
   ],
   "source": [
    "bs_sample.body.p           # get the first <p> tag beneath the <body> tag:"
   ]
  },
  {
   "cell_type": "markdown",
   "metadata": {},
   "source": [
    "Using a tag name as an attribute will give us only the first tag by that name.  If we need to get all tags with a certain name, we'll need to use `find_all()`.\n",
    "\n",
    "The `find_all()` (`find()`) method can take a variety of filters to find lists of desired tags (a single tag):"
   ]
  },
  {
   "cell_type": "code",
   "execution_count": 169,
   "metadata": {},
   "outputs": [
    {
     "data": {
      "text/plain": [
       "[<p>This is a typical paragraph. </p>,\n",
       " <p class=\"notThisOne\">This is a paragraph of the \"notThisOne\" class.</p>,\n",
       " <p id=\"thisOne\"> But I only want this <a href=\"sample.html\">paragraph</a>.</p>]"
      ]
     },
     "execution_count": 169,
     "metadata": {},
     "output_type": "execute_result"
    }
   ],
   "source": [
    "bs_sample.find_all('p')                            # perform a match against that exact string; return a list of tags  "
   ]
  },
  {
   "cell_type": "code",
   "execution_count": 18,
   "metadata": {},
   "outputs": [
    {
     "data": {
      "text/plain": [
       "[<p>This is a typical paragraph. </p>,\n",
       " <p class=\"notThisOne\">This is a paragraph of the \"notThisOne\" class.</p>,\n",
       " <p id=\"thisOne\"> But I only want this <a href=\"sample.html\">paragraph</a>.</p>,\n",
       " <a href=\"sample.html\">paragraph</a>]"
      ]
     },
     "execution_count": 18,
     "metadata": {},
     "output_type": "execute_result"
    }
   ],
   "source": [
    "bs_sample.find_all([\"p\", \"a\"])                     # perform a string match against any item in that list"
   ]
  },
  {
   "cell_type": "markdown",
   "metadata": {},
   "source": [
    " We can also form filters based on tags' various attributes:\n",
    "\n",
    "- The 1st argument is a filter on tag name;\n",
    "\n",
    "- The 2nd argument is a dictionary of filters on attribute values."
   ]
  },
  {
   "cell_type": "code",
   "execution_count": 39,
   "metadata": {},
   "outputs": [
    {
     "data": {
      "text/plain": [
       "[<p class=\"notThisOne\">This is a paragraph of the \"notThisOne\" class.</p>]"
      ]
     },
     "execution_count": 39,
     "metadata": {},
     "output_type": "execute_result"
    }
   ],
   "source": [
    "bs_sample.find_all('p', {'class': 'notThisOne'})   # return a list that contains a single tag"
   ]
  },
  {
   "cell_type": "code",
   "execution_count": 170,
   "metadata": {},
   "outputs": [
    {
     "data": {
      "text/plain": [
       "<p id=\"thisOne\"> But I only want this <a href=\"sample.html\">paragraph</a>.</p>"
      ]
     },
     "execution_count": 170,
     "metadata": {},
     "output_type": "execute_result"
    }
   ],
   "source": [
    "bs_sample.find('p', {'id': 'thisOne'})             # return a single tag"
   ]
  },
  {
   "cell_type": "markdown",
   "metadata": {},
   "source": [
    "---\n"
   ]
  },
  {
   "cell_type": "code",
   "execution_count": 21,
   "metadata": {
    "scrolled": false
   },
   "outputs": [
    {
     "data": {
      "text/html": [
       "<center><iframe src=\"https://www.nytimes.com/interactive/2017/06/23/opinion/trumps-lies.html\" width=\"960\" height=\"400\">\n",
       "</iframe> </center>\n"
      ],
      "text/plain": [
       "<IPython.core.display.HTML object>"
      ]
     },
     "metadata": {},
     "output_type": "display_data"
    }
   ],
   "source": [
    "%%html\n",
    "<center><iframe src=\"https://www.nytimes.com/interactive/2017/06/23/opinion/trumps-lies.html\" width=\"960\" height=\"400\">\n",
    "</iframe> </center>"
   ]
  },
  {
   "cell_type": "markdown",
   "metadata": {},
   "source": [
    "---\n",
    "\n",
    "\n",
    "\n",
    "We'll need to first use `urlopen()` in the [`urllib.request` module](https://docs.python.org/3/library/urllib.request.html#module-urllib.request) to open a URL for reading its content. \n",
    "\n",
    "\n",
    " \n",
    "\n",
    " "
   ]
  },
  {
   "cell_type": "code",
   "execution_count": 1,
   "metadata": {},
   "outputs": [],
   "source": [
    "from urllib.request import urlopen\n",
    "\n",
    "lies_page = urlopen(\"https://www.nytimes.com/interactive/2017/06/23/opinion/trumps-lies.html\")  # open the URL"
   ]
  },
  {
   "cell_type": "markdown",
   "metadata": {},
   "source": [
    " Next, we'll transform the returned file object to a `BeautifulSoup` object:"
   ]
  },
  {
   "cell_type": "code",
   "execution_count": null,
   "metadata": {},
   "outputs": [],
   "source": [
    "bs_lies = BeautifulSoup(lies_page, 'html.parser')"
   ]
  },
  {
   "cell_type": "code",
   "execution_count": null,
   "metadata": {},
   "outputs": [],
   "source": [
    "print(bs_lies.prettify())"
   ]
  },
  {
   "cell_type": "markdown",
   "metadata": {},
   "source": [
    "---\n",
    "\n",
    "\n",
    "In the HTML code, every record is surrounded by the `<span>` tag of `class=\"short-desc\"`:\n",
    "\n",
    "```html\n",
    "<span class=\"short-desc\">\n",
    "      <strong> DATE </strong> LIE <span class=\"short-truth\"><a href=\"URL\"> EXPLANATION </a></span>\n",
    "</span>\n",
    "\n",
    "```\n",
    "\n",
    "\n",
    "\n",
    "\n"
   ]
  },
  {
   "cell_type": "code",
   "execution_count": 31,
   "metadata": {},
   "outputs": [],
   "source": [
    "item_list = bs_lies.find_all('span', {'class':'short-desc'})  "
   ]
  },
  {
   "cell_type": "markdown",
   "metadata": {},
   "source": [
    "This returns a list of all tags that match the given criteria:"
   ]
  },
  {
   "cell_type": "code",
   "execution_count": 36,
   "metadata": {
    "cell_style": "split"
   },
   "outputs": [
    {
     "data": {
      "text/plain": [
       "<span class=\"short-desc\"><strong>Jan. 21 </strong>“I wasn't a fan of Iraq. I didn't want to go into Iraq.” <span class=\"short-truth\"><a href=\"https://www.buzzfeed.com/andrewkaczynski/in-2002-donald-trump-said-he-supported-invading-iraq-on-the\" target=\"_blank\">(He was for an invasion before he was against it.)</a></span></span>"
      ]
     },
     "execution_count": 36,
     "metadata": {},
     "output_type": "execute_result"
    }
   ],
   "source": [
    "item_list[0]"
   ]
  },
  {
   "cell_type": "code",
   "execution_count": 36,
   "metadata": {
    "cell_style": "split",
    "scrolled": true
   },
   "outputs": [
    {
     "data": {
      "text/plain": [
       "<span class=\"short-desc\"><strong>Jan. 25 </strong>“You had millions of people that now aren't insured anymore.” <span class=\"short-truth\"><a href=\"https://www.nytimes.com/2017/03/13/us/politics/fact-check-trump-obamacare-health-care.html\" target=\"_blank\">(The real number is less than 1 million, according to the Urban Institute.)</a></span></span>"
      ]
     },
     "execution_count": 36,
     "metadata": {},
     "output_type": "execute_result"
    }
   ],
   "source": [
    "item_list[5]"
   ]
  },
  {
   "cell_type": "markdown",
   "metadata": {},
   "source": [
    "The general structure of a single record is:\n",
    "\n",
    "```html\n",
    "<strong> DATE </strong> LIE <span class=\"short-truth\"><a href=\"URL\"> EXPLANATION </a></span>\n",
    "```\n",
    "\n",
    "\n",
    "Use `.find()` with the tag name `\"strong\"` to select the tag that contains the `DATE`:\n",
    "\n"
   ]
  },
  {
   "cell_type": "code",
   "execution_count": 87,
   "metadata": {
    "scrolled": false
   },
   "outputs": [
    {
     "data": {
      "text/plain": [
       "<strong>Jan. 21 </strong>"
      ]
     },
     "execution_count": 87,
     "metadata": {},
     "output_type": "execute_result"
    }
   ],
   "source": [
    "item_list[0].find(\"strong\")"
   ]
  },
  {
   "cell_type": "markdown",
   "metadata": {},
   "source": [
    "Then use `.get_text()` to extract only the text, with the `strip` option active to remove leading and trailing spaces:"
   ]
  },
  {
   "cell_type": "code",
   "execution_count": 91,
   "metadata": {},
   "outputs": [
    {
     "data": {
      "text/plain": [
       "'Jan. 21'"
      ]
     },
     "execution_count": 91,
     "metadata": {},
     "output_type": "execute_result"
    }
   ],
   "source": [
    "item_list[0].find(\"strong\").get_text(strip=True)"
   ]
  },
  {
   "cell_type": "markdown",
   "metadata": {},
   "source": [
    "Next, use `.contents` with list indexing to extract the `LIE`:"
   ]
  },
  {
   "cell_type": "code",
   "execution_count": 32,
   "metadata": {},
   "outputs": [
    {
     "data": {
      "text/plain": [
       "[<strong>Jan. 21 </strong>,\n",
       " \"“I wasn't a fan of Iraq. I didn't want to go into Iraq.” \",\n",
       " <span class=\"short-truth\"><a href=\"https://www.buzzfeed.com/andrewkaczynski/in-2002-donald-trump-said-he-supported-invading-iraq-on-the\" target=\"_blank\">(He was for an invasion before he was against it.)</a></span>]"
      ]
     },
     "execution_count": 32,
     "metadata": {},
     "output_type": "execute_result"
    }
   ],
   "source": [
    "item_list[0].contents"
   ]
  },
  {
   "cell_type": "code",
   "execution_count": 36,
   "metadata": {},
   "outputs": [
    {
     "data": {
      "text/plain": [
       "\"I wasn't a fan of Iraq. I didn't want to go into Iraq.\""
      ]
     },
     "execution_count": 36,
     "metadata": {},
     "output_type": "execute_result"
    }
   ],
   "source": [
    "child_nodes = item_list[0].contents\n",
    "child_nodes[1][1:-2]"
   ]
  },
  {
   "cell_type": "markdown",
   "metadata": {},
   "source": [
    "For the `EXPLANATION`, select the text within the `<span>` tag, which is the 3rd child of the tag:"
   ]
  },
  {
   "cell_type": "code",
   "execution_count": 37,
   "metadata": {},
   "outputs": [
    {
     "data": {
      "text/plain": [
       "'He was for an invasion before he was against it'"
      ]
     },
     "execution_count": 37,
     "metadata": {},
     "output_type": "execute_result"
    }
   ],
   "source": [
    "child_nodes[2].get_text(strip=True)[1:-2]"
   ]
  },
  {
   "cell_type": "markdown",
   "metadata": {},
   "source": [
    "Note that the `URL` is an attribute (the `href` attribute) within the `<a>` tag.  We can access the tag's attribute dictionary directly with `.attrs`:\n"
   ]
  },
  {
   "cell_type": "code",
   "execution_count": 96,
   "metadata": {},
   "outputs": [
    {
     "data": {
      "text/plain": [
       "{'href': 'https://www.buzzfeed.com/andrewkaczynski/in-2002-donald-trump-said-he-supported-invading-iraq-on-the',\n",
       " 'target': '_blank'}"
      ]
     },
     "execution_count": 96,
     "metadata": {},
     "output_type": "execute_result"
    }
   ],
   "source": [
    "item_list[0].find('a').attrs"
   ]
  },
  {
   "cell_type": "code",
   "execution_count": 84,
   "metadata": {},
   "outputs": [
    {
     "data": {
      "text/plain": [
       "'https://www.buzzfeed.com/andrewkaczynski/in-2002-donald-trump-said-he-supported-invading-iraq-on-the'"
      ]
     },
     "execution_count": 84,
     "metadata": {},
     "output_type": "execute_result"
    }
   ],
   "source": [
    "item_list[0].find('a').attrs['href']"
   ]
  },
  {
   "cell_type": "markdown",
   "metadata": {},
   "source": [
    "Finally, we extend this process to all the rest of it using a `for` loop:"
   ]
  },
  {
   "cell_type": "code",
   "execution_count": 85,
   "metadata": {},
   "outputs": [],
   "source": [
    "date_list = []; lie_list = []; explanation_list = []; url_list = []\n",
    "\n",
    "for item in item_list:\n",
    "    first, middle, last = item.contents\n",
    "    date_list.append(first.get_text(strip=True))\n",
    "    lie_list.append(middle[1:-2])\n",
    "    explanation_list.append(last.get_text(strip=True)[1:-2])\n",
    "    url_list.append(item.find('a').attrs['href'])\n"
   ]
  },
  {
   "cell_type": "code",
   "execution_count": 104,
   "metadata": {},
   "outputs": [
    {
     "name": "stdout",
     "output_type": "stream",
     "text": [
      "['Jan. 21', 'Jan. 21', 'Jan. 23', 'Jan. 25', 'Jan. 25', 'Jan. 25', 'Jan. 25', 'Jan. 26', 'Jan. 26', 'Jan. 28', 'Jan. 29', 'Jan. 30', 'Feb. 3', 'Feb. 4', 'Feb. 5', 'Feb. 6', 'Feb. 6', 'Feb. 6', 'Feb. 6', 'Feb. 7', 'Feb. 7', 'Feb. 9', 'Feb. 9', 'Feb. 10', 'Feb. 12', 'Feb. 16', 'Feb. 16', 'Feb. 16', 'Feb. 16', 'Feb. 16', 'Feb. 16', 'Feb. 18', 'Feb. 18', 'Feb. 24', 'Feb. 24', 'Feb. 24', 'Feb. 27', 'Feb. 27', 'Feb. 28', 'Feb. 28', 'Feb. 28', 'March 3', 'March 4', 'March 4', 'March 7', 'March 13', 'March 13', 'March 15', 'March 17', 'March 20', 'March 21', 'March 22', 'March 22', 'March 22', 'March 29', 'March 31', 'April 2', 'April 2', 'April 5', 'April 6', 'April 11', 'April 12', 'April 12', 'April 12', 'April 12', 'April 16', 'April 18', 'April 21', 'April 21', 'April 27', 'April 28', 'April 28', 'April 28', 'April 29', 'April 29', 'April 29', 'April 29', 'April 29', 'April 29', 'May 1', 'May 1', 'May 1', 'May 2', 'May 4', 'May 4', 'May 4', 'May 8', 'May 8', 'May 8', 'May 12', 'May 12', 'May 13', 'May 26', 'June 1', 'June 1', 'June 4', 'June 5', 'June 20', 'June 21', 'June 21', 'June 21', 'June 21', 'June 21', 'June 21', 'June 21', 'June 21', 'June 22', 'June 23', 'June 27', 'June 28', 'June 29', 'July 6', 'July 17', 'July 19', 'July 19', 'July 19', 'July 19', 'July 24', 'July 25', 'July 25', 'July 25', 'July 25', 'July 28', 'July 28', 'July 31', 'July 31', 'Aug. 1', 'Aug. 3', 'Aug. 3', 'Aug. 3', 'Aug. 15', 'Aug. 22', 'Aug. 22', 'Aug. 22', 'Aug. 22', 'Aug. 22', 'Sept. 6', 'Sept. 6', 'Sept. 8', 'Sept. 14', 'Sept. 14', 'Sept. 22', 'Sept. 22', 'Sept. 29', 'Sept. 27', 'Sept. 27', 'Sept. 27', 'Sept. 27', 'Sept. 28', 'Oct. 3', 'Oct. 3', 'Oct. 6', 'Oct. 6', 'Oct. 6', 'Oct. 6', 'Oct. 7', 'Oct. 7', 'Oct. 7', 'Oct. 10', 'Oct. 10', 'Oct. 11', 'Oct. 16', 'Oct. 16', 'Oct. 16', 'Oct. 16', 'Oct. 17', 'Oct. 17', 'Oct. 17', 'Oct. 17', 'Oct. 17', 'Oct. 17', 'Oct. 18', 'Oct. 18', 'Oct. 18', 'Oct. 24', 'Oct. 25', 'Oct. 27', 'Nov. 1', 'Nov. 7', 'Nov. 11']\n"
     ]
    }
   ],
   "source": [
    "print(date_list)"
   ]
  },
  {
   "cell_type": "markdown",
   "metadata": {},
   "source": [
    "We can now combine the data into a pandas `DataFrame` (a tabular data model that makes data manipulation and analysis easy; we'll learn more about pandas later) for future analyses:"
   ]
  },
  {
   "cell_type": "code",
   "execution_count": 106,
   "metadata": {},
   "outputs": [
    {
     "data": {
      "text/html": [
       "<div>\n",
       "<style scoped>\n",
       "    .dataframe tbody tr th:only-of-type {\n",
       "        vertical-align: middle;\n",
       "    }\n",
       "\n",
       "    .dataframe tbody tr th {\n",
       "        vertical-align: top;\n",
       "    }\n",
       "\n",
       "    .dataframe thead th {\n",
       "        text-align: right;\n",
       "    }\n",
       "</style>\n",
       "<table border=\"1\" class=\"dataframe\">\n",
       "  <thead>\n",
       "    <tr style=\"text-align: right;\">\n",
       "      <th></th>\n",
       "      <th>date</th>\n",
       "      <th>lie</th>\n",
       "      <th>explanation</th>\n",
       "      <th>url</th>\n",
       "    </tr>\n",
       "  </thead>\n",
       "  <tbody>\n",
       "    <tr>\n",
       "      <th>0</th>\n",
       "      <td>Jan. 21</td>\n",
       "      <td>I wasn't a fan of Iraq. I didn't want to go in...</td>\n",
       "      <td>He was for an invasion before he was against it</td>\n",
       "      <td>https://www.buzzfeed.com/andrewkaczynski/in-20...</td>\n",
       "    </tr>\n",
       "    <tr>\n",
       "      <th>1</th>\n",
       "      <td>Jan. 21</td>\n",
       "      <td>A reporter for Time magazine — and I have been...</td>\n",
       "      <td>Trump was on the cover 11 times and Nixon appe...</td>\n",
       "      <td>http://nation.time.com/2013/11/06/10-things-yo...</td>\n",
       "    </tr>\n",
       "    <tr>\n",
       "      <th>2</th>\n",
       "      <td>Jan. 23</td>\n",
       "      <td>Between 3 million and 5 million illegal votes ...</td>\n",
       "      <td>There's no evidence of illegal voting</td>\n",
       "      <td>https://www.nytimes.com/2017/01/23/us/politics...</td>\n",
       "    </tr>\n",
       "    <tr>\n",
       "      <th>3</th>\n",
       "      <td>Jan. 25</td>\n",
       "      <td>Now, the audience was the biggest ever. But th...</td>\n",
       "      <td>Official aerial photos show Obama's 2009 inaug...</td>\n",
       "      <td>https://www.nytimes.com/2017/01/21/us/politics...</td>\n",
       "    </tr>\n",
       "    <tr>\n",
       "      <th>4</th>\n",
       "      <td>Jan. 25</td>\n",
       "      <td>Take a look at the Pew reports (which show vot...</td>\n",
       "      <td>The report never mentioned voter fraud</td>\n",
       "      <td>https://www.nytimes.com/2017/01/24/us/politics...</td>\n",
       "    </tr>\n",
       "    <tr>\n",
       "      <th>...</th>\n",
       "      <td>...</td>\n",
       "      <td>...</td>\n",
       "      <td>...</td>\n",
       "      <td>...</td>\n",
       "    </tr>\n",
       "    <tr>\n",
       "      <th>175</th>\n",
       "      <td>Oct. 25</td>\n",
       "      <td>We have trade deficits with almost everybody.</td>\n",
       "      <td>We have trade surpluses with more than 100 cou...</td>\n",
       "      <td>https://www.bea.gov/newsreleases/international...</td>\n",
       "    </tr>\n",
       "    <tr>\n",
       "      <th>176</th>\n",
       "      <td>Oct. 27</td>\n",
       "      <td>Wacky &amp; totally unhinged Tom Steyer, who has b...</td>\n",
       "      <td>Steyer has financially supported many winning ...</td>\n",
       "      <td>https://www.opensecrets.org/donor-lookup/resul...</td>\n",
       "    </tr>\n",
       "    <tr>\n",
       "      <th>177</th>\n",
       "      <td>Nov. 1</td>\n",
       "      <td>Again, we're the highest-taxed nation, just ab...</td>\n",
       "      <td>We're not</td>\n",
       "      <td>http://www.politifact.com/truth-o-meter/statem...</td>\n",
       "    </tr>\n",
       "    <tr>\n",
       "      <th>178</th>\n",
       "      <td>Nov. 7</td>\n",
       "      <td>When you look at the city with the strongest g...</td>\n",
       "      <td>Several other cities, including New York and L...</td>\n",
       "      <td>http://www.politifact.com/truth-o-meter/statem...</td>\n",
       "    </tr>\n",
       "    <tr>\n",
       "      <th>179</th>\n",
       "      <td>Nov. 11</td>\n",
       "      <td>I'd rather have him  – you know, work with him...</td>\n",
       "      <td>There is no evidence that Democrats \"set up\" R...</td>\n",
       "      <td>https://www.nytimes.com/interactive/2017/12/10...</td>\n",
       "    </tr>\n",
       "  </tbody>\n",
       "</table>\n",
       "<p>180 rows × 4 columns</p>\n",
       "</div>"
      ],
      "text/plain": [
       "        date                                                lie  \\\n",
       "0    Jan. 21  I wasn't a fan of Iraq. I didn't want to go in...   \n",
       "1    Jan. 21  A reporter for Time magazine — and I have been...   \n",
       "2    Jan. 23  Between 3 million and 5 million illegal votes ...   \n",
       "3    Jan. 25  Now, the audience was the biggest ever. But th...   \n",
       "4    Jan. 25  Take a look at the Pew reports (which show vot...   \n",
       "..       ...                                                ...   \n",
       "175  Oct. 25      We have trade deficits with almost everybody.   \n",
       "176  Oct. 27  Wacky & totally unhinged Tom Steyer, who has b...   \n",
       "177   Nov. 1  Again, we're the highest-taxed nation, just ab...   \n",
       "178   Nov. 7  When you look at the city with the strongest g...   \n",
       "179  Nov. 11  I'd rather have him  – you know, work with him...   \n",
       "\n",
       "                                           explanation  \\\n",
       "0      He was for an invasion before he was against it   \n",
       "1    Trump was on the cover 11 times and Nixon appe...   \n",
       "2                There's no evidence of illegal voting   \n",
       "3    Official aerial photos show Obama's 2009 inaug...   \n",
       "4               The report never mentioned voter fraud   \n",
       "..                                                 ...   \n",
       "175  We have trade surpluses with more than 100 cou...   \n",
       "176  Steyer has financially supported many winning ...   \n",
       "177                                          We're not   \n",
       "178  Several other cities, including New York and L...   \n",
       "179  There is no evidence that Democrats \"set up\" R...   \n",
       "\n",
       "                                                   url  \n",
       "0    https://www.buzzfeed.com/andrewkaczynski/in-20...  \n",
       "1    http://nation.time.com/2013/11/06/10-things-yo...  \n",
       "2    https://www.nytimes.com/2017/01/23/us/politics...  \n",
       "3    https://www.nytimes.com/2017/01/21/us/politics...  \n",
       "4    https://www.nytimes.com/2017/01/24/us/politics...  \n",
       "..                                                 ...  \n",
       "175  https://www.bea.gov/newsreleases/international...  \n",
       "176  https://www.opensecrets.org/donor-lookup/resul...  \n",
       "177  http://www.politifact.com/truth-o-meter/statem...  \n",
       "178  http://www.politifact.com/truth-o-meter/statem...  \n",
       "179  https://www.nytimes.com/interactive/2017/12/10...  \n",
       "\n",
       "[180 rows x 4 columns]"
      ]
     },
     "execution_count": 106,
     "metadata": {},
     "output_type": "execute_result"
    }
   ],
   "source": [
    "import pandas as pd\n",
    "lie_df = pd.DataFrame({'date': date_list, 'lie': lie_list, 'explanation': explanation_list, 'url': url_list})    \n",
    "lie_df"
   ]
  },
  {
   "cell_type": "markdown",
   "metadata": {},
   "source": [
    "Save the output in the file system:"
   ]
  },
  {
   "cell_type": "code",
   "execution_count": 107,
   "metadata": {},
   "outputs": [],
   "source": [
    "lie_df.to_csv('trump_lies.csv')"
   ]
  },
  {
   "cell_type": "markdown",
   "metadata": {},
   "source": [
    "---\n",
    "\n",
    "\n",
    "# Scraping Dynamic Web Pages\n",
    "\n",
    "\n",
    "We are increasingly encountering pages whose contents are dynamically generated within the user's Web browser; that is, the content is determined only when the page is rendered and is updated dynamically based on user interactions and inputs.\n",
    "\n",
    "\n",
    "\n",
    "Is there a programmatic approach to drive a browser to mimic human users' actions, e.g., clicking on a button, filling in a form, etc., to load contents dynamically?\n",
    "\n",
    "<img src=\"https://www.selenium.dev/images/selenium_logo_large.png\"  width=260/>\n",
    "\n",
    " \n",
    "\n",
    "\n",
    "\n",
    "\n",
    "[Selenium](https://www.selenium.dev) is an umbrella project for a range of tools and libraries that enable and support the automation of web browsers. At its core is WebDriver, an interface to write instruction sets that can be run interchangeably in many browsers.\n",
    "\n",
    "\n",
    "Python language bindings for Selenium WebDriver is provided by the [selenium](https://pypi.org/project/selenium/) package\n",
    "\n",
    "\n"
   ]
  },
  {
   "cell_type": "markdown",
   "metadata": {},
   "source": [
    "---\n",
    "\n",
    "## Getting Started\n",
    "\n",
    "The `selenium.webdriver` module provides all the WebDriver implementations. Currently supported WebDriver implementations are Firefox, Chrome, IE and Remote."
   ]
  },
  {
   "cell_type": "code",
   "execution_count": 154,
   "metadata": {},
   "outputs": [],
   "source": [
    "from selenium.webdriver import Chrome\n",
    "\n",
    "driver = Chrome()         # create an instance of Chrome WebDriver; or Firefox(), Ie(), etc."
   ]
  },
  {
   "cell_type": "code",
   "execution_count": 48,
   "metadata": {},
   "outputs": [
    {
     "data": {
      "text/plain": [
       "selenium.webdriver.chrome.webdriver.WebDriver"
      ]
     },
     "execution_count": 48,
     "metadata": {},
     "output_type": "execute_result"
    }
   ],
   "source": [
    "type(driver)"
   ]
  },
  {
   "cell_type": "code",
   "execution_count": 17,
   "metadata": {},
   "outputs": [
    {
     "data": {
      "text/plain": [
       "{'service': <selenium.webdriver.chrome.service.Service at 0x209e1047dc0>,\n",
       " 'command_executor': <selenium.webdriver.chrome.remote_connection.ChromeRemoteConnection at 0x209e1047970>,\n",
       " '_is_remote': False,\n",
       " 'session_id': '2b53a02f28cf3600e6da5dcde17eb7cb',\n",
       " 'capabilities': {'acceptInsecureCerts': False,\n",
       "  'browserName': 'chrome',\n",
       "  'browserVersion': '86.0.4240.111',\n",
       "  'chrome': {'chromedriverVersion': '86.0.4240.22 (398b0743353ff36fb1b82468f63a3a93b4e2e89e-refs/branch-heads/4240@{#378})',\n",
       "   'userDataDir': 'C:\\\\Users\\\\justi\\\\AppData\\\\Local\\\\Temp\\\\scoped_dir14756_1643016801'},\n",
       "  'goog:chromeOptions': {'debuggerAddress': 'localhost:53624'},\n",
       "  'networkConnectionEnabled': False,\n",
       "  'pageLoadStrategy': 'normal',\n",
       "  'platformName': 'windows',\n",
       "  'proxy': {},\n",
       "  'setWindowRect': True,\n",
       "  'strictFileInteractability': False,\n",
       "  'timeouts': {'implicit': 0, 'pageLoad': 300000, 'script': 30000},\n",
       "  'unhandledPromptBehavior': 'dismiss and notify',\n",
       "  'webauthn:virtualAuthenticators': True},\n",
       " 'error_handler': <selenium.webdriver.remote.errorhandler.ErrorHandler at 0x209e1362400>,\n",
       " 'w3c': True,\n",
       " '_switch_to': <selenium.webdriver.remote.switch_to.SwitchTo at 0x209e1362850>,\n",
       " '_mobile': <selenium.webdriver.remote.mobile.Mobile at 0x209e13626d0>,\n",
       " '_file_detector': <selenium.webdriver.remote.file_detector.LocalFileDetector at 0x209e1362220>}"
      ]
     },
     "execution_count": 17,
     "metadata": {},
     "output_type": "execute_result"
    }
   ],
   "source": [
    "driver.__dict__"
   ]
  },
  {
   "cell_type": "markdown",
   "metadata": {},
   "source": [
    "\n",
    "The first thing we'll want to do with `WebDriver` is navigate to a page given by the URL. The convenient way to do so is to call the `get()` method:\n",
    "\n",
    "\n"
   ]
  },
  {
   "cell_type": "code",
   "execution_count": 155,
   "metadata": {},
   "outputs": [],
   "source": [
    "driver.get(\"https://www.google.com/webhp?gl=us\")"
   ]
  },
  {
   "cell_type": "markdown",
   "metadata": {},
   "source": [
    "<div class=\"alert alert-info\">WebDriver will wait until the page has fully loaded before returning control to the script. </div>"
   ]
  },
  {
   "cell_type": "code",
   "execution_count": 115,
   "metadata": {},
   "outputs": [
    {
     "name": "stdout",
     "output_type": "stream",
     "text": [
      "['__class__', '__delattr__', '__dict__', '__dir__', '__doc__', '__enter__', '__eq__', '__exit__', '__format__', '__ge__', '__getattribute__', '__gt__', '__hash__', '__init__', '__init_subclass__', '__le__', '__lt__', '__module__', '__ne__', '__new__', '__reduce__', '__reduce_ex__', '__repr__', '__setattr__', '__sizeof__', '__str__', '__subclasshook__', '__weakref__', '_file_detector', '_is_remote', '_mobile', '_switch_to', '_unwrap_value', '_web_element_cls', '_wrap_value', 'add_cookie', 'application_cache', 'back', 'capabilities', 'close', 'command_executor', 'create_options', 'create_web_element', 'current_url', 'current_window_handle', 'delete_all_cookies', 'delete_cookie', 'desired_capabilities', 'error_handler', 'execute', 'execute_async_script', 'execute_cdp_cmd', 'execute_script', 'file_detector', 'file_detector_context', 'find_element', 'find_element_by_class_name', 'find_element_by_css_selector', 'find_element_by_id', 'find_element_by_link_text', 'find_element_by_name', 'find_element_by_partial_link_text', 'find_element_by_tag_name', 'find_element_by_xpath', 'find_elements', 'find_elements_by_class_name', 'find_elements_by_css_selector', 'find_elements_by_id', 'find_elements_by_link_text', 'find_elements_by_name', 'find_elements_by_partial_link_text', 'find_elements_by_tag_name', 'find_elements_by_xpath', 'forward', 'fullscreen_window', 'get', 'get_cookie', 'get_cookies', 'get_log', 'get_network_conditions', 'get_screenshot_as_base64', 'get_screenshot_as_file', 'get_screenshot_as_png', 'get_window_position', 'get_window_rect', 'get_window_size', 'implicitly_wait', 'launch_app', 'log_types', 'maximize_window', 'minimize_window', 'mobile', 'name', 'orientation', 'page_source', 'quit', 'refresh', 'save_screenshot', 'service', 'session_id', 'set_network_conditions', 'set_page_load_timeout', 'set_script_timeout', 'set_window_position', 'set_window_rect', 'set_window_size', 'start_client', 'start_session', 'stop_client', 'switch_to', 'switch_to_active_element', 'switch_to_alert', 'switch_to_default_content', 'switch_to_frame', 'switch_to_window', 'title', 'w3c', 'window_handles']\n"
     ]
    }
   ],
   "source": [
    "print(dir(driver))"
   ]
  },
  {
   "cell_type": "code",
   "execution_count": 116,
   "metadata": {},
   "outputs": [
    {
     "data": {
      "text/plain": [
       "'Google'"
      ]
     },
     "execution_count": 116,
     "metadata": {},
     "output_type": "execute_result"
    }
   ],
   "source": [
    "driver.title   "
   ]
  },
  {
   "cell_type": "markdown",
   "metadata": {},
   "source": [
    "`WebDriver` offers a number of ways to find elements. \n",
    "\n",
    "\n",
    "- We can use one of its `find_element_by_*()` or  `find_elements_by_*()` methods to locate the first matching `WebElement` or a list of matching `WebElement`s in a page. For example:\n"
   ]
  },
  {
   "cell_type": "markdown",
   "metadata": {
    "cell_style": "split"
   },
   "source": [
    "A hyperlink element that contains a specific link text\n",
    "\n",
    "```html\n",
    "<a href = \"continue.html\">Continue</a>\n",
    "```\n",
    "\n",
    "can be found by using either of:\n",
    "\n",
    "```python\n",
    "driver.find_element_by_link_text('Continue')\n",
    "driver.find_element_by_partial_link_text('Cont')\n",
    "```"
   ]
  },
  {
   "cell_type": "markdown",
   "metadata": {
    "cell_style": "split"
   },
   "source": [
    "And a text field defined as:\n",
    "\n",
    "```html\n",
    "<input type=\"text\" name=\"passwd\" id=\"passwd-id\" />\n",
    "```\n",
    "\n",
    "can be located using either of:\n",
    "\n",
    "```python\n",
    "driver.find_element_by_id(\"passwd-id\")\n",
    "driver.find_element_by_name(\"passwd\")\n",
    "```"
   ]
  },
  {
   "cell_type": "code",
   "execution_count": 158,
   "metadata": {},
   "outputs": [],
   "source": [
    "search_box = driver.find_element_by_name(\"q\")   # locate the input text element by its name attribute"
   ]
  },
  {
   "cell_type": "code",
   "execution_count": 60,
   "metadata": {},
   "outputs": [
    {
     "data": {
      "text/plain": [
       "<selenium.webdriver.remote.webelement.WebElement (session=\"2b53a02f28cf3600e6da5dcde17eb7cb\", element=\"9e9b8da7-3291-4a39-9d75-1c3df0440213\")>"
      ]
     },
     "execution_count": 60,
     "metadata": {},
     "output_type": "execute_result"
    }
   ],
   "source": [
    "search_box"
   ]
  },
  {
   "cell_type": "markdown",
   "metadata": {},
   "source": [
    "<div class=\"alert alert-info\">A parent WebElement can be chained with find_element(s)_by_*() to access child elements.</div>"
   ]
  },
  {
   "cell_type": "markdown",
   "metadata": {},
   "source": [
    "Virtualized device input can be generated by the `send_keys()` method:\n",
    "\n"
   ]
  },
  {
   "cell_type": "code",
   "execution_count": 119,
   "metadata": {},
   "outputs": [],
   "source": [
    "search_box.clear()                           # clear any pre-populated text\n",
    "search_box.send_keys(\"us election 2020\")"
   ]
  },
  {
   "cell_type": "markdown",
   "metadata": {},
   "source": [
    "<div class=\"alert alert-info\">Typing something into a text field won't automatically clear it. Instead, what we type will be appended to what's already there.</div>"
   ]
  },
  {
   "cell_type": "markdown",
   "metadata": {},
   "source": [
    " Special keys can be sent using `Keys` class imported from `selenium.webdriver.common.keys`:"
   ]
  },
  {
   "cell_type": "code",
   "execution_count": 121,
   "metadata": {},
   "outputs": [],
   "source": [
    "from selenium.webdriver.common.keys import Keys\n",
    "search_box.send_keys(Keys.RETURN)"
   ]
  },
  {
   "cell_type": "markdown",
   "metadata": {},
   "source": [
    "Here are the list of possible keystrokes that `WebDriver` supports:"
   ]
  },
  {
   "cell_type": "code",
   "execution_count": 125,
   "metadata": {},
   "outputs": [
    {
     "name": "stdout",
     "output_type": "stream",
     "text": [
      "['ADD', 'ALT', 'ARROW_DOWN', 'ARROW_LEFT', 'ARROW_RIGHT', 'ARROW_UP', 'BACKSPACE', 'BACK_SPACE', 'CANCEL', 'CLEAR', 'COMMAND', 'CONTROL', 'DECIMAL', 'DELETE', 'DIVIDE', 'DOWN', 'END', 'ENTER', 'EQUALS', 'ESCAPE', 'F1', 'F10', 'F11', 'F12', 'F2', 'F3', 'F4', 'F5', 'F6', 'F7', 'F8', 'F9', 'HELP', 'HOME', 'INSERT', 'LEFT', 'LEFT_ALT', 'LEFT_CONTROL', 'LEFT_SHIFT', 'META', 'MULTIPLY', 'NULL', 'NUMPAD0', 'NUMPAD1', 'NUMPAD2', 'NUMPAD3', 'NUMPAD4', 'NUMPAD5', 'NUMPAD6', 'NUMPAD7', 'NUMPAD8', 'NUMPAD9', 'PAGE_DOWN', 'PAGE_UP', 'PAUSE', 'RETURN', 'RIGHT', 'SEMICOLON', 'SEPARATOR', 'SHIFT', 'SPACE', 'SUBTRACT', 'TAB', 'UP', '__class__', '__delattr__', '__dict__', '__dir__', '__doc__', '__eq__', '__format__', '__ge__', '__getattribute__', '__gt__', '__hash__', '__init__', '__init_subclass__', '__le__', '__lt__', '__module__', '__ne__', '__new__', '__reduce__', '__reduce_ex__', '__repr__', '__setattr__', '__sizeof__', '__str__', '__subclasshook__', '__weakref__']\n"
     ]
    }
   ],
   "source": [
    "print(dir(Keys))"
   ]
  },
  {
   "cell_type": "code",
   "execution_count": 159,
   "metadata": {},
   "outputs": [],
   "source": [
    "search_box.clear()         \n",
    "search_box.send_keys(\"us election 2020\" + Keys.RETURN)"
   ]
  },
  {
   "cell_type": "markdown",
   "metadata": {},
   "source": [
    "---\n",
    "\n",
    "## Transitioning to Beautiful Soup\n",
    "\n",
    "\n",
    "After retrieving the search result page, we instruct selenium to hand off the page source to Beautiful Soup:"
   ]
  },
  {
   "cell_type": "code",
   "execution_count": 128,
   "metadata": {},
   "outputs": [],
   "source": [
    "bs_google = BeautifulSoup(driver.page_source, 'html.parser')"
   ]
  },
  {
   "cell_type": "code",
   "execution_count": null,
   "metadata": {},
   "outputs": [],
   "source": [
    " print(bs_google.prettify())  "
   ]
  },
  {
   "cell_type": "markdown",
   "metadata": {},
   "source": [
    "---\n",
    "\n",
    "<div class=\"g\">\n",
    "    <div class=\"rc\" data-hveid=\"CB8QAA\" data-ved=\"2ahUKEwiNs73kjtLsAhVNpZ4KHXkJAkYQFSgAMAt6BAgfEAA\">\n",
    "        <div class=\"yuRUbf\">\n",
    "            <a href=\"https://www.theguardian.com/us-news/2020/oct/26/us-election-polls-tracker-who-is-leading-in-the-swing-states\" ping=\"/url?sa=t&amp;source=web&amp;rct=j&amp;url=https://www.theguardian.com/us-news/2020/oct/26/us-election-polls-tracker-who-is-leading-in-the-swing-states&amp;ved=2ahUKEwiNs73kjtLsAhVNpZ4KHXkJAkYQFjALegQIHxAC\">\n",
    "            <br>\n",
    "            <span>US election polls tracker: who is leading in the swing states ...</span>\n",
    "            <div class=\"TbwUpd NJjxre\">\n",
    "                <cite class=\"iUh30 gBIQub qLRx3b tjvcx\">www.theguardian.com\n",
    "                    <span class=\"eipWBe\"><span> › us-news › 2020 › oct › us-electi...</span></span>\n",
    "                </cite>\n",
    "            </div>\n",
    "            </a>\n",
    "            <div class=\"B6fmyf\"><div class=\"TbwUpd\"><cite class=\"iUh30 gBIQub qLRx3b tjvcx\">www.theguardian.com<span class=\"eipWBe\"><span> › us-news › 2020 › oct › us-electi...</span></span></cite></div><div class=\"eFM0qc\"></div></div></div><div class=\"IsZvec\"><div><span class=\"aCOpRe\"><span class=\"f\">2 hours ago — </span>\n",
    "        <span>As the presidential campaign heats up, the Guardian is tracking the latest polling in eight states that could decide the ... <em>US elections 2020</em>&nbsp;...</span></span></div></div></div><!--n--></div>\n",
    "\n",
    "\n",
    "---"
   ]
  },
  {
   "cell_type": "code",
   "execution_count": 129,
   "metadata": {},
   "outputs": [],
   "source": [
    "search_result_list = bs_google.find_all('div', {'class':'yuRUbf'})"
   ]
  },
  {
   "cell_type": "code",
   "execution_count": 130,
   "metadata": {},
   "outputs": [
    {
     "data": {
      "text/plain": [
       "<div class=\"yuRUbf\"><a href=\"https://www.theguardian.com/us-news/2020/oct/28/us-election-polls-tracker-swing-states-donald-trump-joe-biden\" ping=\"/url?sa=t&amp;source=web&amp;rct=j&amp;url=https://www.theguardian.com/us-news/2020/oct/28/us-election-polls-tracker-swing-states-donald-trump-joe-biden&amp;ved=2ahUKEwjT7Pv49NjsAhUNfXAKHdJDDKsQFjABegQIARAC\"><br/><h3 class=\"LC20lb DKV0Md\"><span>US election polls tracker: who is leading in swing states, Trump</span></h3><div class=\"TbwUpd NJjxre\"><cite class=\"iUh30 gBIQub qLRx3b tjvcx\">www.theguardian.com<span class=\"dyjrff qzEoUe\"><span> › us-news › 2020 › oct › us-electi...</span></span></cite></div></a><div class=\"B6fmyf\"><div class=\"TbwUpd\"><cite class=\"iUh30 gBIQub qLRx3b tjvcx\">www.theguardian.com<span class=\"dyjrff qzEoUe\"><span> › us-news › 2020 › oct › us-electi...</span></span></cite></div><div class=\"eFM0qc\"></div></div></div>"
      ]
     },
     "execution_count": 130,
     "metadata": {},
     "output_type": "execute_result"
    }
   ],
   "source": [
    "search_result_list[0]"
   ]
  },
  {
   "cell_type": "code",
   "execution_count": 131,
   "metadata": {},
   "outputs": [
    {
     "data": {
      "text/plain": [
       "'https://www.theguardian.com/us-news/2020/oct/28/us-election-polls-tracker-swing-states-donald-trump-joe-biden'"
      ]
     },
     "execution_count": 131,
     "metadata": {},
     "output_type": "execute_result"
    }
   ],
   "source": [
    "search_result_list[0].find(\"a\").attrs['href']"
   ]
  },
  {
   "cell_type": "code",
   "execution_count": 132,
   "metadata": {},
   "outputs": [
    {
     "data": {
      "text/plain": [
       "[<br/>,\n",
       " <h3 class=\"LC20lb DKV0Md\"><span>US election polls tracker: who is leading in swing states, Trump</span></h3>,\n",
       " <div class=\"TbwUpd NJjxre\"><cite class=\"iUh30 gBIQub qLRx3b tjvcx\">www.theguardian.com<span class=\"dyjrff qzEoUe\"><span> › us-news › 2020 › oct › us-electi...</span></span></cite></div>]"
      ]
     },
     "execution_count": 132,
     "metadata": {},
     "output_type": "execute_result"
    }
   ],
   "source": [
    "search_result_list[0].find(\"a\").contents"
   ]
  },
  {
   "cell_type": "code",
   "execution_count": 135,
   "metadata": {},
   "outputs": [
    {
     "data": {
      "text/plain": [
       "'US election polls tracker: who is leading in swing states, Trump'"
      ]
     },
     "execution_count": 135,
     "metadata": {},
     "output_type": "execute_result"
    }
   ],
   "source": [
    "search_result_list[0].find(\"a\").contents[1].get_text()"
   ]
  },
  {
   "cell_type": "code",
   "execution_count": 136,
   "metadata": {},
   "outputs": [
    {
     "data": {
      "text/html": [
       "<div>\n",
       "<style scoped>\n",
       "    .dataframe tbody tr th:only-of-type {\n",
       "        vertical-align: middle;\n",
       "    }\n",
       "\n",
       "    .dataframe tbody tr th {\n",
       "        vertical-align: top;\n",
       "    }\n",
       "\n",
       "    .dataframe thead th {\n",
       "        text-align: right;\n",
       "    }\n",
       "</style>\n",
       "<table border=\"1\" class=\"dataframe\">\n",
       "  <thead>\n",
       "    <tr style=\"text-align: right;\">\n",
       "      <th></th>\n",
       "      <th>text</th>\n",
       "      <th>url</th>\n",
       "    </tr>\n",
       "  </thead>\n",
       "  <tbody>\n",
       "    <tr>\n",
       "      <th>0</th>\n",
       "      <td>US election polls tracker: who is leading in s...</td>\n",
       "      <td>https://www.theguardian.com/us-news/2020/oct/2...</td>\n",
       "    </tr>\n",
       "    <tr>\n",
       "      <th>1</th>\n",
       "      <td>US Election Day 2020: When is it, what time do...</td>\n",
       "      <td>https://www.telegraph.co.uk/news/2020/10/28/20...</td>\n",
       "    </tr>\n",
       "    <tr>\n",
       "      <th>2</th>\n",
       "      <td>US election 2020: Latest news on Biden, Trump ...</td>\n",
       "      <td>https://www.cnn.com/politics/live-news/us-elec...</td>\n",
       "    </tr>\n",
       "    <tr>\n",
       "      <th>3</th>\n",
       "      <td>Live Biden vs. Trump Election Updates - The Ne...</td>\n",
       "      <td>https://www.nytimes.com/live/2020/10/28/us/tru...</td>\n",
       "    </tr>\n",
       "    <tr>\n",
       "      <th>4</th>\n",
       "      <td>US Election 2020 - BBC News - BBC.com</td>\n",
       "      <td>https://www.bbc.com/news/election/us2020</td>\n",
       "    </tr>\n",
       "    <tr>\n",
       "      <th>5</th>\n",
       "      <td>US election 2020 polls: Who is ahead - Trump o...</td>\n",
       "      <td>https://www.bbc.com/news/election-us-2020-5365...</td>\n",
       "    </tr>\n",
       "    <tr>\n",
       "      <th>6</th>\n",
       "      <td>Biden vs Trump: US presidential election 2020 ...</td>\n",
       "      <td>https://ig.ft.com/us-election-2020/</td>\n",
       "    </tr>\n",
       "    <tr>\n",
       "      <th>7</th>\n",
       "      <td>2020 United States presidential election - Wik...</td>\n",
       "      <td>https://en.wikipedia.org/wiki/2020_United_Stat...</td>\n",
       "    </tr>\n",
       "  </tbody>\n",
       "</table>\n",
       "</div>"
      ],
      "text/plain": [
       "                                                text  \\\n",
       "0  US election polls tracker: who is leading in s...   \n",
       "1  US Election Day 2020: When is it, what time do...   \n",
       "2  US election 2020: Latest news on Biden, Trump ...   \n",
       "3  Live Biden vs. Trump Election Updates - The Ne...   \n",
       "4              US Election 2020 - BBC News - BBC.com   \n",
       "5  US election 2020 polls: Who is ahead - Trump o...   \n",
       "6  Biden vs Trump: US presidential election 2020 ...   \n",
       "7  2020 United States presidential election - Wik...   \n",
       "\n",
       "                                                 url  \n",
       "0  https://www.theguardian.com/us-news/2020/oct/2...  \n",
       "1  https://www.telegraph.co.uk/news/2020/10/28/20...  \n",
       "2  https://www.cnn.com/politics/live-news/us-elec...  \n",
       "3  https://www.nytimes.com/live/2020/10/28/us/tru...  \n",
       "4           https://www.bbc.com/news/election/us2020  \n",
       "5  https://www.bbc.com/news/election-us-2020-5365...  \n",
       "6                https://ig.ft.com/us-election-2020/  \n",
       "7  https://en.wikipedia.org/wiki/2020_United_Stat...  "
      ]
     },
     "execution_count": 136,
     "metadata": {},
     "output_type": "execute_result"
    }
   ],
   "source": [
    "url_list = []\n",
    "text_list = []\n",
    "\n",
    "for search_result in search_result_list:\n",
    "    link_node = search_result.find(\"a\")\n",
    "    url_list.append(link_node.attrs['href'])\n",
    "    text_list.append(link_node.contents[1].get_text())\n",
    "\n",
    "search_result_df = pd.DataFrame({'text': text_list, 'url': url_list})    \n",
    "search_result_df"
   ]
  },
  {
   "cell_type": "markdown",
   "metadata": {},
   "source": [
    "Navigating around the search result is just a repeated application of generating keystrokes with `selenium`:"
   ]
  },
  {
   "cell_type": "code",
   "execution_count": 87,
   "metadata": {},
   "outputs": [],
   "source": [
    "driver.find_element_by_id(\"pnnext\").send_keys(Keys.RETURN)"
   ]
  },
  {
   "cell_type": "markdown",
   "metadata": {},
   "source": [
    "Or we can click on an element using the `click()` method:"
   ]
  },
  {
   "cell_type": "code",
   "execution_count": 160,
   "metadata": {},
   "outputs": [],
   "source": [
    "driver.find_element_by_id(\"pnnext\").click() "
   ]
  },
  {
   "cell_type": "markdown",
   "metadata": {},
   "source": [
    "`WebDriver`'s `back()` and `forward()` methods allow us to move backward and forward in the browser's history:\n"
   ]
  },
  {
   "cell_type": "code",
   "execution_count": 161,
   "metadata": {},
   "outputs": [],
   "source": [
    "driver.back()      # driver.driver.forward()"
   ]
  },
  {
   "cell_type": "markdown",
   "metadata": {},
   "source": [
    "`.refresh()` refreshes the current page:"
   ]
  },
  {
   "cell_type": "code",
   "execution_count": 162,
   "metadata": {},
   "outputs": [],
   "source": [
    "driver.refresh()"
   ]
  },
  {
   "cell_type": "markdown",
   "metadata": {},
   "source": [
    "When we are finished with the browser session, we should close the browser window:"
   ]
  },
  {
   "cell_type": "code",
   "execution_count": 101,
   "metadata": {},
   "outputs": [],
   "source": [
    "driver.close() "
   ]
  },
  {
   "cell_type": "markdown",
   "metadata": {},
   "source": [
    "<div class=\"alert alert-info\"> We can also call quit() method instead of close(). quit() will exit entire browser whereas close() will close one tab.</div>"
   ]
  }
 ],
 "metadata": {
  "colab": {
   "collapsed_sections": [],
   "name": "Untitled2.ipynb",
   "provenance": []
  },
  "kernelspec": {
   "display_name": "Python 3",
   "language": "python",
   "name": "python3"
  },
  "language_info": {
   "codemirror_mode": {
    "name": "ipython",
    "version": 3
   },
   "file_extension": ".py",
   "mimetype": "text/x-python",
   "name": "python",
   "nbconvert_exporter": "python",
   "pygments_lexer": "ipython3",
   "version": "3.8.3"
  }
 },
 "nbformat": 4,
 "nbformat_minor": 1
}
