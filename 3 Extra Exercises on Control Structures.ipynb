{
 "cells": [
  {
   "cell_type": "markdown",
   "metadata": {
    "id": "zVGeAdZ84qtS"
   },
   "source": [
    "## Extra Exercies on Control Structures\n",
    "\n",
    "For each question below, please write the corresponding code, and then run the code to show the output. This extra exercise will NOT be graded."
   ]
  },
  {
   "cell_type": "markdown",
   "metadata": {
    "id": "ObM4BlC79iOo"
   },
   "source": [
    "1) Consider the following tree representation of decision rules, which produces a binary outcome (either 'Yes' or 'No') — whether a golf game should be played ('Yes') or canceled ('No'), based on 3 attributes (i.e., Outlook, Humidity, and Wind) of a particular day:\n",
    "\n",
    " ![](https://drive.google.com/uc?export=download&id=14PBnKYLOPBXhrCooGJJaKaEuU7kg2Jky)\n",
    " \n",
    "\n",
    "Suppose that we have a day record stored in a `dict` object as follows:\n",
    "\n",
    "```python\n",
    "day = {'Outlook': 'Rain', 'Wind': 'Strong', 'Humidity': 'Normal'} \n",
    "```\n",
    "\n",
    "- Use an `if` statement possibly nesting other `if` statements to describe the decision rules expressed by this tree. The actual decisions can be operationalized as invocations of either `print('Yes')` or `print('No')`.\n",
    "\n",
    "- Can you compose a single logical expression that predicts whether a golf game should be played on the day with `True` representing 'Yes' and\n",
    "`False` representing 'No'.\n",
    "\n"
   ]
  },
  {
   "cell_type": "markdown",
   "metadata": {
    "id": "x4F4QT2O4qtU"
   },
   "source": [
    "2) Given a sentence: `\"Python is a high-level language for general-purpose programming\"`. Write code to print the index positions (16 and 43) for all `\"-\"` in the sentence. The output should look like: \n",
    " "
   ]
  },
  {
   "cell_type": "markdown",
   "metadata": {
    "id": "coKQKMZdhrKQ"
   },
   "source": [
    "3) Given a grading system:\n",
    "\n",
    "A: 90-100\n",
    "\n",
    "B: 80-90\n",
    "\n",
    "C: 70-80\n",
    "\n",
    "D: 60-70\n",
    "\n",
    "F: 0-60\n",
    "\n",
    "\n",
    "- Use `if/elif/else` to write a program to determine a student grade based on the above grading criteria. The student needs to enter his/her total mark before the process.\n",
    "\n",
    "- Create a list `scores` to store the following scores of 10 students: `67, 89, 45, 67, 90, 56, 88, 98, 39, 100`. Modify the program to determine the grades of these 10 students."
   ]
  },
  {
   "cell_type": "markdown",
   "metadata": {
    "id": "W4yooIOH3lIo"
   },
   "source": [
    "4) \n",
    "Suppose that a principal of $2000 is placed in a savings account at 15% per annum compounded *annually*. Write a `while` loop to calculate how long it will take for the future value to become **m** (e.g., `2` or `3`) times of its initial deposit.\n",
    " \n",
    " \n",
    "Your final result should be:\n",
    "\n",
    "```python\n",
    "\"After X years, the amount would become $XXXXX.XX\"\n",
    "```\n",
    "\n",
    "Recap the formula that calculates the future value of an investment is:\n",
    "\n",
    "\\begin{align}\n",
    "a & = P (1+r)^{t}\n",
    "\\end{align}\n",
    "\n",
    "where:\n",
    "- a = the future value of the investment/loan, including interest\n",
    "- P = the principal investment amount (the initial deposit or loan amount)\n",
    "- r = the annual interest rate (decimal)\n",
    "- t = the number of years the money is invested or borrowed for\n"
   ]
  },
  {
   "cell_type": "markdown",
   "metadata": {
    "id": "gIbC9BTL4qtV"
   },
   "source": [
    "5) Create a Python data structure that can hold the following data in it (you may pick any data structure that suits the task), and print it out like the following: (Note that there are three spaces added between the numbers and the texts; and there is no extra spacing between each lines.)\n",
    "\n",
    "```\n",
    "1   Soccer   \n",
    "2   Tennis   \n",
    "3   Badminton   \n",
    "4   Swimming   \n",
    "``` "
   ]
  },
  {
   "cell_type": "markdown",
   "metadata": {
    "id": "5u6a0hHW4qtW"
   },
   "source": [
    "6) What if I want to print like the following instead (with each sports and its number in the center of a 20-character space)? Redefine a data structure that suits your needs better for this printout requirement. \n",
    "\n",
    "```\n",
    "         1                   2                   3                   4          \n",
    "       Soccer              Tennis            Badminton            Swimming      \n",
    "```"
   ]
  },
  {
   "cell_type": "markdown",
   "metadata": {
    "id": "NMCJFEje4qtX"
   },
   "source": [
    "### Questions 7~8 belong to a word counting problem"
   ]
  },
  {
   "cell_type": "markdown",
   "metadata": {
    "id": "NkE8D3bL4qtX"
   },
   "source": [
    "7) Given a sentence `\"Not sure if you should learn VBA, or Python, or JAVA? Come and try Python first and you'd love it!\"`, write a program to compute the frequency of each word in the sentence, and store the results in a dictionary, and print the dictionary out as following: \n",
    "\n",
    "```python\n",
    "{'N': 1, 'o': 10, 't': 6, ' ': 19, 's': 3, 'u': 4, 'r': 6, 'e': 4, 'i': 3, 'f': 2, 'y': 5, 'h': 3, 'l': 3, 'd': 4, 'a': 3, 'n': 5, 'V': 2, 'B': 1, 'A': 3, ',': 2, 'P': 2, 'J': 1, '?': 1, 'C': 1, 'm': 1, \"'\": 1, 'v': 1, '!': 1}\n",
    "```"
   ]
  },
  {
   "cell_type": "markdown",
   "metadata": {
    "id": "wCp8wBt_4qtY"
   },
   "source": [
    "8) Write code to verify if all values in the dictionary (all frequency counts) add up to 98. If not, then your previous answer was wrong. "
   ]
  },
  {
   "cell_type": "markdown",
   "metadata": {
    "id": "hw75T8Nm4qtZ"
   },
   "source": [
    "### Questions 9~10 belong to an email list problem"
   ]
  },
  {
   "cell_type": "markdown",
   "metadata": {
    "id": "EK2qtS7n4qta"
   },
   "source": [
    "9) Assuming that you have a list of email addresses as following: \n",
    "\n",
    "`['johnw@ust.hk','wangxb@ust.hk','amyxu@google.com','wind123@google.com']`\n",
    "\n",
    "Write a program to print only the user name (the portion before @) of each email address, one on each line as following:\n",
    "\n",
    "```\n",
    "johnw\n",
    "wangxb\n",
    "amyxu\n",
    "wind123\n",
    "```\n",
    "\n",
    "Hint: Both list and string data types support indexing! And `print(..., end='')` allows the next item to be printed right after the current printed item (instead of printing the next item on a new line as it would normally do). "
   ]
  },
  {
   "cell_type": "markdown",
   "metadata": {
    "id": "yMUbznLZ4qtb"
   },
   "source": [
    "10) Write a program to count how many emails in the list are ust emails, and how many are google emails (assuming you know that these are the only two types of emails you have in the list). Print both counts, which should be `2 2`"
   ]
  },
  {
   "cell_type": "markdown",
   "metadata": {
    "id": "J1KbmSQE4qtb"
   },
   "source": [
    "### Questions 11~13 belong to a numeric problem"
   ]
  },
  {
   "cell_type": "markdown",
   "metadata": {
    "id": "nc-xCL9b4qtc"
   },
   "source": [
    "11) Print a sequence of integers from 1 to 100, such that if an integer is divisible by 2, print \"-\" instead; if an integer is divisible by 3, print \"#\"; if an integer is divisible by both 2 and 3, print \"*\", all other integers just print as they are. The result should be like: \n",
    "\n",
    "`1-#-5*7-#-11*13-#-17*19-#-23*25-#-29*31-#-35*37-#-41*43-#-47*49-#-53*55-#-59*61-#-65*67-#-71*73-#-77*79-#-83*85-#-89*91-#-95*97-#-`"
   ]
  },
  {
   "cell_type": "markdown",
   "metadata": {
    "id": "PDmRH4ED4qtd"
   },
   "source": [
    "12) Can you modify the previous program to make it stop printing before the fourth star `*`? The result would be like `1-#-5*7-#-11*13-#-17*19-#-23`"
   ]
  },
  {
   "cell_type": "markdown",
   "metadata": {
    "id": "YDw1PJT44qte"
   },
   "source": [
    "13) What if I want to stop printing right after the third star? The result should be like `1-#-5*7-#-11*13-#-17*`"
   ]
  },
  {
   "cell_type": "markdown",
   "metadata": {
    "id": "c2acAZMuE72N"
   },
   "source": [
    "14) Print the characters in `'goooogle'` in a reverse order. The output should look like `elgoooog`. (Hint: consider use two list methods `append()` and `pop()`)"
   ]
  },
  {
   "cell_type": "markdown",
   "metadata": {
    "id": "DjUvybpTGYvp"
   },
   "source": [
    "15) Write a word guessing game (a version of hangman game). The word to guess is represented by a row of dashes such as `_ _ _ _ _`. If the player guesses a letter which exists in the word, the script writes it in all its correct positions. The player has 10 turns to guess the word. \n",
    "\n",
    "Write your code to first accept a secret word. Then a player will have 10 turns to guess the word. In every round, a player is allowed to enter one character only. If the guessed character is not in the secret word, then print \"Wrong guess!\". If the character is in the secret word, then it will be printed in all its correct positions in the secret word, while the incorrectly guessed positions will display \"_\". If a player successfully guesses the whole word within 10 turns, then print \"You win!\"; if a player can't guess the secret word after 10 rounds, then print \"You loose!\"\n",
    "\n",
    "For example, a loosing example can be: \n",
    " \n",
    "```\n",
    "Please enter your secret word: muller\n",
    "Please guess one character: m\n",
    "['m', '_', '_', '_', '_', '_']\n",
    "Please guess one character: m\n",
    "['m', '_', '_', '_', '_', '_']\n",
    "Please guess one character: m\n",
    "['m', '_', '_', '_', '_', '_']\n",
    "Please guess one character: m\n",
    "['m', '_', '_', '_', '_', '_']\n",
    "Please guess one character: m\n",
    "['m', '_', '_', '_', '_', '_']\n",
    "Please guess one character: m\n",
    "['m', '_', '_', '_', '_', '_']\n",
    "Please guess one character: m\n",
    "['m', '_', '_', '_', '_', '_']\n",
    "Please guess one character: m\n",
    "['m', '_', '_', '_', '_', '_']\n",
    "Please guess one character: m\n",
    "['m', '_', '_', '_', '_', '_']\n",
    "Please guess one character: m\n",
    "['m', '_', '_', '_', '_', '_']\n",
    "You loose!\n",
    "```\n",
    "\n",
    "A wining example can be: \n",
    "\n",
    "```\n",
    "Please enter your secret word: muller\n",
    "Please guess one character: m\n",
    "['m', '_', '_', '_', '_', '_']\n",
    "Please guess one character: u\n",
    "['m', 'u', '_', '_', '_', '_']\n",
    "Please guess one character: r\n",
    "['m', 'u', '_', '_', '_', 'r']\n",
    "Please guess one character: l\n",
    "['m', 'u', 'l', 'l', '_', 'r']\n",
    "Please guess one character: a\n",
    "['m', 'u', 'l', 'l', '_', 'r']\n",
    "Please guess one character: e\n",
    "['m', 'u', 'l', 'l', 'e', 'r']\n",
    "You win!\n",
    "```"
   ]
  }
 ],
 "metadata": {
  "colab": {
   "collapsed_sections": [],
   "name": "Copy of 3 Extra Exercises on Control Structures.ipynb",
   "provenance": []
  },
  "kernelspec": {
   "display_name": "Python 3",
   "language": "python",
   "name": "python3"
  },
  "language_info": {
   "codemirror_mode": {
    "name": "ipython",
    "version": 3
   },
   "file_extension": ".py",
   "mimetype": "text/x-python",
   "name": "python",
   "nbconvert_exporter": "python",
   "pygments_lexer": "ipython3",
   "version": "3.8.3"
  }
 },
 "nbformat": 4,
 "nbformat_minor": 1
}
