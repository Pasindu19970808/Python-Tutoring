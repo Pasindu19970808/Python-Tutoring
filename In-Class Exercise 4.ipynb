{
 "cells": [
  {
   "cell_type": "markdown",
   "metadata": {},
   "source": [
    "We are going to use functionalties provided by Beautiful Soup and Selenium to scrape data available on an Amazon product webpage.\n",
    "\n",
    "Run the following code snippet to import all necessary tools:\n",
    "\n",
    " "
   ]
  },
  {
   "cell_type": "code",
   "execution_count": 2,
   "metadata": {},
   "outputs": [],
   "source": [
    "from bs4 import BeautifulSoup\n",
    "from selenium.webdriver import Chrome\n",
    "from selenium.webdriver.common.keys import Keys"
   ]
  },
  {
   "cell_type": "markdown",
   "metadata": {},
   "source": [
    "We start with a [seed page](https://www.amazon.com/Learning-Python-Powerful-Object-Oriented-Programming-ebook/dp/B00DDZPC9S). The following code snippet drives the ChromeDriver to open the page and read in the source code:"
   ]
  },
  {
   "cell_type": "code",
   "execution_count": 3,
   "metadata": {},
   "outputs": [],
   "source": [
    "driver = Chrome()     # you can also provide the pathname to the binary file as the argument\n",
    "driver.get(\"https://www.amazon.com/Learning-Python-Powerful-Object-Oriented-Programming-ebook/dp/B00DDZPC9S\")"
   ]
  },
  {
   "cell_type": "markdown",
   "metadata": {},
   "source": [
    "We are going to find the product pages to be scraped by looking at items displayed in the \"Customers who bought this item also bought\" carousel.\n",
    "\n",
    "<img src=\"https://raw.githubusercontent.com/justinjiajia/img/master/python/carousel.png\" width=750   />\n",
    "\n",
    "The carousel format organizes the details about each item in a card, and dispays only a proper number of cards to fit the width of the browser window. The rest of cards are displayed in separate slides, which can be navigated by clicking the left and right arrow button on the two ends of the carousel window.\n",
    "\n",
    "When using the Chrome browser's developer tools function to inspect the raw content of this page, you will find the piece of HTML that displays the carousel is as follows:\n",
    "\n",
    "```html\n",
    "\n",
    "<div class=\"a-section a-spacing-large bucket\" id=\"desktop-dp-sims_purchase-similarities-sims-feature\">\n",
    "    ...\n",
    "</div>    \n",
    "```\n",
    "\n",
    "or\n",
    "\n",
    "```html\n",
    "<div class=\"a-section a-spacing-large bucket\" id=\"desktop-dp-sims_purchase-similarities-esp-sims-feature\">\n",
    "    ...\n",
    "</div> \n",
    "```\n",
    "Write code to locate this tag and name the returned `Tag` object `carousel`:\n"
   ]
  },
  {
   "cell_type": "code",
   "execution_count": 5,
   "metadata": {},
   "outputs": [],
   "source": [
    "# Write your code here\n",
    "\n",
    "bs_amazon_pg = BeautifulSoup(driver.page_source, 'html.parser')\n",
    "carousel = bs_amazon_pg.find('div', {'id': 'desktop-dp-sims_purchase-similarities-esp-sims-feature'})"
   ]
  },
  {
   "cell_type": "code",
   "execution_count": 6,
   "metadata": {},
   "outputs": [
    {
     "name": "stdout",
     "output_type": "stream",
     "text": [
      "<div class=\"a-section a-spacing-large bucket\" id=\"desktop-dp-sims_purchase-similarities-esp-sims-feature\">\n",
      " <div class=\"a-begin a-carousel-container a-carousel-display-swap a-carousel-transition-swap similarities-aui-carousel p13n-sc-carousel a-carousel-initialized\" data-a-carousel-options='{\"ajax\":{\"params\":{\"asinMetadataKeys\":\"adId:ParentReasonId:ParentReasonId.substitutions.purchase_date:rId\",\"widgetTemplateClass\":\"PI::Similarities::ViewTemplates::Carousel::Desktop\",\"linkGetParameters\":\"{\\\"pd_rd_wg\\\":\\\"IJFur\\\",\\\"pd_rd_r\\\":\\\"ea50a232-cae9-47f4-8d63-36582ce2e9fd\\\",\\\"pf_rd_r\\\":\\\"QMB0JT1V7SAVAZRETBJE\\\",\\\"pf_rd_p\\\":\\\"ec5f570b-7db1-4816-9bbe-a67d0b1d643f\\\",\\\"pd_rd_w\\\":\\\"B7AMs\\\"}\",\"productDetailsTemplateClass\":\"PI::P13N::ViewTemplates::ProductDetails::Desktop::DeliverySpeed\",\"forceFreshWin\":0,\"painterId\":\"PersonalizationDesktopSimilaritiesCarousel\",\"featureId\":\"SimilaritiesCarousel\",\"reftagPrefix\":\"pd_sim_nf_351\",\"imageHeight\":160,\"faceoutTemplateClass\":\"PI::P13N::ViewTemplates::Product::Desktop::CarouselFaceout\",\"imageWidth\":160,\"auiDeviceType\":\"desktop\",\"schemaVersion\":2,\"relatedRequestID\":\"QMB0JT1V7SAVAZRETBJE\",\"productDataFlavor\":\"FaceoutAddToCartShippingPromises\",\"maxLineCount\":6,\"faceoutArgs\":\"{\\\"productDetailsTemplateClass\\\":\\\"PI::P13N::ViewTemplates::ProductDetails::Desktop::DeliverySpeed\\\"}\"},\"id_list\":[\"B004GTLFJ6::::\",\"B00HZ41PGC::::\",\"B00DQV4GGY::::\",\"B07J4521M3::::\",\"B075X4LT6K::::\",\"B0131L3PW4::::\",\"B07VSXS4NK::::\",\"B01N2JT3ST::::\",\"B0815R5543::::\",\"B07XGF2G87::::\",\"B01M0LNE8C::::\",\"B018UXJ9EQ::::\",\"B07BMGBYSK::::\",\"B06Y4DVSBM::::\",\"B07378P8W6::::\",\"B00F2ZO8Z6::::\",\"B085HDSWR3::::\",\"B088P9Q6BB::::\",\"B01N0GU0OC::::\",\"B07ZG18BH3::::\",\"B01NAJAEN5::::\",\"B01L9W8CVG::::\",\"B07QPC8RZX::::\",\"B07L8NMW2P::::\",\"B07JG9BQZC::::\",\"B07T8XF5HH::::\",\"B00LPUIB8C::::\",\"B01BXGUIWY::::\",\"B07J43H42Z::::\",\"B07L3BFG49::::\",\"B0785Q7GSY::::\",\"B074S4G1L5::::\",\"B0043GXMSY::::\",\"B082P97LDW::::\",\"B01M60UJY9::::\",\"B009ZUZ9FW::::\",\"B085P1GT72::::\",\"B085KB31X3::::\",\"B07M5ZDV62::::\",\"B07KSQ9RKF::::\",\"B00PKTGLWM::::\",\"B083KFRKG6::::\",\"B082T3DLC1::::\",\"B08712TT3F::::\",\"B07BC3LFKT::::\",\"B074HXXXLS::::\",\"B08FH8N996::::\",\"B07S9WFD92::::\",\"B077WZSHJV::::\",\"B0868ZJXFK::::\",\"B07CZ4W8X2::::\",\"B089Y5P85X::::\",\"B076C4WLBP::::\",\"B08D7T9J3Z::::\",\"B0816C5R6Y::::\",\"B002YYWEHW::::\",\"B087YTVL8F::::\",\"B008Y4OR3A::::\",\"B083M7DBP6::::\",\"B07B8DCCN7::::\",\"B01MS66Y6M::::\",\"B07TDVNC15::::\",\"B08BT7YCSW::::\",\"B07R5PZZNN::::\",\"B004D4Y302::::\",\"B002EF2AQ6::::\",\"B00TKGY0GU::::\",\"B0842X2C28::::\",\"B07VRS84D1::::\",\"B07ZY7XMX8::::\",\"B01BYJO2JU::::\",\"B086L2NYWR::::\",\"B074RB2FT2::::\",\"B01IA5VIFM::::\",\"B07MGCNKXB::::\",\"B08BTB8ND5::::\",\"B071Z2Q6TQ::::\",\"B00683GXUO::::\",\"B0043GXMPW::::\",\"B0093SZ4QU::::\",\"B07P8D1K9B::::\",\"B07Y5WSCV2::::\",\"B010RHZ208::::\",\"B00RZDNL5Q::::\",\"B01IBM7790::::\",\"B0789WKTKJ::::\",\"B004GTLFDM::::\",\"B00V7B1IZC::::\",\"B07KJQN1CC::::\",\"B08KWRQFW1::::\",\"B086SQTXCV::::\"],\"url\":\"/gp/p13n-shared/faceout-partial\",\"id_param_name\":\"asins\"},\"baseAsin\":\"B00DDZPC9S\",\"name\":\"desktop-dp-sims_purchase-similarities-esp\",\"set_size\":91}' data-a-class=\"desktop\" data-a-display-strategy=\"swap\" data-a-transition-strategy=\"swap\" data-p13n-asin-metadata='{\"B01IA5VIFM\":{},\"B083KFRKG6\":{},\"B08D7T9J3Z\":{},\"B0131L3PW4\":{},\"B00HZ41PGC\":{},\"B018UXJ9EQ\":{},\"B089Y5P85X\":{},\"B086L2NYWR\":{},\"B01BYJO2JU\":{},\"B085P1GT72\":{},\"B083M7DBP6\":{},\"B07KJQN1CC\":{},\"B008Y4OR3A\":{},\"B00RZDNL5Q\":{},\"B0043GXMSY\":{},\"B01N2JT3ST\":{},\"B00PKTGLWM\":{},\"B071Z2Q6TQ\":{},\"B075X4LT6K\":{},\"B07Y5WSCV2\":{},\"B07MGCNKXB\":{},\"B07JG9BQZC\":{},\"B0785Q7GSY\":{},\"B00DQV4GGY\":{},\"B0815R5543\":{},\"B07P8D1K9B\":{},\"B08BTB8ND5\":{},\"B004GTLFDM\":{},\"B07L8NMW2P\":{},\"B07J4521M3\":{},\"B07CZ4W8X2\":{},\"B00683GXUO\":{},\"B01MS66Y6M\":{},\"B085HDSWR3\":{},\"B0816C5R6Y\":{},\"B082P97LDW\":{},\"B07VRS84D1\":{},\"B07BC3LFKT\":{},\"B010RHZ208\":{},\"B01BXGUIWY\":{},\"B01L9W8CVG\":{},\"B0789WKTKJ\":{},\"B08BT7YCSW\":{},\"B07378P8W6\":{},\"B07XGF2G87\":{},\"B074RB2FT2\":{},\"B088P9Q6BB\":{},\"B077WZSHJV\":{},\"B086SQTXCV\":{},\"B07VSXS4NK\":{},\"B07ZY7XMX8\":{},\"B07J43H42Z\":{},\"B00F2ZO8Z6\":{},\"B0093SZ4QU\":{},\"B085KB31X3\":{},\"B0043GXMPW\":{},\"B082T3DLC1\":{},\"B06Y4DVSBM\":{},\"B07M5ZDV62\":{},\"B07KSQ9RKF\":{},\"B07ZG18BH3\":{},\"B01N0GU0OC\":{},\"B0868ZJXFK\":{},\"B07T8XF5HH\":{},\"B07L3BFG49\":{},\"B01M60UJY9\":{},\"B07QPC8RZX\":{},\"B074S4G1L5\":{},\"B07BMGBYSK\":{},\"B07S9WFD92\":{},\"B08712TT3F\":{},\"B004D4Y302\":{},\"B00V7B1IZC\":{},\"B076C4WLBP\":{},\"B009ZUZ9FW\":{},\"B07TDVNC15\":{},\"B07B8DCCN7\":{},\"B07R5PZZNN\":{},\"B074HXXXLS\":{},\"B002EF2AQ6\":{},\"B01NAJAEN5\":{},\"B01IBM7790\":{},\"B00TKGY0GU\":{},\"B01M0LNE8C\":{},\"B00LPUIB8C\":{},\"B002YYWEHW\":{},\"B0842X2C28\":{},\"B08KWRQFW1\":{},\"B08FH8N996\":{},\"B004GTLFJ6\":{},\"B087YTVL8F\":{}}' data-p13n-feature-metadata='{\"baseAsin\":\"B00DDZPC9S\",\"pd_rd_wg\":\"IJFur\",\"pd_rd_r\":\"ea50a232-cae9-47f4-8d63-36582ce2e9fd\",\"pf_rd_r\":\"QMB0JT1V7SAVAZRETBJE\",\"pf_rd_p\":\"ec5f570b-7db1-4816-9bbe-a67d0b1d643f\",\"pd_rd_w\":\"B7AMs\"}' data-p13n-feature-name=\"pd_sim_nf_351\" data-p13n-global='{\"auiDeviceType\":\"desktop\",\"marketplaceId\":\"ATVPDKIKX0DER\",\"requestId\":\"QMB0JT1V7SAVAZRETBJE\",\"marketplace\":\"US\",\"customerId\":0,\"session\":\"131-1505432-1604003\"}'>\n",
      "  <input autocomplete=\"on\" class=\"a-carousel-firstvisibleitem\" type=\"hidden\"/>\n",
      "  <div class=\"a-row a-carousel-header-row a-size-large\">\n",
      "   <div class=\"a-column a-span8\">\n",
      "    <h2 class=\"a-carousel-heading\">\n",
      "     Customers who bought this item also bought\n",
      "    </h2>\n",
      "   </div>\n",
      "   <div class=\"a-column a-span4 a-span-last a-text-right\">\n",
      "    <span class=\"a-carousel-pagination a-size-base\" style=\"visibility: visible;\">\n",
      "     <span class=\"a-carousel-page-count\">\n",
      "      Page\n",
      "      <span class=\"a-carousel-page-current\">\n",
      "       1\n",
      "      </span>\n",
      "      of\n",
      "      <span class=\"a-carousel-page-max\">\n",
      "       16\n",
      "      </span>\n",
      "     </span>\n",
      "     <span class=\"a-carousel-restart-container\" style=\"display: none;\">\n",
      "      <span class=\"a-text-separator\">\n",
      "      </span>\n",
      "      <a class=\"a-carousel-restart\" href=\"#\">\n",
      "       Start over\n",
      "      </a>\n",
      "     </span>\n",
      "     <span aria-live=\"polite\" class=\"a-carousel-accessibility-page-info a-offscreen\">\n",
      "      Page 1 of 16\n",
      "     </span>\n",
      "    </span>\n",
      "   </div>\n",
      "  </div>\n",
      "  <span class=\"aok-offscreen p13n-sc-offscreen\">\n",
      "   This shopping feature will continue to load items when the Enter key is pressed. In order to navigate out of this carousel please use your heading shortcut key to navigate to the next or previous heading.\n",
      "  </span>\n",
      "  <div class=\"a-row a-carousel-controls a-carousel-row a-carousel-has-buttons\">\n",
      "   <div class=\"a-carousel-row-inner\">\n",
      "    <div class=\"a-carousel-col a-carousel-left\" style=\"height: 339px; visibility: visible;\">\n",
      "     <a class=\"a-button a-button-image a-carousel-button a-carousel-goto-prevpage\" href=\"#\" id=\"a-autoid-5\" style=\"top: 135.594px;\" tabindex=\"0\">\n",
      "      <span class=\"a-button-inner\">\n",
      "       <i class=\"a-icon a-icon-previous\">\n",
      "        <span class=\"a-icon-alt\">\n",
      "         Back\n",
      "        </span>\n",
      "       </i>\n",
      "      </span>\n",
      "     </a>\n",
      "    </div>\n",
      "    <div class=\"a-carousel-col a-carousel-center\">\n",
      "     <div class=\"a-carousel-viewport\" id=\"anonCarousel2\" style=\"height: 339px;\">\n",
      "      <ol class=\"a-carousel\" role=\"list\">\n",
      "       <li aria-hidden=\"false\" aria-posinset=\"1\" aria-setsize=\"91\" class=\"a-carousel-card aok-float-left\" role=\"listitem\" style=\"margin-left: 18px;\">\n",
      "        <div class=\"a-section a-spacing-none p13n-asin\" data-p13n-asin-metadata='{\"ref\":\"pd_sim_nf_351_1\",\"asin\":\"B004GTLFJ6\"}'>\n",
      "         <a class=\"a-link-normal\" href=\"/Programming-Python-Powerful-Object-Oriented-ebook/dp/B004GTLFJ6/ref=pd_sim_nf_351_1/131-1505432-1604003?_encoding=UTF8&amp;pd_rd_i=B004GTLFJ6&amp;pd_rd_r=ea50a232-cae9-47f4-8d63-36582ce2e9fd&amp;pd_rd_w=B7AMs&amp;pd_rd_wg=IJFur&amp;pf_rd_p=ec5f570b-7db1-4816-9bbe-a67d0b1d643f&amp;pf_rd_r=QMB0JT1V7SAVAZRETBJE&amp;psc=1&amp;refRID=QMB0JT1V7SAVAZRETBJE\">\n",
      "          <div class=\"a-section a-spacing-mini\">\n",
      "           <img alt=\"Programming Python: Powerful Object-Oriented Programming\" class=\"a-dynamic-image p13n-sc-dynamic-image\" data-a-dynamic-image='{\"https://images-na.ssl-images-amazon.com/images/I/9122eE339dL.__BG0,0,0,0_FMpng_AC_UL480_SR366,480_.jpg\":[480,366],\"https://images-na.ssl-images-amazon.com/images/I/9122eE339dL.__BG0,0,0,0_FMpng_AC_UL320_SR244,320_.jpg\":[320,244],\"https://images-na.ssl-images-amazon.com/images/I/9122eE339dL.__BG0,0,0,0_FMpng_AC_UL160_SR122,160_.jpg\":[160,122]}' height=\"160\" src=\"https://images-na.ssl-images-amazon.com/images/I/9122eE339dL.__BG0,0,0,0_FMpng_AC_UL480_SR366,480_.jpg\" width=\"122\"/>\n",
      "          </div>\n",
      "          <div aria-hidden=\"true\" class=\"p13n-sc-truncate-desktop-type2 p13n-sc-truncated\" data-rows=\"3\">\n",
      "           Programming Python: Powerful Object-Oriented Programming\n",
      "          </div>\n",
      "         </a>\n",
      "         <div class=\"a-row a-size-small\">\n",
      "          <a class=\"a-size-small a-link-child\" href=\"/Mark-Lutz/e/B000APH2C4/ref=pd_sim_nf_351_bl_1/131-1505432-1604003?_encoding=UTF8&amp;pd_rd_i=B004GTLFJ6&amp;pd_rd_r=ea50a232-cae9-47f4-8d63-36582ce2e9fd&amp;pd_rd_w=B7AMs&amp;pd_rd_wg=IJFur&amp;pf_rd_p=ec5f570b-7db1-4816-9bbe-a67d0b1d643f&amp;pf_rd_r=QMB0JT1V7SAVAZRETBJE&amp;refRID=QMB0JT1V7SAVAZRETBJE\">\n",
      "           Mark Lutz\n",
      "          </a>\n",
      "         </div>\n",
      "         <div class=\"a-icon-row a-spacing-none\">\n",
      "          <a class=\"a-link-normal\" href=\"/product-reviews/B004GTLFJ6/ref=pd_sim_nf_351_cr_1/131-1505432-1604003?ie=UTF8&amp;pd_rd_i=B004GTLFJ6&amp;pd_rd_r=ea50a232-cae9-47f4-8d63-36582ce2e9fd&amp;pd_rd_w=B7AMs&amp;pd_rd_wg=IJFur&amp;pf_rd_p=ec5f570b-7db1-4816-9bbe-a67d0b1d643f&amp;pf_rd_r=QMB0JT1V7SAVAZRETBJE&amp;refRID=QMB0JT1V7SAVAZRETBJE\" title=\"4.5 out of 5 stars\">\n",
      "           <i class=\"a-icon a-icon-star a-star-4-5 aok-align-top\">\n",
      "            <span class=\"a-icon-alt\">\n",
      "             4.5 out of 5 stars\n",
      "            </span>\n",
      "           </i>\n",
      "          </a>\n",
      "          <a class=\"a-size-small a-link-normal\" href=\"/product-reviews/B004GTLFJ6/ref=pd_sim_nf_351_cr_1/131-1505432-1604003?ie=UTF8&amp;pd_rd_i=B004GTLFJ6&amp;pd_rd_r=ea50a232-cae9-47f4-8d63-36582ce2e9fd&amp;pd_rd_w=B7AMs&amp;pd_rd_wg=IJFur&amp;pf_rd_p=ec5f570b-7db1-4816-9bbe-a67d0b1d643f&amp;pf_rd_r=QMB0JT1V7SAVAZRETBJE&amp;refRID=QMB0JT1V7SAVAZRETBJE\">\n",
      "           169\n",
      "          </a>\n",
      "         </div>\n",
      "         <div class=\"a-row a-size-small\">\n",
      "          <span class=\"a-size-small a-color-secondary\">\n",
      "           Kindle Edition\n",
      "          </span>\n",
      "         </div>\n",
      "         <div class=\"a-row\">\n",
      "          <a class=\"a-link-normal a-text-normal\" href=\"/Programming-Python-Powerful-Object-Oriented-ebook/dp/B004GTLFJ6/ref=pd_sim_nf_351_1/131-1505432-1604003?_encoding=UTF8&amp;pd_rd_i=B004GTLFJ6&amp;pd_rd_r=ea50a232-cae9-47f4-8d63-36582ce2e9fd&amp;pd_rd_w=B7AMs&amp;pd_rd_wg=IJFur&amp;pf_rd_p=ec5f570b-7db1-4816-9bbe-a67d0b1d643f&amp;pf_rd_r=QMB0JT1V7SAVAZRETBJE&amp;psc=1&amp;refRID=QMB0JT1V7SAVAZRETBJE\">\n",
      "           <span class=\"a-size-base a-color-price\">\n",
      "            <span class=\"p13n-sc-price\">\n",
      "             $37.49\n",
      "            </span>\n",
      "           </span>\n",
      "          </a>\n",
      "         </div>\n",
      "        </div>\n",
      "       </li>\n",
      "       <li aria-hidden=\"false\" aria-posinset=\"2\" aria-setsize=\"91\" class=\"a-carousel-card aok-float-left\" role=\"listitem\" style=\"margin-left: 18px;\">\n",
      "        <div class=\"a-section a-spacing-none p13n-asin\" data-p13n-asin-metadata='{\"ref\":\"pd_sim_nf_351_2\",\"asin\":\"B00HZ41PGC\"}'>\n",
      "         <a class=\"a-link-normal\" href=\"/Python-Pocket-Reference-Your-OReilly-ebook/dp/B00HZ41PGC/ref=pd_sim_nf_351_2/131-1505432-1604003?_encoding=UTF8&amp;pd_rd_i=B00HZ41PGC&amp;pd_rd_r=ea50a232-cae9-47f4-8d63-36582ce2e9fd&amp;pd_rd_w=B7AMs&amp;pd_rd_wg=IJFur&amp;pf_rd_p=ec5f570b-7db1-4816-9bbe-a67d0b1d643f&amp;pf_rd_r=QMB0JT1V7SAVAZRETBJE&amp;psc=1&amp;refRID=QMB0JT1V7SAVAZRETBJE\">\n",
      "          <div class=\"a-section a-spacing-mini\">\n",
      "           <img alt=\"Python Pocket Reference: Python In Your Pocket (Pocket Reference (O'Reilly))\" class=\"a-dynamic-image p13n-sc-dynamic-image\" data-a-dynamic-image='{\"https://images-na.ssl-images-amazon.com/images/I/810CfIYssML.__BG0,0,0,0_FMpng_AC_UL160_SR97,160_.jpg\":[160,97],\"https://images-na.ssl-images-amazon.com/images/I/810CfIYssML.__BG0,0,0,0_FMpng_AC_UL320_SR194,320_.jpg\":[320,194],\"https://images-na.ssl-images-amazon.com/images/I/810CfIYssML.__BG0,0,0,0_FMpng_AC_UL480_SR291,480_.jpg\":[480,291]}' height=\"160\" src=\"https://images-na.ssl-images-amazon.com/images/I/810CfIYssML.__BG0,0,0,0_FMpng_AC_UL480_SR291,480_.jpg\" width=\"97\"/>\n",
      "          </div>\n",
      "          <div aria-hidden=\"true\" class=\"p13n-sc-truncate-desktop-type2 p13n-sc-truncated\" data-rows=\"3\" title=\"Python Pocket Reference: Python In Your Pocket (Pocket Reference (O'Reilly))\">\n",
      "           Python Pocket Reference: Python In Your Pocket (Pocket…\n",
      "          </div>\n",
      "         </a>\n",
      "         <div class=\"a-row a-size-small\">\n",
      "          <a class=\"a-size-small a-link-child\" href=\"/Mark-Lutz/e/B000APH2C4/ref=pd_sim_nf_351_bl_2/131-1505432-1604003?_encoding=UTF8&amp;pd_rd_i=B00HZ41PGC&amp;pd_rd_r=ea50a232-cae9-47f4-8d63-36582ce2e9fd&amp;pd_rd_w=B7AMs&amp;pd_rd_wg=IJFur&amp;pf_rd_p=ec5f570b-7db1-4816-9bbe-a67d0b1d643f&amp;pf_rd_r=QMB0JT1V7SAVAZRETBJE&amp;refRID=QMB0JT1V7SAVAZRETBJE\">\n",
      "           Mark Lutz\n",
      "          </a>\n",
      "         </div>\n",
      "         <div class=\"a-icon-row a-spacing-none\">\n",
      "          <a class=\"a-link-normal\" href=\"/product-reviews/B00HZ41PGC/ref=pd_sim_nf_351_cr_2/131-1505432-1604003?ie=UTF8&amp;pd_rd_i=B00HZ41PGC&amp;pd_rd_r=ea50a232-cae9-47f4-8d63-36582ce2e9fd&amp;pd_rd_w=B7AMs&amp;pd_rd_wg=IJFur&amp;pf_rd_p=ec5f570b-7db1-4816-9bbe-a67d0b1d643f&amp;pf_rd_r=QMB0JT1V7SAVAZRETBJE&amp;refRID=QMB0JT1V7SAVAZRETBJE\" title=\"4.5 out of 5 stars\">\n",
      "           <i class=\"a-icon a-icon-star a-star-4-5 aok-align-top\">\n",
      "            <span class=\"a-icon-alt\">\n",
      "             4.5 out of 5 stars\n",
      "            </span>\n",
      "           </i>\n",
      "          </a>\n",
      "          <a class=\"a-size-small a-link-normal\" href=\"/product-reviews/B00HZ41PGC/ref=pd_sim_nf_351_cr_2/131-1505432-1604003?ie=UTF8&amp;pd_rd_i=B00HZ41PGC&amp;pd_rd_r=ea50a232-cae9-47f4-8d63-36582ce2e9fd&amp;pd_rd_w=B7AMs&amp;pd_rd_wg=IJFur&amp;pf_rd_p=ec5f570b-7db1-4816-9bbe-a67d0b1d643f&amp;pf_rd_r=QMB0JT1V7SAVAZRETBJE&amp;refRID=QMB0JT1V7SAVAZRETBJE\">\n",
      "           451\n",
      "          </a>\n",
      "         </div>\n",
      "         <div class=\"a-row a-size-small\">\n",
      "          <span class=\"a-size-small a-color-secondary\">\n",
      "           Kindle Edition\n",
      "          </span>\n",
      "         </div>\n",
      "         <div class=\"a-row\">\n",
      "          <a class=\"a-link-normal a-text-normal\" href=\"/Python-Pocket-Reference-Your-OReilly-ebook/dp/B00HZ41PGC/ref=pd_sim_nf_351_2/131-1505432-1604003?_encoding=UTF8&amp;pd_rd_i=B00HZ41PGC&amp;pd_rd_r=ea50a232-cae9-47f4-8d63-36582ce2e9fd&amp;pd_rd_w=B7AMs&amp;pd_rd_wg=IJFur&amp;pf_rd_p=ec5f570b-7db1-4816-9bbe-a67d0b1d643f&amp;pf_rd_r=QMB0JT1V7SAVAZRETBJE&amp;psc=1&amp;refRID=QMB0JT1V7SAVAZRETBJE\">\n",
      "           <span class=\"a-size-base a-color-price\">\n",
      "            <span class=\"p13n-sc-price\">\n",
      "             $10.99\n",
      "            </span>\n",
      "           </span>\n",
      "          </a>\n",
      "         </div>\n",
      "        </div>\n",
      "       </li>\n",
      "       <li aria-hidden=\"false\" aria-posinset=\"3\" aria-setsize=\"91\" class=\"a-carousel-card aok-float-left\" role=\"listitem\" style=\"margin-left: 18px;\">\n",
      "        <div class=\"a-section a-spacing-none p13n-asin\" data-p13n-asin-metadata='{\"ref\":\"pd_sim_nf_351_3\",\"asin\":\"B00DQV4GGY\"}'>\n",
      "         <a class=\"a-link-normal\" href=\"/Python-Cookbook-Recipes-Mastering-ebook/dp/B00DQV4GGY/ref=pd_sim_nf_351_3/131-1505432-1604003?_encoding=UTF8&amp;pd_rd_i=B00DQV4GGY&amp;pd_rd_r=ea50a232-cae9-47f4-8d63-36582ce2e9fd&amp;pd_rd_w=B7AMs&amp;pd_rd_wg=IJFur&amp;pf_rd_p=ec5f570b-7db1-4816-9bbe-a67d0b1d643f&amp;pf_rd_r=QMB0JT1V7SAVAZRETBJE&amp;psc=1&amp;refRID=QMB0JT1V7SAVAZRETBJE\">\n",
      "          <div class=\"a-section a-spacing-mini\">\n",
      "           <img alt=\"Python Cookbook: Recipes for Mastering Python 3\" class=\"a-dynamic-image p13n-sc-dynamic-image\" data-a-dynamic-image='{\"https://images-na.ssl-images-amazon.com/images/I/91TnJtD9RfL.__BG0,0,0,0_FMpng_AC_UL320_SR244,320_.jpg\":[320,244],\"https://images-na.ssl-images-amazon.com/images/I/91TnJtD9RfL.__BG0,0,0,0_FMpng_AC_UL160_SR122,160_.jpg\":[160,122],\"https://images-na.ssl-images-amazon.com/images/I/91TnJtD9RfL.__BG0,0,0,0_FMpng_AC_UL480_SR366,480_.jpg\":[480,366]}' height=\"160\" src=\"https://images-na.ssl-images-amazon.com/images/I/91TnJtD9RfL.__BG0,0,0,0_FMpng_AC_UL480_SR366,480_.jpg\" width=\"122\"/>\n",
      "          </div>\n",
      "          <div aria-hidden=\"true\" class=\"p13n-sc-truncate-desktop-type2 p13n-sc-truncated\" data-rows=\"3\">\n",
      "           Python Cookbook: Recipes for Mastering Python 3\n",
      "          </div>\n",
      "         </a>\n",
      "         <div class=\"a-row a-size-small\">\n",
      "          <span class=\"a-size-small a-color-base\">\n",
      "           David Beazley\n",
      "          </span>\n",
      "         </div>\n",
      "         <div class=\"a-icon-row a-spacing-none\">\n",
      "          <a class=\"a-link-normal\" href=\"/product-reviews/B00DQV4GGY/ref=pd_sim_nf_351_cr_3/131-1505432-1604003?ie=UTF8&amp;pd_rd_i=B00DQV4GGY&amp;pd_rd_r=ea50a232-cae9-47f4-8d63-36582ce2e9fd&amp;pd_rd_w=B7AMs&amp;pd_rd_wg=IJFur&amp;pf_rd_p=ec5f570b-7db1-4816-9bbe-a67d0b1d643f&amp;pf_rd_r=QMB0JT1V7SAVAZRETBJE&amp;refRID=QMB0JT1V7SAVAZRETBJE\" title=\"4.5 out of 5 stars\">\n",
      "           <i class=\"a-icon a-icon-star a-star-4-5 aok-align-top\">\n",
      "            <span class=\"a-icon-alt\">\n",
      "             4.5 out of 5 stars\n",
      "            </span>\n",
      "           </i>\n",
      "          </a>\n",
      "          <a class=\"a-size-small a-link-normal\" href=\"/product-reviews/B00DQV4GGY/ref=pd_sim_nf_351_cr_3/131-1505432-1604003?ie=UTF8&amp;pd_rd_i=B00DQV4GGY&amp;pd_rd_r=ea50a232-cae9-47f4-8d63-36582ce2e9fd&amp;pd_rd_w=B7AMs&amp;pd_rd_wg=IJFur&amp;pf_rd_p=ec5f570b-7db1-4816-9bbe-a67d0b1d643f&amp;pf_rd_r=QMB0JT1V7SAVAZRETBJE&amp;refRID=QMB0JT1V7SAVAZRETBJE\">\n",
      "           308\n",
      "          </a>\n",
      "         </div>\n",
      "         <div class=\"a-row a-size-small\">\n",
      "          <span class=\"a-size-small a-color-secondary\">\n",
      "           Kindle Edition\n",
      "          </span>\n",
      "         </div>\n",
      "         <div class=\"a-row\">\n",
      "          <a class=\"a-link-normal a-text-normal\" href=\"/Python-Cookbook-Recipes-Mastering-ebook/dp/B00DQV4GGY/ref=pd_sim_nf_351_3/131-1505432-1604003?_encoding=UTF8&amp;pd_rd_i=B00DQV4GGY&amp;pd_rd_r=ea50a232-cae9-47f4-8d63-36582ce2e9fd&amp;pd_rd_w=B7AMs&amp;pd_rd_wg=IJFur&amp;pf_rd_p=ec5f570b-7db1-4816-9bbe-a67d0b1d643f&amp;pf_rd_r=QMB0JT1V7SAVAZRETBJE&amp;psc=1&amp;refRID=QMB0JT1V7SAVAZRETBJE\">\n",
      "           <span class=\"a-size-base a-color-price\">\n",
      "            <span class=\"p13n-sc-price\">\n",
      "             $23.49\n",
      "            </span>\n",
      "           </span>\n",
      "          </a>\n",
      "         </div>\n",
      "        </div>\n",
      "       </li>\n",
      "       <li aria-hidden=\"false\" aria-posinset=\"4\" aria-setsize=\"91\" class=\"a-carousel-card aok-float-left\" role=\"listitem\" style=\"margin-left: 18px;\">\n",
      "        <div class=\"a-section a-spacing-none p13n-asin\" data-p13n-asin-metadata='{\"ref\":\"pd_sim_nf_351_4\",\"asin\":\"B07J4521M3\"}'>\n",
      "         <a class=\"a-link-normal\" href=\"/Python-Crash-Course-Eric-Matthes-ebook/dp/B07J4521M3/ref=pd_sim_nf_351_4/131-1505432-1604003?_encoding=UTF8&amp;pd_rd_i=B07J4521M3&amp;pd_rd_r=ea50a232-cae9-47f4-8d63-36582ce2e9fd&amp;pd_rd_w=B7AMs&amp;pd_rd_wg=IJFur&amp;pf_rd_p=ec5f570b-7db1-4816-9bbe-a67d0b1d643f&amp;pf_rd_r=QMB0JT1V7SAVAZRETBJE&amp;psc=1&amp;refRID=QMB0JT1V7SAVAZRETBJE\">\n",
      "          <div class=\"a-section a-spacing-mini\">\n",
      "           <img alt=\"Python Crash Course, 2nd Edition: A Hands-On, Project-Based Introduction to Programming\" class=\"a-dynamic-image p13n-sc-dynamic-image\" data-a-dynamic-image='{\"https://images-na.ssl-images-amazon.com/images/I/81f8XACISAL.__BG0,0,0,0_FMpng_AC_UL320_SR242,320_.jpg\":[320,242],\"https://images-na.ssl-images-amazon.com/images/I/81f8XACISAL.__BG0,0,0,0_FMpng_AC_UL160_SR121,160_.jpg\":[160,121],\"https://images-na.ssl-images-amazon.com/images/I/81f8XACISAL.__BG0,0,0,0_FMpng_AC_UL480_SR363,480_.jpg\":[480,363]}' height=\"160\" src=\"https://images-na.ssl-images-amazon.com/images/I/81f8XACISAL.__BG0,0,0,0_FMpng_AC_UL480_SR363,480_.jpg\" width=\"121\"/>\n",
      "          </div>\n",
      "          <div aria-hidden=\"true\" class=\"p13n-sc-truncate-desktop-type2 p13n-sc-truncated\" data-rows=\"3\" title=\"Python Crash Course, 2nd Edition: A Hands-On, Project-Based Introduction to Programming\">\n",
      "           Python Crash Course, 2nd Edition: A Hands-On, Project-Based…\n",
      "          </div>\n",
      "         </a>\n",
      "         <div class=\"a-row a-size-small\">\n",
      "          <a class=\"a-size-small a-link-child\" href=\"/Eric-Matthes/e/B01DPU378I/ref=pd_sim_nf_351_bl_4/131-1505432-1604003?_encoding=UTF8&amp;pd_rd_i=B07J4521M3&amp;pd_rd_r=ea50a232-cae9-47f4-8d63-36582ce2e9fd&amp;pd_rd_w=B7AMs&amp;pd_rd_wg=IJFur&amp;pf_rd_p=ec5f570b-7db1-4816-9bbe-a67d0b1d643f&amp;pf_rd_r=QMB0JT1V7SAVAZRETBJE&amp;refRID=QMB0JT1V7SAVAZRETBJE\">\n",
      "           Eric Matthes\n",
      "          </a>\n",
      "         </div>\n",
      "         <div class=\"a-icon-row a-spacing-none\">\n",
      "          <a class=\"a-link-normal\" href=\"/product-reviews/B07J4521M3/ref=pd_sim_nf_351_cr_4/131-1505432-1604003?ie=UTF8&amp;pd_rd_i=B07J4521M3&amp;pd_rd_r=ea50a232-cae9-47f4-8d63-36582ce2e9fd&amp;pd_rd_w=B7AMs&amp;pd_rd_wg=IJFur&amp;pf_rd_p=ec5f570b-7db1-4816-9bbe-a67d0b1d643f&amp;pf_rd_r=QMB0JT1V7SAVAZRETBJE&amp;refRID=QMB0JT1V7SAVAZRETBJE\" title=\"4.7 out of 5 stars\">\n",
      "           <i class=\"a-icon a-icon-star a-star-4-5 aok-align-top\">\n",
      "            <span class=\"a-icon-alt\">\n",
      "             4.7 out of 5 stars\n",
      "            </span>\n",
      "           </i>\n",
      "          </a>\n",
      "          <a class=\"a-size-small a-link-normal\" href=\"/product-reviews/B07J4521M3/ref=pd_sim_nf_351_cr_4/131-1505432-1604003?ie=UTF8&amp;pd_rd_i=B07J4521M3&amp;pd_rd_r=ea50a232-cae9-47f4-8d63-36582ce2e9fd&amp;pd_rd_w=B7AMs&amp;pd_rd_wg=IJFur&amp;pf_rd_p=ec5f570b-7db1-4816-9bbe-a67d0b1d643f&amp;pf_rd_r=QMB0JT1V7SAVAZRETBJE&amp;refRID=QMB0JT1V7SAVAZRETBJE\">\n",
      "           2,244\n",
      "          </a>\n",
      "         </div>\n",
      "         <div class=\"a-row a-spacing-top-micro\">\n",
      "          <a class=\"a-size-small a-link-normal p13n-best-seller\" href=\"/gp/bestsellers/digital-text/16977283011/ref=zg_b_bs_16977283011_1/ref=pd_sim_nf_351_bsb_4/131-1505432-1604003?ie=UTF8&amp;pd_rd_i=B07J4521M3&amp;pd_rd_r=ea50a232-cae9-47f4-8d63-36582ce2e9fd&amp;pd_rd_w=B7AMs&amp;pd_rd_wg=IJFur&amp;pf_rd_p=ec5f570b-7db1-4816-9bbe-a67d0b1d643f&amp;pf_rd_r=QMB0JT1V7SAVAZRETBJE&amp;refRID=QMB0JT1V7SAVAZRETBJE\">\n",
      "           <i class=\"a-icon a-icon-addon p13n-best-seller-badge\">\n",
      "            <span class=\"a-text-normal\">\n",
      "             #\n",
      "             <span class=\"a-text-bold\">\n",
      "              1\n",
      "             </span>\n",
      "             Best Seller\n",
      "            </span>\n",
      "           </i>\n",
      "           <span class=\"a-size-small a-color-secondary\">\n",
      "            in\n",
      "            <span class=\"a-color-link p13n-best-seller-store-name\">\n",
      "             Open Source Programming\n",
      "            </span>\n",
      "           </span>\n",
      "          </a>\n",
      "         </div>\n",
      "         <div class=\"a-row a-size-small\">\n",
      "          <span class=\"a-size-small a-color-secondary\">\n",
      "           Kindle Edition\n",
      "          </span>\n",
      "         </div>\n",
      "         <div class=\"a-row\">\n",
      "          <a class=\"a-link-normal a-text-normal\" href=\"/Python-Crash-Course-Eric-Matthes-ebook/dp/B07J4521M3/ref=pd_sim_nf_351_4/131-1505432-1604003?_encoding=UTF8&amp;pd_rd_i=B07J4521M3&amp;pd_rd_r=ea50a232-cae9-47f4-8d63-36582ce2e9fd&amp;pd_rd_w=B7AMs&amp;pd_rd_wg=IJFur&amp;pf_rd_p=ec5f570b-7db1-4816-9bbe-a67d0b1d643f&amp;pf_rd_r=QMB0JT1V7SAVAZRETBJE&amp;psc=1&amp;refRID=QMB0JT1V7SAVAZRETBJE\">\n",
      "           <span class=\"a-size-base a-color-price\">\n",
      "            <span class=\"p13n-sc-price\">\n",
      "             $23.99\n",
      "            </span>\n",
      "           </span>\n",
      "          </a>\n",
      "         </div>\n",
      "        </div>\n",
      "       </li>\n",
      "       <li aria-hidden=\"false\" aria-posinset=\"5\" aria-setsize=\"91\" class=\"a-carousel-card aok-float-left\" role=\"listitem\" style=\"margin-left: 18px;\">\n",
      "        <div class=\"a-section a-spacing-none p13n-asin\" data-p13n-asin-metadata='{\"ref\":\"pd_sim_nf_351_5\",\"asin\":\"B075X4LT6K\"}'>\n",
      "         <a class=\"a-link-normal\" href=\"/Python-Data-Analysis-Wrangling-IPython-ebook/dp/B075X4LT6K/ref=pd_sim_nf_351_5/131-1505432-1604003?_encoding=UTF8&amp;pd_rd_i=B075X4LT6K&amp;pd_rd_r=ea50a232-cae9-47f4-8d63-36582ce2e9fd&amp;pd_rd_w=B7AMs&amp;pd_rd_wg=IJFur&amp;pf_rd_p=ec5f570b-7db1-4816-9bbe-a67d0b1d643f&amp;pf_rd_r=QMB0JT1V7SAVAZRETBJE&amp;psc=1&amp;refRID=QMB0JT1V7SAVAZRETBJE\">\n",
      "          <div class=\"a-section a-spacing-mini\">\n",
      "           <img alt=\"Python for Data Analysis: Data Wrangling with Pandas, NumPy, and IPython\" class=\"a-dynamic-image p13n-sc-dynamic-image\" data-a-dynamic-image='{\"https://images-na.ssl-images-amazon.com/images/I/912I2EtdCbL.__BG0,0,0,0_FMpng_AC_UL160_SR122,160_.jpg\":[160,122],\"https://images-na.ssl-images-amazon.com/images/I/912I2EtdCbL.__BG0,0,0,0_FMpng_AC_UL320_SR244,320_.jpg\":[320,244],\"https://images-na.ssl-images-amazon.com/images/I/912I2EtdCbL.__BG0,0,0,0_FMpng_AC_UL480_SR366,480_.jpg\":[480,366]}' height=\"160\" src=\"https://images-na.ssl-images-amazon.com/images/I/912I2EtdCbL.__BG0,0,0,0_FMpng_AC_UL480_SR366,480_.jpg\" width=\"122\"/>\n",
      "          </div>\n",
      "          <div aria-hidden=\"true\" class=\"p13n-sc-truncate-desktop-type2 p13n-sc-truncated\" data-rows=\"3\" title=\"Python for Data Analysis: Data Wrangling with Pandas, NumPy, and IPython\">\n",
      "           Python for Data Analysis: Data Wrangling with Pandas, NumPy, and…\n",
      "          </div>\n",
      "         </a>\n",
      "         <div class=\"a-row a-size-small\">\n",
      "          <a class=\"a-size-small a-link-child\" href=\"/Wes-McKinney/e/B00E5SITSI/ref=pd_sim_nf_351_bl_5/131-1505432-1604003?_encoding=UTF8&amp;pd_rd_i=B075X4LT6K&amp;pd_rd_r=ea50a232-cae9-47f4-8d63-36582ce2e9fd&amp;pd_rd_w=B7AMs&amp;pd_rd_wg=IJFur&amp;pf_rd_p=ec5f570b-7db1-4816-9bbe-a67d0b1d643f&amp;pf_rd_r=QMB0JT1V7SAVAZRETBJE&amp;refRID=QMB0JT1V7SAVAZRETBJE\">\n",
      "           Wes McKinney\n",
      "          </a>\n",
      "         </div>\n",
      "         <div class=\"a-icon-row a-spacing-none\">\n",
      "          <a class=\"a-link-normal\" href=\"/product-reviews/B075X4LT6K/ref=pd_sim_nf_351_cr_5/131-1505432-1604003?ie=UTF8&amp;pd_rd_i=B075X4LT6K&amp;pd_rd_r=ea50a232-cae9-47f4-8d63-36582ce2e9fd&amp;pd_rd_w=B7AMs&amp;pd_rd_wg=IJFur&amp;pf_rd_p=ec5f570b-7db1-4816-9bbe-a67d0b1d643f&amp;pf_rd_r=QMB0JT1V7SAVAZRETBJE&amp;refRID=QMB0JT1V7SAVAZRETBJE\" title=\"4.5 out of 5 stars\">\n",
      "           <i class=\"a-icon a-icon-star a-star-4-5 aok-align-top\">\n",
      "            <span class=\"a-icon-alt\">\n",
      "             4.5 out of 5 stars\n",
      "            </span>\n",
      "           </i>\n",
      "          </a>\n",
      "          <a class=\"a-size-small a-link-normal\" href=\"/product-reviews/B075X4LT6K/ref=pd_sim_nf_351_cr_5/131-1505432-1604003?ie=UTF8&amp;pd_rd_i=B075X4LT6K&amp;pd_rd_r=ea50a232-cae9-47f4-8d63-36582ce2e9fd&amp;pd_rd_w=B7AMs&amp;pd_rd_wg=IJFur&amp;pf_rd_p=ec5f570b-7db1-4816-9bbe-a67d0b1d643f&amp;pf_rd_r=QMB0JT1V7SAVAZRETBJE&amp;refRID=QMB0JT1V7SAVAZRETBJE\">\n",
      "           641\n",
      "          </a>\n",
      "         </div>\n",
      "         <div class=\"a-row a-spacing-top-micro\">\n",
      "          <a class=\"a-size-small a-link-normal p13n-best-seller\" href=\"/gp/bestsellers/digital-text/16977179011/ref=zg_b_bs_16977179011_1/ref=pd_sim_nf_351_bsb_5/131-1505432-1604003?ie=UTF8&amp;pd_rd_i=B075X4LT6K&amp;pd_rd_r=ea50a232-cae9-47f4-8d63-36582ce2e9fd&amp;pd_rd_w=B7AMs&amp;pd_rd_wg=IJFur&amp;pf_rd_p=ec5f570b-7db1-4816-9bbe-a67d0b1d643f&amp;pf_rd_r=QMB0JT1V7SAVAZRETBJE&amp;refRID=QMB0JT1V7SAVAZRETBJE\">\n",
      "           <i class=\"a-icon a-icon-addon p13n-best-seller-badge\">\n",
      "            <span class=\"a-text-normal\">\n",
      "             #\n",
      "             <span class=\"a-text-bold\">\n",
      "              1\n",
      "             </span>\n",
      "             Best Seller\n",
      "            </span>\n",
      "           </i>\n",
      "           <span class=\"a-size-small a-color-secondary\">\n",
      "            in\n",
      "            <span class=\"a-color-link p13n-best-seller-store-name\">\n",
      "             Data Modeling &amp; Design\n",
      "            </span>\n",
      "           </span>\n",
      "          </a>\n",
      "         </div>\n",
      "         <div class=\"a-row a-size-small\">\n",
      "          <span class=\"a-size-small a-color-secondary\">\n",
      "           Kindle Edition\n",
      "          </span>\n",
      "         </div>\n",
      "         <div class=\"a-row\">\n",
      "          <a class=\"a-link-normal a-text-normal\" href=\"/Python-Data-Analysis-Wrangling-IPython-ebook/dp/B075X4LT6K/ref=pd_sim_nf_351_5/131-1505432-1604003?_encoding=UTF8&amp;pd_rd_i=B075X4LT6K&amp;pd_rd_r=ea50a232-cae9-47f4-8d63-36582ce2e9fd&amp;pd_rd_w=B7AMs&amp;pd_rd_wg=IJFur&amp;pf_rd_p=ec5f570b-7db1-4816-9bbe-a67d0b1d643f&amp;pf_rd_r=QMB0JT1V7SAVAZRETBJE&amp;psc=1&amp;refRID=QMB0JT1V7SAVAZRETBJE\">\n",
      "           <span class=\"a-size-base a-color-price\">\n",
      "            <span class=\"p13n-sc-price\">\n",
      "             $34.21\n",
      "            </span>\n",
      "           </span>\n",
      "          </a>\n",
      "         </div>\n",
      "        </div>\n",
      "       </li>\n",
      "       <li aria-hidden=\"false\" aria-posinset=\"6\" aria-setsize=\"91\" class=\"a-carousel-card aok-float-left\" role=\"listitem\" style=\"margin-left: 18px;\">\n",
      "        <div class=\"a-section a-spacing-none p13n-asin\" data-p13n-asin-metadata='{\"ref\":\"pd_sim_nf_351_6\",\"asin\":\"B0131L3PW4\"}'>\n",
      "         <a class=\"a-link-normal\" href=\"/Fluent-Python-Concise-Effective-Programming-ebook/dp/B0131L3PW4/ref=pd_sim_nf_351_6/131-1505432-1604003?_encoding=UTF8&amp;pd_rd_i=B0131L3PW4&amp;pd_rd_r=ea50a232-cae9-47f4-8d63-36582ce2e9fd&amp;pd_rd_w=B7AMs&amp;pd_rd_wg=IJFur&amp;pf_rd_p=ec5f570b-7db1-4816-9bbe-a67d0b1d643f&amp;pf_rd_r=QMB0JT1V7SAVAZRETBJE&amp;psc=1&amp;refRID=QMB0JT1V7SAVAZRETBJE\">\n",
      "          <div class=\"a-section a-spacing-mini\">\n",
      "           <img alt=\"Fluent Python: Clear, Concise, and Effective Programming\" class=\"a-dynamic-image p13n-sc-dynamic-image\" data-a-dynamic-image='{\"https://images-na.ssl-images-amazon.com/images/I/91DGHmkQmjL.__BG0,0,0,0_FMpng_AC_UL320_SR244,320_.jpg\":[320,244],\"https://images-na.ssl-images-amazon.com/images/I/91DGHmkQmjL.__BG0,0,0,0_FMpng_AC_UL160_SR122,160_.jpg\":[160,122],\"https://images-na.ssl-images-amazon.com/images/I/91DGHmkQmjL.__BG0,0,0,0_FMpng_AC_UL480_SR366,480_.jpg\":[480,366]}' height=\"160\" src=\"https://images-na.ssl-images-amazon.com/images/I/91DGHmkQmjL.__BG0,0,0,0_FMpng_AC_UL480_SR366,480_.jpg\" width=\"122\"/>\n",
      "          </div>\n",
      "          <div aria-hidden=\"true\" class=\"p13n-sc-truncate-desktop-type2 p13n-sc-truncated\" data-rows=\"3\">\n",
      "           Fluent Python: Clear, Concise, and Effective Programming\n",
      "          </div>\n",
      "         </a>\n",
      "         <div class=\"a-row a-size-small\">\n",
      "          <a class=\"a-size-small a-link-child\" href=\"/Luciano-Ramalho/e/B00O6IY1S4/ref=pd_sim_nf_351_bl_6/131-1505432-1604003?_encoding=UTF8&amp;pd_rd_i=B0131L3PW4&amp;pd_rd_r=ea50a232-cae9-47f4-8d63-36582ce2e9fd&amp;pd_rd_w=B7AMs&amp;pd_rd_wg=IJFur&amp;pf_rd_p=ec5f570b-7db1-4816-9bbe-a67d0b1d643f&amp;pf_rd_r=QMB0JT1V7SAVAZRETBJE&amp;refRID=QMB0JT1V7SAVAZRETBJE\">\n",
      "           Luciano Ramalho\n",
      "          </a>\n",
      "         </div>\n",
      "         <div class=\"a-icon-row a-spacing-none\">\n",
      "          <a class=\"a-link-normal\" href=\"/product-reviews/B0131L3PW4/ref=pd_sim_nf_351_cr_6/131-1505432-1604003?ie=UTF8&amp;pd_rd_i=B0131L3PW4&amp;pd_rd_r=ea50a232-cae9-47f4-8d63-36582ce2e9fd&amp;pd_rd_w=B7AMs&amp;pd_rd_wg=IJFur&amp;pf_rd_p=ec5f570b-7db1-4816-9bbe-a67d0b1d643f&amp;pf_rd_r=QMB0JT1V7SAVAZRETBJE&amp;refRID=QMB0JT1V7SAVAZRETBJE\" title=\"4.6 out of 5 stars\">\n",
      "           <i class=\"a-icon a-icon-star a-star-4-5 aok-align-top\">\n",
      "            <span class=\"a-icon-alt\">\n",
      "             4.6 out of 5 stars\n",
      "            </span>\n",
      "           </i>\n",
      "          </a>\n",
      "          <a class=\"a-size-small a-link-normal\" href=\"/product-reviews/B0131L3PW4/ref=pd_sim_nf_351_cr_6/131-1505432-1604003?ie=UTF8&amp;pd_rd_i=B0131L3PW4&amp;pd_rd_r=ea50a232-cae9-47f4-8d63-36582ce2e9fd&amp;pd_rd_w=B7AMs&amp;pd_rd_wg=IJFur&amp;pf_rd_p=ec5f570b-7db1-4816-9bbe-a67d0b1d643f&amp;pf_rd_r=QMB0JT1V7SAVAZRETBJE&amp;refRID=QMB0JT1V7SAVAZRETBJE\">\n",
      "           390\n",
      "          </a>\n",
      "         </div>\n",
      "         <div class=\"a-row a-size-small\">\n",
      "          <span class=\"a-size-small a-color-secondary\">\n",
      "           Kindle Edition\n",
      "          </span>\n",
      "         </div>\n",
      "         <div class=\"a-row\">\n",
      "          <a class=\"a-link-normal a-text-normal\" href=\"/Fluent-Python-Concise-Effective-Programming-ebook/dp/B0131L3PW4/ref=pd_sim_nf_351_6/131-1505432-1604003?_encoding=UTF8&amp;pd_rd_i=B0131L3PW4&amp;pd_rd_r=ea50a232-cae9-47f4-8d63-36582ce2e9fd&amp;pd_rd_w=B7AMs&amp;pd_rd_wg=IJFur&amp;pf_rd_p=ec5f570b-7db1-4816-9bbe-a67d0b1d643f&amp;pf_rd_r=QMB0JT1V7SAVAZRETBJE&amp;psc=1&amp;refRID=QMB0JT1V7SAVAZRETBJE\">\n",
      "           <span class=\"a-size-base a-color-price\">\n",
      "            <span class=\"p13n-sc-price\">\n",
      "             $29.99\n",
      "            </span>\n",
      "           </span>\n",
      "          </a>\n",
      "         </div>\n",
      "        </div>\n",
      "       </li>\n",
      "      </ol>\n",
      "     </div>\n",
      "    </div>\n",
      "    <div class=\"a-carousel-col a-carousel-right\" style=\"height: 339px; visibility: visible;\">\n",
      "     <a class=\"a-button a-button-image a-carousel-button a-carousel-goto-nextpage\" href=\"#\" id=\"a-autoid-6\" style=\"top: 135.594px;\" tabindex=\"0\">\n",
      "      <span class=\"a-button-inner\">\n",
      "       <i class=\"a-icon a-icon-next\">\n",
      "        <span class=\"a-icon-alt\">\n",
      "         Next\n",
      "        </span>\n",
      "       </i>\n",
      "      </span>\n",
      "     </a>\n",
      "    </div>\n",
      "   </div>\n",
      "  </div>\n",
      "  <span class=\"a-end aok-hidden\">\n",
      "  </span>\n",
      " </div>\n",
      "</div>\n",
      "\n"
     ]
    }
   ],
   "source": [
    "print(carousel.prettify())"
   ]
  },
  {
   "cell_type": "markdown",
   "metadata": {},
   "source": [
    "You can use the `prettify()` method to inspect contents embedded by the `Tag` object. And you may find the general structure of the HTML code that displays each product item in the carousel looks like the following: \n",
    "\n",
    "\n",
    "\n",
    "\n",
    "```html\n",
    "\n",
    "<li class=\"a-carousel-card aok-float-left\" role=\"listitem\" aria-setsize=\"91\" aria-posinset=\"1\" aria-hidden=\"false\" style=\"margin-left: 14px;\">\n",
    "...\n",
    "</li>\n",
    "```\n",
    "\n",
    "Write code to extract all `<li>` tags that display the product items, make them available in a list, and name the resulting list `list_of_items`:"
   ]
  },
  {
   "cell_type": "code",
   "execution_count": 7,
   "metadata": {},
   "outputs": [],
   "source": [
    "# Write your code here\n",
    " \n",
    "list_of_items = carousel.find_all('li',{'class': 'a-carousel-card'})\n",
    "\n"
   ]
  },
  {
   "cell_type": "markdown",
   "metadata": {},
   "source": [
    "Run the following code to inspect the structure of the first `<li>` tag:"
   ]
  },
  {
   "cell_type": "code",
   "execution_count": 8,
   "metadata": {},
   "outputs": [
    {
     "name": "stdout",
     "output_type": "stream",
     "text": [
      "<li aria-hidden=\"false\" aria-posinset=\"1\" aria-setsize=\"91\" class=\"a-carousel-card aok-float-left\" role=\"listitem\" style=\"margin-left: 18px;\">\n",
      " <div class=\"a-section a-spacing-none p13n-asin\" data-p13n-asin-metadata='{\"ref\":\"pd_sim_nf_351_1\",\"asin\":\"B004GTLFJ6\"}'>\n",
      "  <a class=\"a-link-normal\" href=\"/Programming-Python-Powerful-Object-Oriented-ebook/dp/B004GTLFJ6/ref=pd_sim_nf_351_1/131-1505432-1604003?_encoding=UTF8&amp;pd_rd_i=B004GTLFJ6&amp;pd_rd_r=ea50a232-cae9-47f4-8d63-36582ce2e9fd&amp;pd_rd_w=B7AMs&amp;pd_rd_wg=IJFur&amp;pf_rd_p=ec5f570b-7db1-4816-9bbe-a67d0b1d643f&amp;pf_rd_r=QMB0JT1V7SAVAZRETBJE&amp;psc=1&amp;refRID=QMB0JT1V7SAVAZRETBJE\">\n",
      "   <div class=\"a-section a-spacing-mini\">\n",
      "    <img alt=\"Programming Python: Powerful Object-Oriented Programming\" class=\"a-dynamic-image p13n-sc-dynamic-image\" data-a-dynamic-image='{\"https://images-na.ssl-images-amazon.com/images/I/9122eE339dL.__BG0,0,0,0_FMpng_AC_UL480_SR366,480_.jpg\":[480,366],\"https://images-na.ssl-images-amazon.com/images/I/9122eE339dL.__BG0,0,0,0_FMpng_AC_UL320_SR244,320_.jpg\":[320,244],\"https://images-na.ssl-images-amazon.com/images/I/9122eE339dL.__BG0,0,0,0_FMpng_AC_UL160_SR122,160_.jpg\":[160,122]}' height=\"160\" src=\"https://images-na.ssl-images-amazon.com/images/I/9122eE339dL.__BG0,0,0,0_FMpng_AC_UL480_SR366,480_.jpg\" width=\"122\"/>\n",
      "   </div>\n",
      "   <div aria-hidden=\"true\" class=\"p13n-sc-truncate-desktop-type2 p13n-sc-truncated\" data-rows=\"3\">\n",
      "    Programming Python: Powerful Object-Oriented Programming\n",
      "   </div>\n",
      "  </a>\n",
      "  <div class=\"a-row a-size-small\">\n",
      "   <a class=\"a-size-small a-link-child\" href=\"/Mark-Lutz/e/B000APH2C4/ref=pd_sim_nf_351_bl_1/131-1505432-1604003?_encoding=UTF8&amp;pd_rd_i=B004GTLFJ6&amp;pd_rd_r=ea50a232-cae9-47f4-8d63-36582ce2e9fd&amp;pd_rd_w=B7AMs&amp;pd_rd_wg=IJFur&amp;pf_rd_p=ec5f570b-7db1-4816-9bbe-a67d0b1d643f&amp;pf_rd_r=QMB0JT1V7SAVAZRETBJE&amp;refRID=QMB0JT1V7SAVAZRETBJE\">\n",
      "    Mark Lutz\n",
      "   </a>\n",
      "  </div>\n",
      "  <div class=\"a-icon-row a-spacing-none\">\n",
      "   <a class=\"a-link-normal\" href=\"/product-reviews/B004GTLFJ6/ref=pd_sim_nf_351_cr_1/131-1505432-1604003?ie=UTF8&amp;pd_rd_i=B004GTLFJ6&amp;pd_rd_r=ea50a232-cae9-47f4-8d63-36582ce2e9fd&amp;pd_rd_w=B7AMs&amp;pd_rd_wg=IJFur&amp;pf_rd_p=ec5f570b-7db1-4816-9bbe-a67d0b1d643f&amp;pf_rd_r=QMB0JT1V7SAVAZRETBJE&amp;refRID=QMB0JT1V7SAVAZRETBJE\" title=\"4.5 out of 5 stars\">\n",
      "    <i class=\"a-icon a-icon-star a-star-4-5 aok-align-top\">\n",
      "     <span class=\"a-icon-alt\">\n",
      "      4.5 out of 5 stars\n",
      "     </span>\n",
      "    </i>\n",
      "   </a>\n",
      "   <a class=\"a-size-small a-link-normal\" href=\"/product-reviews/B004GTLFJ6/ref=pd_sim_nf_351_cr_1/131-1505432-1604003?ie=UTF8&amp;pd_rd_i=B004GTLFJ6&amp;pd_rd_r=ea50a232-cae9-47f4-8d63-36582ce2e9fd&amp;pd_rd_w=B7AMs&amp;pd_rd_wg=IJFur&amp;pf_rd_p=ec5f570b-7db1-4816-9bbe-a67d0b1d643f&amp;pf_rd_r=QMB0JT1V7SAVAZRETBJE&amp;refRID=QMB0JT1V7SAVAZRETBJE\">\n",
      "    169\n",
      "   </a>\n",
      "  </div>\n",
      "  <div class=\"a-row a-size-small\">\n",
      "   <span class=\"a-size-small a-color-secondary\">\n",
      "    Kindle Edition\n",
      "   </span>\n",
      "  </div>\n",
      "  <div class=\"a-row\">\n",
      "   <a class=\"a-link-normal a-text-normal\" href=\"/Programming-Python-Powerful-Object-Oriented-ebook/dp/B004GTLFJ6/ref=pd_sim_nf_351_1/131-1505432-1604003?_encoding=UTF8&amp;pd_rd_i=B004GTLFJ6&amp;pd_rd_r=ea50a232-cae9-47f4-8d63-36582ce2e9fd&amp;pd_rd_w=B7AMs&amp;pd_rd_wg=IJFur&amp;pf_rd_p=ec5f570b-7db1-4816-9bbe-a67d0b1d643f&amp;pf_rd_r=QMB0JT1V7SAVAZRETBJE&amp;psc=1&amp;refRID=QMB0JT1V7SAVAZRETBJE\">\n",
      "    <span class=\"a-size-base a-color-price\">\n",
      "     <span class=\"p13n-sc-price\">\n",
      "      $37.49\n",
      "     </span>\n",
      "    </span>\n",
      "   </a>\n",
      "  </div>\n",
      " </div>\n",
      "</li>\n",
      "\n"
     ]
    }
   ],
   "source": [
    "print(list_of_items[0].prettify())"
   ]
  },
  {
   "cell_type": "markdown",
   "metadata": {},
   "source": [
    "Note that the title of the book (i.e., *Programming Python: Powerful Object-Oriented Programming*) can be spotted at two places in the above code; that is, the `alt` attribute of an `<img>` tag and the text (probably truncated) embedded in the `<div>` tag of both the `p13n-sc-truncate-desktop-type2` class and `p13n-sc-truncated` class.\n",
    " \n",
    "To make sure what we extract is the full title rather than a truncated one, we are going to extract the value of the `alt` attribute of the `<img>` tag. Write code below to do so:"
   ]
  },
  {
   "cell_type": "code",
   "execution_count": 9,
   "metadata": {},
   "outputs": [
    {
     "data": {
      "text/plain": [
       "'Programming Python: Powerful Object-Oriented Programming'"
      ]
     },
     "execution_count": 9,
     "metadata": {},
     "output_type": "execute_result"
    }
   ],
   "source": [
    "# Write your code here\n",
    "\n",
    "list_of_items[0].find('img').attrs['alt']\n"
   ]
  },
  {
   "cell_type": "markdown",
   "metadata": {},
   "source": [
    "The author information is contained in the following piece of the HTML code:\n",
    "\n",
    "```html\n",
    "\n",
    "<div class=\"a-row a-size-small\">...\n",
    "    Mark Lutz\n",
    "</div>\n",
    "\n",
    "```\n",
    "\n",
    "Write code to extract the author(s) of the book:"
   ]
  },
  {
   "cell_type": "code",
   "execution_count": 10,
   "metadata": {},
   "outputs": [
    {
     "data": {
      "text/plain": [
       "'Mark Lutz'"
      ]
     },
     "execution_count": 10,
     "metadata": {},
     "output_type": "execute_result"
    }
   ],
   "source": [
    "# Write your code here\n",
    "\n",
    "list_of_items[0].find('div', {'class': 'a-row a-size-small'}).get_text()\n",
    "\n"
   ]
  },
  {
   "cell_type": "markdown",
   "metadata": {},
   "source": [
    "\n",
    "The rating received from buyers is embedded in the following piece of the HTML code:\n",
    "\n",
    "```html\n",
    "<span class=\"a-icon-alt\">4.5 out of 5 stars</span>\n",
    "```\n",
    "Write code to extract the rating only (i.e., 4.5) from the text:"
   ]
  },
  {
   "cell_type": "code",
   "execution_count": 11,
   "metadata": {},
   "outputs": [
    {
     "data": {
      "text/plain": [
       "'4.5'"
      ]
     },
     "execution_count": 11,
     "metadata": {},
     "output_type": "execute_result"
    }
   ],
   "source": [
    "# Write your code here\n",
    "\n",
    "r = list_of_items[0].find('span', {'class': 'a-icon-alt'}).get_text()\n",
    "\n",
    "r[0:3]"
   ]
  },
  {
   "cell_type": "markdown",
   "metadata": {},
   "source": [
    "The book's price is contained in a `span` tag of class `\"p13n-sc-price\"`. Write code to extract the price of the book:"
   ]
  },
  {
   "cell_type": "code",
   "execution_count": 12,
   "metadata": {},
   "outputs": [
    {
     "data": {
      "text/plain": [
       "'$37.49'"
      ]
     },
     "execution_count": 12,
     "metadata": {},
     "output_type": "execute_result"
    }
   ],
   "source": [
    "# Write your code here\n",
    "\n",
    "list_of_items[0].find('span', {'class': 'a-size-base a-color-price'}).get_text()\n"
   ]
  },
  {
   "cell_type": "markdown",
   "metadata": {},
   "source": [
    "The last piece of information we would like to extract about this book is the URL of its product page. This information is maintained as the value of the `href` attribute of the first `<a>` tag. Write code to extract the value of that `href` attribute and name it `url_string`: "
   ]
  },
  {
   "cell_type": "code",
   "execution_count": 13,
   "metadata": {},
   "outputs": [
    {
     "data": {
      "text/plain": [
       "'/Programming-Python-Powerful-Object-Oriented-ebook/dp/B004GTLFJ6/ref=pd_sim_nf_351_1/131-1505432-1604003?_encoding=UTF8&pd_rd_i=B004GTLFJ6&pd_rd_r=ea50a232-cae9-47f4-8d63-36582ce2e9fd&pd_rd_w=B7AMs&pd_rd_wg=IJFur&pf_rd_p=ec5f570b-7db1-4816-9bbe-a67d0b1d643f&pf_rd_r=QMB0JT1V7SAVAZRETBJE&psc=1&refRID=QMB0JT1V7SAVAZRETBJE'"
      ]
     },
     "execution_count": 13,
     "metadata": {},
     "output_type": "execute_result"
    }
   ],
   "source": [
    "# Write your code here\n",
    "\n",
    "url_string = list_of_items[0].find('a').attrs['href']\n",
    "url_string"
   ]
  },
  {
   "cell_type": "markdown",
   "metadata": {},
   "source": [
    "Comparing the URL you extracted with the that of the seed page (https://www.amazon.com/Learning-Python-Powerful-Object-Oriented-Programming-ebook/dp/B00DDZPC9S) reveals that the raw is a relative one. Besides, some part of it are used for the purpose other than locating the product page (e.g., tracking referring sources). \n",
    "\n",
    "We want to remove the irrelevant part and use the remaining part to form absolute URLs for later use.\n",
    "\n",
    "Run the code below to replace the irrelevant part with an empty string and prefix it with `'https://www.amazon.com'`:"
   ]
  },
  {
   "cell_type": "code",
   "execution_count": 14,
   "metadata": {},
   "outputs": [
    {
     "data": {
      "text/plain": [
       "'https://www.amazon.com/Programming-Python-Powerful-Object-Oriented-ebook/dp/B004GTLFJ6'"
      ]
     },
     "execution_count": 14,
     "metadata": {},
     "output_type": "execute_result"
    }
   ],
   "source": [
    "import re\n",
    "\n",
    "'https://www.amazon.com' + re.sub(r'/ref=.*', r'', url_string)"
   ]
  },
  {
   "cell_type": "markdown",
   "metadata": {},
   "source": [
    "Extend the previous steps that scrape the data for the first product to the remaining elements contained in `list_of_items`:\n"
   ]
  },
  {
   "cell_type": "code",
   "execution_count": 15,
   "metadata": {},
   "outputs": [],
   "source": [
    "title_list = []; authors_list = []; rating_list = []; price_list = []; url_list = [];\n",
    "\n",
    "# Write your code here\n",
    "import re\n",
    "for index in list_of_items:\n",
    "    if index.find('img').attrs['alt'] is not None:\n",
    "        titles = index.find('img').attrs['alt']\n",
    "        title_list.append(titles)\n",
    "        authors = index.find('div', {'class': 'a-row a-size-small'}).get_text()\n",
    "        authors_list.append(authors)\n",
    "        ratings = index.find('span', {'class': 'a-icon-alt'}).get_text()\n",
    "        ratingsb = ratings[0:3]\n",
    "        rating_list.append(ratingsb)\n",
    "        prices = index.find('span', {'class': 'a-size-base a-color-price'}).get_text()\n",
    "        price_list.append(prices)\n",
    "        urls = index.find('a').attrs['href']\n",
    "        urls_formats = 'https://www.amazon.com' + re.sub(r'/ref=.*', r'', urls)\n",
    "        url_list.append(urls_formats)\n",
    "\n",
    "    "
   ]
  },
  {
   "cell_type": "markdown",
   "metadata": {},
   "source": [
    "With these 5 pieces of information about these books having been organized in the corresponding lists, run the following code to pack them into a structured dataset maintained in a pandas `DataFrame` object:"
   ]
  },
  {
   "cell_type": "code",
   "execution_count": 16,
   "metadata": {},
   "outputs": [
    {
     "data": {
      "text/html": [
       "<div>\n",
       "<style scoped>\n",
       "    .dataframe tbody tr th:only-of-type {\n",
       "        vertical-align: middle;\n",
       "    }\n",
       "\n",
       "    .dataframe tbody tr th {\n",
       "        vertical-align: top;\n",
       "    }\n",
       "\n",
       "    .dataframe thead th {\n",
       "        text-align: right;\n",
       "    }\n",
       "</style>\n",
       "<table border=\"1\" class=\"dataframe\">\n",
       "  <thead>\n",
       "    <tr style=\"text-align: right;\">\n",
       "      <th></th>\n",
       "      <th>title</th>\n",
       "      <th>authors</th>\n",
       "      <th>rating</th>\n",
       "      <th>price</th>\n",
       "      <th>url</th>\n",
       "    </tr>\n",
       "  </thead>\n",
       "  <tbody>\n",
       "    <tr>\n",
       "      <th>0</th>\n",
       "      <td>Programming Python: Powerful Object-Oriented P...</td>\n",
       "      <td>Mark Lutz</td>\n",
       "      <td>4.5</td>\n",
       "      <td>$37.49</td>\n",
       "      <td>https://www.amazon.com/Programming-Python-Powe...</td>\n",
       "    </tr>\n",
       "    <tr>\n",
       "      <th>1</th>\n",
       "      <td>Python Pocket Reference: Python In Your Pocket...</td>\n",
       "      <td>Mark Lutz</td>\n",
       "      <td>4.5</td>\n",
       "      <td>$10.99</td>\n",
       "      <td>https://www.amazon.com/Python-Pocket-Reference...</td>\n",
       "    </tr>\n",
       "    <tr>\n",
       "      <th>2</th>\n",
       "      <td>Python Cookbook: Recipes for Mastering Python 3</td>\n",
       "      <td>David Beazley</td>\n",
       "      <td>4.5</td>\n",
       "      <td>$23.49</td>\n",
       "      <td>https://www.amazon.com/Python-Cookbook-Recipes...</td>\n",
       "    </tr>\n",
       "    <tr>\n",
       "      <th>3</th>\n",
       "      <td>Python Crash Course, 2nd Edition: A Hands-On, ...</td>\n",
       "      <td>Eric Matthes</td>\n",
       "      <td>4.7</td>\n",
       "      <td>$23.99</td>\n",
       "      <td>https://www.amazon.com/Python-Crash-Course-Eri...</td>\n",
       "    </tr>\n",
       "    <tr>\n",
       "      <th>4</th>\n",
       "      <td>Python for Data Analysis: Data Wrangling with ...</td>\n",
       "      <td>Wes McKinney</td>\n",
       "      <td>4.5</td>\n",
       "      <td>$34.21</td>\n",
       "      <td>https://www.amazon.com/Python-Data-Analysis-Wr...</td>\n",
       "    </tr>\n",
       "    <tr>\n",
       "      <th>5</th>\n",
       "      <td>Fluent Python: Clear, Concise, and Effective P...</td>\n",
       "      <td>Luciano Ramalho</td>\n",
       "      <td>4.6</td>\n",
       "      <td>$29.99</td>\n",
       "      <td>https://www.amazon.com/Fluent-Python-Concise-E...</td>\n",
       "    </tr>\n",
       "  </tbody>\n",
       "</table>\n",
       "</div>"
      ],
      "text/plain": [
       "                                               title          authors rating  \\\n",
       "0  Programming Python: Powerful Object-Oriented P...        Mark Lutz    4.5   \n",
       "1  Python Pocket Reference: Python In Your Pocket...        Mark Lutz    4.5   \n",
       "2    Python Cookbook: Recipes for Mastering Python 3    David Beazley    4.5   \n",
       "3  Python Crash Course, 2nd Edition: A Hands-On, ...     Eric Matthes    4.7   \n",
       "4  Python for Data Analysis: Data Wrangling with ...     Wes McKinney    4.5   \n",
       "5  Fluent Python: Clear, Concise, and Effective P...  Luciano Ramalho    4.6   \n",
       "\n",
       "    price                                                url  \n",
       "0  $37.49  https://www.amazon.com/Programming-Python-Powe...  \n",
       "1  $10.99  https://www.amazon.com/Python-Pocket-Reference...  \n",
       "2  $23.49  https://www.amazon.com/Python-Cookbook-Recipes...  \n",
       "3  $23.99  https://www.amazon.com/Python-Crash-Course-Eri...  \n",
       "4  $34.21  https://www.amazon.com/Python-Data-Analysis-Wr...  \n",
       "5  $29.99  https://www.amazon.com/Fluent-Python-Concise-E...  "
      ]
     },
     "execution_count": 16,
     "metadata": {},
     "output_type": "execute_result"
    }
   ],
   "source": [
    "import pandas as pd\n",
    "products = pd.DataFrame({'title': title_list, 'authors': authors_list, 'rating': rating_list,\n",
    "                        'price': price_list, 'url': url_list})\n",
    "\n",
    "products"
   ]
  },
  {
   "cell_type": "markdown",
   "metadata": {},
   "source": [
    "The code above only extracts the cards displayed on the first slide in the carousel. To scrape the data contained in the rest of cards, we have to use selenium to drive the browser to load subsequent slides and then repeat the previous steps for each of them.\n",
    "\n",
    "To automate this process with a `for` loop, we have to know in advance how many slides we need to go through.\n",
    "\n",
    "\n",
    "\n",
    "The information about the maximum number of slides is embedded in a `<span>` tag beneath the `Tag` object referred to by `carousel`, as shown below:\n",
    "\n",
    "```html\n",
    "<span class=\"a-carousel-page-count\">Page <span class=\"a-carousel-page-current\">1</span> of <span class=\"a-carousel-page-max\">18</span>  </span>\n",
    "```\n",
    "Write code to extract the number (i.e., 18):"
   ]
  },
  {
   "cell_type": "code",
   "execution_count": 17,
   "metadata": {},
   "outputs": [
    {
     "data": {
      "text/plain": [
       "'16'"
      ]
     },
     "execution_count": 17,
     "metadata": {},
     "output_type": "execute_result"
    }
   ],
   "source": [
    "# Write your code here\n",
    "\n",
    "pagenumber = carousel.find_all('div',{'class': 'a-column a-span4 a-span-last a-text-right'})\n",
    "\n",
    "pagenumber[0].find('span', {'class': 'a-carousel-page-max'}).get_text()\n"
   ]
  },
  {
   "cell_type": "markdown",
   "metadata": {},
   "source": [
    "The following HTML code displays the left arrow button:\n",
    "\n",
    "```html\n",
    "<a class=\"a-button a-button-image a-carousel-button a-carousel-goto-nextpage\" tabindex=\"0\" href=\"#\" id=\"a-autoid-6\" style=\"top: 135.594px;\"><span class=\"a-button-inner\"><i class=\"a-icon a-icon-next\"><span class=\"a-icon-alt\">Next</span></i></span></a>\n",
    "```\n",
    "\n",
    "Since there is a preceding carousel that owns a left arrow button with the same name, we need to use `driver`'s `find_element_by_css_selector()` method to avoid the ambiguity and locate the desired element.\n",
    "\n",
    "The argument we will supply to the method is `'div#desktop-dp-sims_purchase-similarities(-esp)-sims-feature a.a-carousel-goto-nextpage'`, which means finding an `<a>` tag of class `a-carousel-goto-nextpage` beneath the `<div>` tag of id `desktop-dp-sims_purchase-similarities(-esp)-sims-feature` (include `-esp` as appropriate). \n",
    "\n",
    "Run the following code to locate the left arrow button and name the returned `WebElement` object `next_button`:"
   ]
  },
  {
   "cell_type": "code",
   "execution_count": 19,
   "metadata": {},
   "outputs": [
    {
     "data": {
      "text/plain": [
       "<selenium.webdriver.remote.webelement.WebElement (session=\"c4295fb076e1f8f33711b94ff4df79c6\", element=\"491a83d4-3b81-4f2b-be72-dc851888ba34\")>"
      ]
     },
     "execution_count": 19,
     "metadata": {},
     "output_type": "execute_result"
    }
   ],
   "source": [
    "# include -esp as appropriate\n",
    "\n",
    "next_button = driver.find_element_by_css_selector('div#desktop-dp-sims_purchase-similarities-esp-sims-feature \\\n",
    "a.a-carousel-goto-nextpage')\n",
    "next_button"
   ]
  },
  {
   "cell_type": "markdown",
   "metadata": {},
   "source": [
    "Then using its `click()` or `send_keys()` method, we can simulate users' clicking on the button to load subsequent slides. Write code to load the 2nd slide: "
   ]
  },
  {
   "cell_type": "code",
   "execution_count": 20,
   "metadata": {},
   "outputs": [],
   "source": [
    "# Write your code here\n",
    "\n",
    "next_button.click()"
   ]
  },
  {
   "cell_type": "markdown",
   "metadata": {},
   "source": [
    "Then scrape data from cards displayed on the 2nd slide and append different pieces of information to the corresponding lists we created before:"
   ]
  },
  {
   "cell_type": "code",
   "execution_count": 21,
   "metadata": {},
   "outputs": [],
   "source": [
    "# Write your code here\n",
    "\n",
    "bs_amazon_pg = BeautifulSoup(driver.page_source, 'html.parser')\n",
    "carousel = bs_amazon_pg.find('div', {'id': 'desktop-dp-sims_purchase-similarities-esp-sims-feature'}) #input -esp as appropriate\n",
    "list_of_items = carousel.find_all('li',{'class': 'a-carousel-card'})\n",
    "\n",
    "import re\n",
    "for index in list_of_items:\n",
    "    if index.find('img').attrs['alt'] is not None:\n",
    "        titles = index.find('img').attrs['alt']\n",
    "        title_list.append(titles)\n",
    "        authors = index.find('div', {'class': 'a-row a-size-small'}).get_text()\n",
    "        authors_list.append(authors)\n",
    "        ratings = index.find('span', {'class': 'a-icon-alt'}).get_text()\n",
    "        ratingsb = ratings[0:3]\n",
    "        rating_list.append(ratingsb)\n",
    "        prices = index.find('span', {'class': 'a-size-base a-color-price'}).get_text()\n",
    "        price_list.append(prices)\n",
    "        urls = index.find('a').attrs['href']\n",
    "        urls_formats = 'https://www.amazon.com' + re.sub(r'/ref=.*', r'', urls)\n",
    "        url_list.append(urls_formats)\n",
    "     "
   ]
  },
  {
   "cell_type": "markdown",
   "metadata": {},
   "source": [
    "Run the following code snippet, and you will find additional 5 records have been added to the dataset:"
   ]
  },
  {
   "cell_type": "code",
   "execution_count": 22,
   "metadata": {},
   "outputs": [
    {
     "data": {
      "text/html": [
       "<div>\n",
       "<style scoped>\n",
       "    .dataframe tbody tr th:only-of-type {\n",
       "        vertical-align: middle;\n",
       "    }\n",
       "\n",
       "    .dataframe tbody tr th {\n",
       "        vertical-align: top;\n",
       "    }\n",
       "\n",
       "    .dataframe thead th {\n",
       "        text-align: right;\n",
       "    }\n",
       "</style>\n",
       "<table border=\"1\" class=\"dataframe\">\n",
       "  <thead>\n",
       "    <tr style=\"text-align: right;\">\n",
       "      <th></th>\n",
       "      <th>title</th>\n",
       "      <th>authors</th>\n",
       "      <th>rating</th>\n",
       "      <th>price</th>\n",
       "      <th>url</th>\n",
       "    </tr>\n",
       "  </thead>\n",
       "  <tbody>\n",
       "    <tr>\n",
       "      <th>0</th>\n",
       "      <td>Programming Python: Powerful Object-Oriented P...</td>\n",
       "      <td>Mark Lutz</td>\n",
       "      <td>4.5</td>\n",
       "      <td>$37.49</td>\n",
       "      <td>https://www.amazon.com/Programming-Python-Powe...</td>\n",
       "    </tr>\n",
       "    <tr>\n",
       "      <th>1</th>\n",
       "      <td>Python Pocket Reference: Python In Your Pocket...</td>\n",
       "      <td>Mark Lutz</td>\n",
       "      <td>4.5</td>\n",
       "      <td>$10.99</td>\n",
       "      <td>https://www.amazon.com/Python-Pocket-Reference...</td>\n",
       "    </tr>\n",
       "    <tr>\n",
       "      <th>2</th>\n",
       "      <td>Python Cookbook: Recipes for Mastering Python 3</td>\n",
       "      <td>David Beazley</td>\n",
       "      <td>4.5</td>\n",
       "      <td>$23.49</td>\n",
       "      <td>https://www.amazon.com/Python-Cookbook-Recipes...</td>\n",
       "    </tr>\n",
       "    <tr>\n",
       "      <th>3</th>\n",
       "      <td>Python Crash Course, 2nd Edition: A Hands-On, ...</td>\n",
       "      <td>Eric Matthes</td>\n",
       "      <td>4.7</td>\n",
       "      <td>$23.99</td>\n",
       "      <td>https://www.amazon.com/Python-Crash-Course-Eri...</td>\n",
       "    </tr>\n",
       "    <tr>\n",
       "      <th>4</th>\n",
       "      <td>Python for Data Analysis: Data Wrangling with ...</td>\n",
       "      <td>Wes McKinney</td>\n",
       "      <td>4.5</td>\n",
       "      <td>$34.21</td>\n",
       "      <td>https://www.amazon.com/Python-Data-Analysis-Wr...</td>\n",
       "    </tr>\n",
       "    <tr>\n",
       "      <th>5</th>\n",
       "      <td>Fluent Python: Clear, Concise, and Effective P...</td>\n",
       "      <td>Luciano Ramalho</td>\n",
       "      <td>4.6</td>\n",
       "      <td>$29.99</td>\n",
       "      <td>https://www.amazon.com/Fluent-Python-Concise-E...</td>\n",
       "    </tr>\n",
       "    <tr>\n",
       "      <th>6</th>\n",
       "      <td>Automate the Boring Stuff with Python, 2nd Edi...</td>\n",
       "      <td>Al Sweigart</td>\n",
       "      <td>4.8</td>\n",
       "      <td>$23.99</td>\n",
       "      <td>https://www.amazon.com/Automate-Boring-Stuff-P...</td>\n",
       "    </tr>\n",
       "    <tr>\n",
       "      <th>7</th>\n",
       "      <td>Python Data Science Handbook: Essential Tools ...</td>\n",
       "      <td>Jake VanderPlas</td>\n",
       "      <td>4.5</td>\n",
       "      <td>$34.99</td>\n",
       "      <td>https://www.amazon.com/Python-Data-Science-Han...</td>\n",
       "    </tr>\n",
       "    <tr>\n",
       "      <th>8</th>\n",
       "      <td>Introducing Python: Modern Computing in Simple...</td>\n",
       "      <td>Bill Lubanovic</td>\n",
       "      <td>4.7</td>\n",
       "      <td>$24.99</td>\n",
       "      <td>https://www.amazon.com/Introducing-Python-Mode...</td>\n",
       "    </tr>\n",
       "    <tr>\n",
       "      <th>9</th>\n",
       "      <td>Hands-On Machine Learning with Scikit-Learn, K...</td>\n",
       "      <td>Aurélien Géron</td>\n",
       "      <td>4.8</td>\n",
       "      <td>$37.49</td>\n",
       "      <td>https://www.amazon.com/Hands-Machine-Learning-...</td>\n",
       "    </tr>\n",
       "    <tr>\n",
       "      <th>10</th>\n",
       "      <td>Introduction to Machine Learning with Python: ...</td>\n",
       "      <td>Andreas C. Müller</td>\n",
       "      <td>4.5</td>\n",
       "      <td>$29.99</td>\n",
       "      <td>https://www.amazon.com/Introduction-Machine-Le...</td>\n",
       "    </tr>\n",
       "    <tr>\n",
       "      <th>11</th>\n",
       "      <td>Think Python: How to Think Like a Computer Sci...</td>\n",
       "      <td>Allen B. Downey</td>\n",
       "      <td>4.5</td>\n",
       "      <td>$23.49</td>\n",
       "      <td>https://www.amazon.com/Think-Python-Like-Compu...</td>\n",
       "    </tr>\n",
       "  </tbody>\n",
       "</table>\n",
       "</div>"
      ],
      "text/plain": [
       "                                                title            authors  \\\n",
       "0   Programming Python: Powerful Object-Oriented P...          Mark Lutz   \n",
       "1   Python Pocket Reference: Python In Your Pocket...          Mark Lutz   \n",
       "2     Python Cookbook: Recipes for Mastering Python 3      David Beazley   \n",
       "3   Python Crash Course, 2nd Edition: A Hands-On, ...       Eric Matthes   \n",
       "4   Python for Data Analysis: Data Wrangling with ...       Wes McKinney   \n",
       "5   Fluent Python: Clear, Concise, and Effective P...    Luciano Ramalho   \n",
       "6   Automate the Boring Stuff with Python, 2nd Edi...        Al Sweigart   \n",
       "7   Python Data Science Handbook: Essential Tools ...    Jake VanderPlas   \n",
       "8   Introducing Python: Modern Computing in Simple...     Bill Lubanovic   \n",
       "9   Hands-On Machine Learning with Scikit-Learn, K...     Aurélien Géron   \n",
       "10  Introduction to Machine Learning with Python: ...  Andreas C. Müller   \n",
       "11  Think Python: How to Think Like a Computer Sci...    Allen B. Downey   \n",
       "\n",
       "   rating   price                                                url  \n",
       "0     4.5  $37.49  https://www.amazon.com/Programming-Python-Powe...  \n",
       "1     4.5  $10.99  https://www.amazon.com/Python-Pocket-Reference...  \n",
       "2     4.5  $23.49  https://www.amazon.com/Python-Cookbook-Recipes...  \n",
       "3     4.7  $23.99  https://www.amazon.com/Python-Crash-Course-Eri...  \n",
       "4     4.5  $34.21  https://www.amazon.com/Python-Data-Analysis-Wr...  \n",
       "5     4.6  $29.99  https://www.amazon.com/Fluent-Python-Concise-E...  \n",
       "6     4.8  $23.99  https://www.amazon.com/Automate-Boring-Stuff-P...  \n",
       "7     4.5  $34.99  https://www.amazon.com/Python-Data-Science-Han...  \n",
       "8     4.7  $24.99  https://www.amazon.com/Introducing-Python-Mode...  \n",
       "9     4.8  $37.49  https://www.amazon.com/Hands-Machine-Learning-...  \n",
       "10    4.5  $29.99  https://www.amazon.com/Introduction-Machine-Le...  \n",
       "11    4.5  $23.49  https://www.amazon.com/Think-Python-Like-Compu...  "
      ]
     },
     "execution_count": 22,
     "metadata": {},
     "output_type": "execute_result"
    }
   ],
   "source": [
    "import pandas as pd\n",
    "products = pd.DataFrame({'title': title_list, 'authors': authors_list, 'rating': rating_list,\n",
    "                        'price': price_list, 'url': url_list})\n",
    "\n",
    "products"
   ]
  },
  {
   "cell_type": "markdown",
   "metadata": {},
   "source": [
    "When we are finished with the browser session, remember to close the browser window:"
   ]
  },
  {
   "cell_type": "code",
   "execution_count": 23,
   "metadata": {},
   "outputs": [],
   "source": [
    "driver.close()"
   ]
  },
  {
   "cell_type": "code",
   "execution_count": null,
   "metadata": {},
   "outputs": [],
   "source": []
  }
 ],
 "metadata": {
  "kernelspec": {
   "display_name": "Python 3",
   "language": "python",
   "name": "python3"
  },
  "language_info": {
   "codemirror_mode": {
    "name": "ipython",
    "version": 3
   },
   "file_extension": ".py",
   "mimetype": "text/x-python",
   "name": "python",
   "nbconvert_exporter": "python",
   "pygments_lexer": "ipython3",
   "version": "3.8.3"
  }
 },
 "nbformat": 4,
 "nbformat_minor": 4
}
